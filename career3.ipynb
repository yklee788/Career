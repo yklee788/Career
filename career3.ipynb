{
 "cells": [
  {
   "cell_type": "markdown",
   "metadata": {},
   "source": [
    "# 대학생 진로 준비도 검사 통계처리"
   ]
  },
  {
   "cell_type": "code",
   "execution_count": 164,
   "metadata": {},
   "outputs": [],
   "source": [
    "import numpy as np\n",
    "import pandas as pd\n",
    "import matplotlib.pyplot as plt\n",
    "import seaborn as sns\n",
    "import statsmodels.api as sm\n",
    "from statsmodels.formula.api import ols\n",
    "from matplotlib import font_manager, rc\n",
    "from sklearn.preprocessing import LabelEncoder\n",
    "from sklearn.cluster import KMeans\n",
    "from sklearn.cluster import MeanShift\n",
    "from sklearn import metrics\n",
    "from scipy.spatial.distance import cdist\n",
    "from scipy.cluster.hierarchy import dendrogram, linkage\n",
    "from sklearn.metrics import silhouette_samples, silhouette_score\n",
    "from sklearn.decomposition import PCA\n",
    "from sklearn.preprocessing import StandardScaler\n",
    "from sklearn.decomposition import FactorAnalysis"
   ]
  },
  {
   "cell_type": "code",
   "execution_count": 165,
   "metadata": {},
   "outputs": [],
   "source": [
    "font_name = font_manager.FontProperties(fname=\"c:/Windows/Fonts/malgun.ttf\").get_name()\n",
    "rc('font', family=font_name)\n",
    "#rc={'font.family': font_name, 'font.size': 32, 'axes.labelsize': 32, 'legend.fontsize': 32.0, 'axes.titlesize': 32, 'xtick.labelsize': 32, 'ytick.labelsize': 32}\n",
    "fig_size=plt.rcParams[\"figure.figsize\"]\n",
    "#fig size in inches\n",
    "fig_size[0]=10\n",
    "fig_size[1]=8\n",
    "#sns.set_context(\"talk\", rc=rc)   \n",
    "#df = pd.read_csv(\"C:/Users/suer/Dropbox/job/career.csv\", engine='python')\n",
    "xl = pd.ExcelFile(\"C:/Users/suer/Dropbox/job/career.xlsx\")\n",
    "df = xl.parse('career')\n",
    "score = {1:5,2:4,3:3,4:2,5:1}\n",
    "scorecol = df.columns[:-4]\n",
    "for x in scorecol:\n",
    "    df[x] = df[x].map(score)"
   ]
  },
  {
   "cell_type": "code",
   "execution_count": 166,
   "metadata": {},
   "outputs": [],
   "source": [
    "#df['성별'] = df['성별'].map({1:'남학생', 2:'여학생'})"
   ]
  },
  {
   "cell_type": "code",
   "execution_count": 167,
   "metadata": {},
   "outputs": [
    {
     "data": {
      "text/html": [
       "<div>\n",
       "<style scoped>\n",
       "    .dataframe tbody tr th:only-of-type {\n",
       "        vertical-align: middle;\n",
       "    }\n",
       "\n",
       "    .dataframe tbody tr th {\n",
       "        vertical-align: top;\n",
       "    }\n",
       "\n",
       "    .dataframe thead th {\n",
       "        text-align: right;\n",
       "    }\n",
       "</style>\n",
       "<table border=\"1\" class=\"dataframe\">\n",
       "  <thead>\n",
       "    <tr style=\"text-align: right;\">\n",
       "      <th></th>\n",
       "      <th>좋아하는일</th>\n",
       "      <th>필요한능력</th>\n",
       "      <th>진로결정</th>\n",
       "      <th>진로도움요청</th>\n",
       "      <th>취업기관방문</th>\n",
       "      <th>능력준비</th>\n",
       "      <th>자신인지</th>\n",
       "      <th>전공인지</th>\n",
       "      <th>진로결정불변</th>\n",
       "      <th>결정회피</th>\n",
       "      <th>...</th>\n",
       "      <th>구인정보확인</th>\n",
       "      <th>임금환경인지</th>\n",
       "      <th>취업도움요청</th>\n",
       "      <th>면접질문대응</th>\n",
       "      <th>결정두려움</th>\n",
       "      <th>이력서작성능력</th>\n",
       "      <th>학과</th>\n",
       "      <th>성별</th>\n",
       "      <th>연령</th>\n",
       "      <th>학년</th>\n",
       "    </tr>\n",
       "  </thead>\n",
       "  <tbody>\n",
       "    <tr>\n",
       "      <th>0</th>\n",
       "      <td>4</td>\n",
       "      <td>4</td>\n",
       "      <td>4.0</td>\n",
       "      <td>4.0</td>\n",
       "      <td>4</td>\n",
       "      <td>4</td>\n",
       "      <td>4</td>\n",
       "      <td>4.0</td>\n",
       "      <td>4</td>\n",
       "      <td>4</td>\n",
       "      <td>...</td>\n",
       "      <td>4</td>\n",
       "      <td>4</td>\n",
       "      <td>4.0</td>\n",
       "      <td>4</td>\n",
       "      <td>4</td>\n",
       "      <td>4</td>\n",
       "      <td>패션의류학과</td>\n",
       "      <td>1</td>\n",
       "      <td>24</td>\n",
       "      <td>4</td>\n",
       "    </tr>\n",
       "    <tr>\n",
       "      <th>1</th>\n",
       "      <td>3</td>\n",
       "      <td>3</td>\n",
       "      <td>3.0</td>\n",
       "      <td>5.0</td>\n",
       "      <td>3</td>\n",
       "      <td>3</td>\n",
       "      <td>3</td>\n",
       "      <td>5.0</td>\n",
       "      <td>3</td>\n",
       "      <td>3</td>\n",
       "      <td>...</td>\n",
       "      <td>4</td>\n",
       "      <td>5</td>\n",
       "      <td>4.0</td>\n",
       "      <td>1</td>\n",
       "      <td>4</td>\n",
       "      <td>4</td>\n",
       "      <td>수학교육</td>\n",
       "      <td>2</td>\n",
       "      <td>22</td>\n",
       "      <td>3</td>\n",
       "    </tr>\n",
       "    <tr>\n",
       "      <th>2</th>\n",
       "      <td>3</td>\n",
       "      <td>3</td>\n",
       "      <td>1.0</td>\n",
       "      <td>3.0</td>\n",
       "      <td>2</td>\n",
       "      <td>3</td>\n",
       "      <td>2</td>\n",
       "      <td>2.0</td>\n",
       "      <td>1</td>\n",
       "      <td>4</td>\n",
       "      <td>...</td>\n",
       "      <td>4</td>\n",
       "      <td>3</td>\n",
       "      <td>3.0</td>\n",
       "      <td>3</td>\n",
       "      <td>4</td>\n",
       "      <td>3</td>\n",
       "      <td>9999</td>\n",
       "      <td>9999</td>\n",
       "      <td>9999</td>\n",
       "      <td>9999</td>\n",
       "    </tr>\n",
       "    <tr>\n",
       "      <th>3</th>\n",
       "      <td>4</td>\n",
       "      <td>4</td>\n",
       "      <td>2.0</td>\n",
       "      <td>4.0</td>\n",
       "      <td>4</td>\n",
       "      <td>4</td>\n",
       "      <td>4</td>\n",
       "      <td>2.0</td>\n",
       "      <td>2</td>\n",
       "      <td>4</td>\n",
       "      <td>...</td>\n",
       "      <td>5</td>\n",
       "      <td>5</td>\n",
       "      <td>3.0</td>\n",
       "      <td>5</td>\n",
       "      <td>4</td>\n",
       "      <td>4</td>\n",
       "      <td>금융보험</td>\n",
       "      <td>1</td>\n",
       "      <td>23</td>\n",
       "      <td>4</td>\n",
       "    </tr>\n",
       "    <tr>\n",
       "      <th>4</th>\n",
       "      <td>4</td>\n",
       "      <td>4</td>\n",
       "      <td>4.0</td>\n",
       "      <td>3.0</td>\n",
       "      <td>3</td>\n",
       "      <td>4</td>\n",
       "      <td>5</td>\n",
       "      <td>4.0</td>\n",
       "      <td>4</td>\n",
       "      <td>2</td>\n",
       "      <td>...</td>\n",
       "      <td>3</td>\n",
       "      <td>3</td>\n",
       "      <td>4.0</td>\n",
       "      <td>4</td>\n",
       "      <td>2</td>\n",
       "      <td>2</td>\n",
       "      <td>금융보험</td>\n",
       "      <td>1</td>\n",
       "      <td>24</td>\n",
       "      <td>4</td>\n",
       "    </tr>\n",
       "  </tbody>\n",
       "</table>\n",
       "<p>5 rows × 39 columns</p>\n",
       "</div>"
      ],
      "text/plain": [
       "   좋아하는일  필요한능력  진로결정  진로도움요청  취업기관방문  능력준비  자신인지  전공인지  진로결정불변  결정회피  ...   \\\n",
       "0      4      4   4.0     4.0       4     4     4   4.0       4     4  ...    \n",
       "1      3      3   3.0     5.0       3     3     3   5.0       3     3  ...    \n",
       "2      3      3   1.0     3.0       2     3     2   2.0       1     4  ...    \n",
       "3      4      4   2.0     4.0       4     4     4   2.0       2     4  ...    \n",
       "4      4      4   4.0     3.0       3     4     5   4.0       4     2  ...    \n",
       "\n",
       "   구인정보확인  임금환경인지  취업도움요청  면접질문대응  결정두려움  이력서작성능력      학과    성별    연령    학년  \n",
       "0       4       4     4.0       4      4        4  패션의류학과     1    24     4  \n",
       "1       4       5     4.0       1      4        4    수학교육     2    22     3  \n",
       "2       4       3     3.0       3      4        3    9999  9999  9999  9999  \n",
       "3       5       5     3.0       5      4        4    금융보험     1    23     4  \n",
       "4       3       3     4.0       4      2        2    금융보험     1    24     4  \n",
       "\n",
       "[5 rows x 39 columns]"
      ]
     },
     "execution_count": 167,
     "metadata": {},
     "output_type": "execute_result"
    }
   ],
   "source": [
    "df.head()"
   ]
  },
  {
   "cell_type": "code",
   "execution_count": 168,
   "metadata": {},
   "outputs": [
    {
     "data": {
      "text/plain": [
       "(125, 39)"
      ]
     },
     "execution_count": 168,
     "metadata": {},
     "output_type": "execute_result"
    }
   ],
   "source": [
    "df.shape"
   ]
  },
  {
   "cell_type": "code",
   "execution_count": 169,
   "metadata": {},
   "outputs": [],
   "source": [
    "df = df.replace(9999, np.NaN)\n",
    "df.dropna(axis=0, how='any', inplace=True)"
   ]
  },
  {
   "cell_type": "code",
   "execution_count": 170,
   "metadata": {},
   "outputs": [
    {
     "data": {
      "text/html": [
       "<div>\n",
       "<style scoped>\n",
       "    .dataframe tbody tr th:only-of-type {\n",
       "        vertical-align: middle;\n",
       "    }\n",
       "\n",
       "    .dataframe tbody tr th {\n",
       "        vertical-align: top;\n",
       "    }\n",
       "\n",
       "    .dataframe thead th {\n",
       "        text-align: right;\n",
       "    }\n",
       "</style>\n",
       "<table border=\"1\" class=\"dataframe\">\n",
       "  <thead>\n",
       "    <tr style=\"text-align: right;\">\n",
       "      <th></th>\n",
       "      <th>좋아하는일</th>\n",
       "      <th>필요한능력</th>\n",
       "      <th>진로결정</th>\n",
       "      <th>진로도움요청</th>\n",
       "      <th>취업기관방문</th>\n",
       "      <th>능력준비</th>\n",
       "      <th>자신인지</th>\n",
       "      <th>전공인지</th>\n",
       "      <th>진로결정불변</th>\n",
       "      <th>결정회피</th>\n",
       "      <th>...</th>\n",
       "      <th>타인결정의존</th>\n",
       "      <th>구인정보확인</th>\n",
       "      <th>임금환경인지</th>\n",
       "      <th>취업도움요청</th>\n",
       "      <th>면접질문대응</th>\n",
       "      <th>결정두려움</th>\n",
       "      <th>이력서작성능력</th>\n",
       "      <th>성별</th>\n",
       "      <th>연령</th>\n",
       "      <th>학년</th>\n",
       "    </tr>\n",
       "  </thead>\n",
       "  <tbody>\n",
       "    <tr>\n",
       "      <th>count</th>\n",
       "      <td>114.000000</td>\n",
       "      <td>114.000000</td>\n",
       "      <td>114.000000</td>\n",
       "      <td>114.000000</td>\n",
       "      <td>114.000000</td>\n",
       "      <td>114.000000</td>\n",
       "      <td>114.000000</td>\n",
       "      <td>114.000000</td>\n",
       "      <td>114.000000</td>\n",
       "      <td>114.000000</td>\n",
       "      <td>...</td>\n",
       "      <td>114.000000</td>\n",
       "      <td>114.000000</td>\n",
       "      <td>114.000000</td>\n",
       "      <td>114.000000</td>\n",
       "      <td>114.000000</td>\n",
       "      <td>114.000000</td>\n",
       "      <td>114.000000</td>\n",
       "      <td>114.000000</td>\n",
       "      <td>114.000000</td>\n",
       "      <td>114.000000</td>\n",
       "    </tr>\n",
       "    <tr>\n",
       "      <th>mean</th>\n",
       "      <td>3.850877</td>\n",
       "      <td>3.842105</td>\n",
       "      <td>3.552632</td>\n",
       "      <td>3.859649</td>\n",
       "      <td>3.587719</td>\n",
       "      <td>3.464912</td>\n",
       "      <td>3.719298</td>\n",
       "      <td>3.850877</td>\n",
       "      <td>3.657895</td>\n",
       "      <td>2.929825</td>\n",
       "      <td>...</td>\n",
       "      <td>2.640351</td>\n",
       "      <td>3.324561</td>\n",
       "      <td>3.447368</td>\n",
       "      <td>3.614035</td>\n",
       "      <td>3.289474</td>\n",
       "      <td>2.991228</td>\n",
       "      <td>3.105263</td>\n",
       "      <td>1.570175</td>\n",
       "      <td>21.692982</td>\n",
       "      <td>2.964912</td>\n",
       "    </tr>\n",
       "    <tr>\n",
       "      <th>std</th>\n",
       "      <td>0.755305</td>\n",
       "      <td>0.685875</td>\n",
       "      <td>0.912956</td>\n",
       "      <td>0.739256</td>\n",
       "      <td>0.773584</td>\n",
       "      <td>0.864029</td>\n",
       "      <td>0.836224</td>\n",
       "      <td>0.743496</td>\n",
       "      <td>0.985101</td>\n",
       "      <td>1.028095</td>\n",
       "      <td>...</td>\n",
       "      <td>1.057022</td>\n",
       "      <td>0.945372</td>\n",
       "      <td>0.831803</td>\n",
       "      <td>0.722689</td>\n",
       "      <td>0.928637</td>\n",
       "      <td>0.963912</td>\n",
       "      <td>0.802302</td>\n",
       "      <td>0.497237</td>\n",
       "      <td>1.800330</td>\n",
       "      <td>0.808471</td>\n",
       "    </tr>\n",
       "    <tr>\n",
       "      <th>min</th>\n",
       "      <td>2.000000</td>\n",
       "      <td>2.000000</td>\n",
       "      <td>2.000000</td>\n",
       "      <td>1.000000</td>\n",
       "      <td>2.000000</td>\n",
       "      <td>2.000000</td>\n",
       "      <td>2.000000</td>\n",
       "      <td>2.000000</td>\n",
       "      <td>1.000000</td>\n",
       "      <td>1.000000</td>\n",
       "      <td>...</td>\n",
       "      <td>1.000000</td>\n",
       "      <td>1.000000</td>\n",
       "      <td>2.000000</td>\n",
       "      <td>2.000000</td>\n",
       "      <td>1.000000</td>\n",
       "      <td>1.000000</td>\n",
       "      <td>1.000000</td>\n",
       "      <td>1.000000</td>\n",
       "      <td>18.000000</td>\n",
       "      <td>1.000000</td>\n",
       "    </tr>\n",
       "    <tr>\n",
       "      <th>25%</th>\n",
       "      <td>3.000000</td>\n",
       "      <td>3.000000</td>\n",
       "      <td>3.000000</td>\n",
       "      <td>3.000000</td>\n",
       "      <td>3.000000</td>\n",
       "      <td>3.000000</td>\n",
       "      <td>3.000000</td>\n",
       "      <td>3.000000</td>\n",
       "      <td>3.000000</td>\n",
       "      <td>2.000000</td>\n",
       "      <td>...</td>\n",
       "      <td>2.000000</td>\n",
       "      <td>3.000000</td>\n",
       "      <td>3.000000</td>\n",
       "      <td>3.000000</td>\n",
       "      <td>3.000000</td>\n",
       "      <td>2.000000</td>\n",
       "      <td>3.000000</td>\n",
       "      <td>1.000000</td>\n",
       "      <td>20.000000</td>\n",
       "      <td>2.000000</td>\n",
       "    </tr>\n",
       "    <tr>\n",
       "      <th>50%</th>\n",
       "      <td>4.000000</td>\n",
       "      <td>4.000000</td>\n",
       "      <td>4.000000</td>\n",
       "      <td>4.000000</td>\n",
       "      <td>4.000000</td>\n",
       "      <td>3.500000</td>\n",
       "      <td>4.000000</td>\n",
       "      <td>4.000000</td>\n",
       "      <td>4.000000</td>\n",
       "      <td>3.000000</td>\n",
       "      <td>...</td>\n",
       "      <td>3.000000</td>\n",
       "      <td>3.000000</td>\n",
       "      <td>3.000000</td>\n",
       "      <td>4.000000</td>\n",
       "      <td>3.000000</td>\n",
       "      <td>3.000000</td>\n",
       "      <td>3.000000</td>\n",
       "      <td>2.000000</td>\n",
       "      <td>21.000000</td>\n",
       "      <td>3.000000</td>\n",
       "    </tr>\n",
       "    <tr>\n",
       "      <th>75%</th>\n",
       "      <td>4.000000</td>\n",
       "      <td>4.000000</td>\n",
       "      <td>4.000000</td>\n",
       "      <td>4.000000</td>\n",
       "      <td>4.000000</td>\n",
       "      <td>4.000000</td>\n",
       "      <td>4.000000</td>\n",
       "      <td>4.000000</td>\n",
       "      <td>4.000000</td>\n",
       "      <td>4.000000</td>\n",
       "      <td>...</td>\n",
       "      <td>3.000000</td>\n",
       "      <td>4.000000</td>\n",
       "      <td>4.000000</td>\n",
       "      <td>4.000000</td>\n",
       "      <td>4.000000</td>\n",
       "      <td>4.000000</td>\n",
       "      <td>3.750000</td>\n",
       "      <td>2.000000</td>\n",
       "      <td>23.000000</td>\n",
       "      <td>4.000000</td>\n",
       "    </tr>\n",
       "    <tr>\n",
       "      <th>max</th>\n",
       "      <td>5.000000</td>\n",
       "      <td>5.000000</td>\n",
       "      <td>5.000000</td>\n",
       "      <td>5.000000</td>\n",
       "      <td>5.000000</td>\n",
       "      <td>5.000000</td>\n",
       "      <td>5.000000</td>\n",
       "      <td>5.000000</td>\n",
       "      <td>5.000000</td>\n",
       "      <td>5.000000</td>\n",
       "      <td>...</td>\n",
       "      <td>5.000000</td>\n",
       "      <td>5.000000</td>\n",
       "      <td>5.000000</td>\n",
       "      <td>5.000000</td>\n",
       "      <td>5.000000</td>\n",
       "      <td>5.000000</td>\n",
       "      <td>5.000000</td>\n",
       "      <td>2.000000</td>\n",
       "      <td>28.000000</td>\n",
       "      <td>4.000000</td>\n",
       "    </tr>\n",
       "  </tbody>\n",
       "</table>\n",
       "<p>8 rows × 38 columns</p>\n",
       "</div>"
      ],
      "text/plain": [
       "            좋아하는일       필요한능력        진로결정      진로도움요청      취업기관방문        능력준비  \\\n",
       "count  114.000000  114.000000  114.000000  114.000000  114.000000  114.000000   \n",
       "mean     3.850877    3.842105    3.552632    3.859649    3.587719    3.464912   \n",
       "std      0.755305    0.685875    0.912956    0.739256    0.773584    0.864029   \n",
       "min      2.000000    2.000000    2.000000    1.000000    2.000000    2.000000   \n",
       "25%      3.000000    3.000000    3.000000    3.000000    3.000000    3.000000   \n",
       "50%      4.000000    4.000000    4.000000    4.000000    4.000000    3.500000   \n",
       "75%      4.000000    4.000000    4.000000    4.000000    4.000000    4.000000   \n",
       "max      5.000000    5.000000    5.000000    5.000000    5.000000    5.000000   \n",
       "\n",
       "             자신인지        전공인지      진로결정불변        결정회피     ...          타인결정의존  \\\n",
       "count  114.000000  114.000000  114.000000  114.000000     ...      114.000000   \n",
       "mean     3.719298    3.850877    3.657895    2.929825     ...        2.640351   \n",
       "std      0.836224    0.743496    0.985101    1.028095     ...        1.057022   \n",
       "min      2.000000    2.000000    1.000000    1.000000     ...        1.000000   \n",
       "25%      3.000000    3.000000    3.000000    2.000000     ...        2.000000   \n",
       "50%      4.000000    4.000000    4.000000    3.000000     ...        3.000000   \n",
       "75%      4.000000    4.000000    4.000000    4.000000     ...        3.000000   \n",
       "max      5.000000    5.000000    5.000000    5.000000     ...        5.000000   \n",
       "\n",
       "           구인정보확인      임금환경인지      취업도움요청      면접질문대응       결정두려움     이력서작성능력  \\\n",
       "count  114.000000  114.000000  114.000000  114.000000  114.000000  114.000000   \n",
       "mean     3.324561    3.447368    3.614035    3.289474    2.991228    3.105263   \n",
       "std      0.945372    0.831803    0.722689    0.928637    0.963912    0.802302   \n",
       "min      1.000000    2.000000    2.000000    1.000000    1.000000    1.000000   \n",
       "25%      3.000000    3.000000    3.000000    3.000000    2.000000    3.000000   \n",
       "50%      3.000000    3.000000    4.000000    3.000000    3.000000    3.000000   \n",
       "75%      4.000000    4.000000    4.000000    4.000000    4.000000    3.750000   \n",
       "max      5.000000    5.000000    5.000000    5.000000    5.000000    5.000000   \n",
       "\n",
       "               성별          연령          학년  \n",
       "count  114.000000  114.000000  114.000000  \n",
       "mean     1.570175   21.692982    2.964912  \n",
       "std      0.497237    1.800330    0.808471  \n",
       "min      1.000000   18.000000    1.000000  \n",
       "25%      1.000000   20.000000    2.000000  \n",
       "50%      2.000000   21.000000    3.000000  \n",
       "75%      2.000000   23.000000    4.000000  \n",
       "max      2.000000   28.000000    4.000000  \n",
       "\n",
       "[8 rows x 38 columns]"
      ]
     },
     "execution_count": 170,
     "metadata": {},
     "output_type": "execute_result"
    }
   ],
   "source": [
    "df.describe()"
   ]
  },
  {
   "cell_type": "code",
   "execution_count": 171,
   "metadata": {},
   "outputs": [
    {
     "data": {
      "text/plain": [
       "좋아하는일         3.850877\n",
       "필요한능력         3.842105\n",
       "진로결정          3.552632\n",
       "진로도움요청        3.859649\n",
       "취업기관방문        3.587719\n",
       "능력준비          3.464912\n",
       "자신인지          3.719298\n",
       "전공인지          3.850877\n",
       "진로결정불변        3.657895\n",
       "결정회피          2.929825\n",
       "이력서작성인지       2.903509\n",
       "장점인지          3.385965\n",
       "직업전망인지        3.587719\n",
       "결정후회          2.859649\n",
       "취업정보문의        3.596491\n",
       "가치인지          3.868421\n",
       "관심직업인지        3.842105\n",
       "진로만족          3.543860\n",
       "결정경험없음        2.543860\n",
       "인사담당자문의       3.280702\n",
       "자기소개서작성능력     3.473684\n",
       "즐거운일인지        3.771930\n",
       "진로설명          3.824561\n",
       "결과두려움         3.043860\n",
       "어려움도움요청       3.666667\n",
       "면접자신감         3.412281\n",
       "전공직업인지        3.473684\n",
       "진로계획          3.324561\n",
       "타인결정의존        2.640351\n",
       "구인정보확인        3.324561\n",
       "임금환경인지        3.447368\n",
       "취업도움요청        3.614035\n",
       "면접질문대응        3.289474\n",
       "결정두려움         2.991228\n",
       "이력서작성능력       3.105263\n",
       "성별            1.570175\n",
       "연령           21.692982\n",
       "학년            2.964912\n",
       "dtype: float64"
      ]
     },
     "execution_count": 171,
     "metadata": {},
     "output_type": "execute_result"
    }
   ],
   "source": [
    "df.mean()"
   ]
  },
  {
   "cell_type": "code",
   "execution_count": 240,
   "metadata": {},
   "outputs": [
    {
     "data": {
      "text/html": [
       "<div>\n",
       "<style scoped>\n",
       "    .dataframe tbody tr th:only-of-type {\n",
       "        vertical-align: middle;\n",
       "    }\n",
       "\n",
       "    .dataframe tbody tr th {\n",
       "        vertical-align: top;\n",
       "    }\n",
       "\n",
       "    .dataframe thead th {\n",
       "        text-align: right;\n",
       "    }\n",
       "</style>\n",
       "<table border=\"1\" class=\"dataframe\">\n",
       "  <thead>\n",
       "    <tr style=\"text-align: right;\">\n",
       "      <th></th>\n",
       "      <th>진로결정</th>\n",
       "      <th>2.0</th>\n",
       "      <th>3.0</th>\n",
       "      <th>4.0</th>\n",
       "      <th>5.0</th>\n",
       "    </tr>\n",
       "    <tr>\n",
       "      <th>성별</th>\n",
       "      <th>학년</th>\n",
       "      <th></th>\n",
       "      <th></th>\n",
       "      <th></th>\n",
       "      <th></th>\n",
       "    </tr>\n",
       "  </thead>\n",
       "  <tbody>\n",
       "    <tr>\n",
       "      <th rowspan=\"3\" valign=\"top\">1.0</th>\n",
       "      <th>2.0</th>\n",
       "      <td>0.000000</td>\n",
       "      <td>0.615385</td>\n",
       "      <td>0.307692</td>\n",
       "      <td>0.076923</td>\n",
       "    </tr>\n",
       "    <tr>\n",
       "      <th>3.0</th>\n",
       "      <td>0.428571</td>\n",
       "      <td>0.214286</td>\n",
       "      <td>0.285714</td>\n",
       "      <td>0.071429</td>\n",
       "    </tr>\n",
       "    <tr>\n",
       "      <th>4.0</th>\n",
       "      <td>0.090909</td>\n",
       "      <td>0.181818</td>\n",
       "      <td>0.545455</td>\n",
       "      <td>0.181818</td>\n",
       "    </tr>\n",
       "    <tr>\n",
       "      <th rowspan=\"4\" valign=\"top\">2.0</th>\n",
       "      <th>1.0</th>\n",
       "      <td>0.000000</td>\n",
       "      <td>0.500000</td>\n",
       "      <td>0.500000</td>\n",
       "      <td>0.000000</td>\n",
       "    </tr>\n",
       "    <tr>\n",
       "      <th>2.0</th>\n",
       "      <td>0.150000</td>\n",
       "      <td>0.400000</td>\n",
       "      <td>0.250000</td>\n",
       "      <td>0.200000</td>\n",
       "    </tr>\n",
       "    <tr>\n",
       "      <th>3.0</th>\n",
       "      <td>0.093750</td>\n",
       "      <td>0.375000</td>\n",
       "      <td>0.343750</td>\n",
       "      <td>0.187500</td>\n",
       "    </tr>\n",
       "    <tr>\n",
       "      <th>4.0</th>\n",
       "      <td>0.090909</td>\n",
       "      <td>0.272727</td>\n",
       "      <td>0.454545</td>\n",
       "      <td>0.181818</td>\n",
       "    </tr>\n",
       "  </tbody>\n",
       "</table>\n",
       "</div>"
      ],
      "text/plain": [
       "진로결정          2.0       3.0       4.0       5.0\n",
       "성별  학년                                         \n",
       "1.0 2.0  0.000000  0.615385  0.307692  0.076923\n",
       "    3.0  0.428571  0.214286  0.285714  0.071429\n",
       "    4.0  0.090909  0.181818  0.545455  0.181818\n",
       "2.0 1.0  0.000000  0.500000  0.500000  0.000000\n",
       "    2.0  0.150000  0.400000  0.250000  0.200000\n",
       "    3.0  0.093750  0.375000  0.343750  0.187500\n",
       "    4.0  0.090909  0.272727  0.454545  0.181818"
      ]
     },
     "execution_count": 240,
     "metadata": {},
     "output_type": "execute_result"
    }
   ],
   "source": [
    "pd.crosstab([df['성별'],df['학년']], df['진로결정'],normalize='index')"
   ]
  },
  {
   "cell_type": "code",
   "execution_count": 172,
   "metadata": {},
   "outputs": [],
   "source": [
    "dfval = df.iloc[:,:-4]"
   ]
  },
  {
   "cell_type": "code",
   "execution_count": 173,
   "metadata": {},
   "outputs": [
    {
     "name": "stdout",
     "output_type": "stream",
     "text": [
      "(114, 35) (114, 39)\n"
     ]
    }
   ],
   "source": [
    "print(dfval.shape, df.shape)"
   ]
  },
  {
   "cell_type": "code",
   "execution_count": 174,
   "metadata": {},
   "outputs": [
    {
     "data": {
      "text/plain": [
       "좋아하는일        0\n",
       "필요한능력        0\n",
       "진로결정         0\n",
       "진로도움요청       0\n",
       "취업기관방문       0\n",
       "능력준비         0\n",
       "자신인지         0\n",
       "전공인지         0\n",
       "진로결정불변       0\n",
       "결정회피         0\n",
       "이력서작성인지      0\n",
       "장점인지         0\n",
       "직업전망인지       0\n",
       "결정후회         0\n",
       "취업정보문의       0\n",
       "가치인지         0\n",
       "관심직업인지       0\n",
       "진로만족         0\n",
       "결정경험없음       0\n",
       "인사담당자문의      0\n",
       "자기소개서작성능력    0\n",
       "즐거운일인지       0\n",
       "진로설명         0\n",
       "결과두려움        0\n",
       "어려움도움요청      0\n",
       "면접자신감        0\n",
       "전공직업인지       0\n",
       "진로계획         0\n",
       "타인결정의존       0\n",
       "구인정보확인       0\n",
       "임금환경인지       0\n",
       "취업도움요청       0\n",
       "면접질문대응       0\n",
       "결정두려움        0\n",
       "이력서작성능력      0\n",
       "dtype: int64"
      ]
     },
     "execution_count": 174,
     "metadata": {},
     "output_type": "execute_result"
    }
   ],
   "source": []
  },
  {
   "cell_type": "code",
   "execution_count": 175,
   "metadata": {},
   "outputs": [],
   "source": [
    "colmean = dfval.mean()"
   ]
  },
  {
   "cell_type": "code",
   "execution_count": 176,
   "metadata": {},
   "outputs": [],
   "source": [
    "meandf = pd.DataFrame({'문항':colmean.index, '평균':colmean.values})"
   ]
  },
  {
   "cell_type": "code",
   "execution_count": 177,
   "metadata": {},
   "outputs": [
    {
     "data": {
      "text/html": [
       "<div>\n",
       "<style scoped>\n",
       "    .dataframe tbody tr th:only-of-type {\n",
       "        vertical-align: middle;\n",
       "    }\n",
       "\n",
       "    .dataframe tbody tr th {\n",
       "        vertical-align: top;\n",
       "    }\n",
       "\n",
       "    .dataframe thead th {\n",
       "        text-align: right;\n",
       "    }\n",
       "</style>\n",
       "<table border=\"1\" class=\"dataframe\">\n",
       "  <thead>\n",
       "    <tr style=\"text-align: right;\">\n",
       "      <th></th>\n",
       "      <th>문항</th>\n",
       "      <th>평균</th>\n",
       "    </tr>\n",
       "  </thead>\n",
       "  <tbody>\n",
       "    <tr>\n",
       "      <th>0</th>\n",
       "      <td>좋아하는일</td>\n",
       "      <td>3.850877</td>\n",
       "    </tr>\n",
       "    <tr>\n",
       "      <th>1</th>\n",
       "      <td>필요한능력</td>\n",
       "      <td>3.842105</td>\n",
       "    </tr>\n",
       "    <tr>\n",
       "      <th>2</th>\n",
       "      <td>진로결정</td>\n",
       "      <td>3.552632</td>\n",
       "    </tr>\n",
       "    <tr>\n",
       "      <th>3</th>\n",
       "      <td>진로도움요청</td>\n",
       "      <td>3.859649</td>\n",
       "    </tr>\n",
       "    <tr>\n",
       "      <th>4</th>\n",
       "      <td>취업기관방문</td>\n",
       "      <td>3.587719</td>\n",
       "    </tr>\n",
       "  </tbody>\n",
       "</table>\n",
       "</div>"
      ],
      "text/plain": [
       "       문항        평균\n",
       "0   좋아하는일  3.850877\n",
       "1   필요한능력  3.842105\n",
       "2    진로결정  3.552632\n",
       "3  진로도움요청  3.859649\n",
       "4  취업기관방문  3.587719"
      ]
     },
     "execution_count": 177,
     "metadata": {},
     "output_type": "execute_result"
    }
   ],
   "source": [
    "meandf.head()"
   ]
  },
  {
   "cell_type": "code",
   "execution_count": 178,
   "metadata": {},
   "outputs": [
    {
     "data": {
      "image/png": "[encoded data removed]",
      "text/plain": [
       "<matplotlib.figure.Figure at 0x13de0438>"
      ]
     },
     "metadata": {},
     "output_type": "display_data"
    }
   ],
   "source": [
    "b = sns.barplot(x='평균', y='문항', data= meandf, palette='Set3')\n",
    "b.axes.set_title(\"문항별 평균값\",fontsize=20)\n",
    "b.set_xlabel(\"평균값\",fontsize=20)\n",
    "b.set_ylabel(\"문항\",fontsize=20)\n",
    "b.tick_params(labelsize=10)"
   ]
  },
  {
   "cell_type": "code",
   "execution_count": 179,
   "metadata": {},
   "outputs": [],
   "source": [
    "sortedmean = meandf.sort_values(by='평균', ascending=False)"
   ]
  },
  {
   "cell_type": "code",
   "execution_count": 180,
   "metadata": {},
   "outputs": [
    {
     "data": {
      "image/png": "[encoded data removed]",
      "text/plain": [
       "<matplotlib.figure.Figure at 0x119aa710>"
      ]
     },
     "metadata": {},
     "output_type": "display_data"
    }
   ],
   "source": [
    "b = sns.barplot(x='평균', y='문항', data= sortedmean, palette='Set3')\n",
    "b.axes.set_title(\"문항별 평균값\",fontsize=20)\n",
    "b.set_xlabel(\"평균값\",fontsize=20)\n",
    "b.set_ylabel(\"문항\",fontsize=20)\n",
    "b.tick_params(labelsize=10)"
   ]
  },
  {
   "cell_type": "code",
   "execution_count": 181,
   "metadata": {},
   "outputs": [
    {
     "data": {
      "text/plain": [
       "<seaborn.axisgrid.FacetGrid at 0x10f71d30>"
      ]
     },
     "execution_count": 181,
     "metadata": {},
     "output_type": "execute_result"
    },
    {
     "data": {
      "image/png": "[encoded data removed]",
      "text/plain": [
       "<matplotlib.figure.Figure at 0x11c4ed68>"
      ]
     },
     "metadata": {},
     "output_type": "display_data"
    }
   ],
   "source": [
    "sns.catplot(y='좋아하는일', col='성별', hue='학년', data=df, kind='count', palette='Set3')"
   ]
  },
  {
   "cell_type": "code",
   "execution_count": 182,
   "metadata": {},
   "outputs": [
    {
     "data": {
      "text/plain": [
       "<seaborn.axisgrid.FacetGrid at 0x1188ccf8>"
      ]
     },
     "execution_count": 182,
     "metadata": {},
     "output_type": "execute_result"
    },
    {
     "data": {
      "image/png": "[encoded data removed]",
      "text/plain": [
       "<matplotlib.figure.Figure at 0x13e41198>"
      ]
     },
     "metadata": {},
     "output_type": "display_data"
    }
   ],
   "source": [
    "sns.catplot(y='가치인지', col='성별', hue='학년', data=df, kind='count', palette='Set3')"
   ]
  },
  {
   "cell_type": "code",
   "execution_count": 183,
   "metadata": {},
   "outputs": [
    {
     "data": {
      "text/plain": [
       "<matplotlib.axes._subplots.AxesSubplot at 0x12487198>"
      ]
     },
     "execution_count": 183,
     "metadata": {},
     "output_type": "execute_result"
    },
    {
     "data": {
      "image/png": "[encoded data removed]",
      "text/plain": [
       "<matplotlib.figure.Figure at 0x11c0e898>"
      ]
     },
     "metadata": {},
     "output_type": "display_data"
    }
   ],
   "source": [
    "sns.barplot(x='성별',y='가치인지', hue='학년', data=df, palette=\"Set3\")"
   ]
  },
  {
   "cell_type": "code",
   "execution_count": 184,
   "metadata": {},
   "outputs": [
    {
     "data": {
      "text/plain": [
       "성별\n",
       "1.0    3.877551\n",
       "2.0    3.861538\n",
       "Name: 가치인지, dtype: float64"
      ]
     },
     "execution_count": 184,
     "metadata": {},
     "output_type": "execute_result"
    }
   ],
   "source": [
    "df.groupby('성별')['가치인지'].mean()"
   ]
  },
  {
   "cell_type": "code",
   "execution_count": 185,
   "metadata": {},
   "outputs": [
    {
     "data": {
      "text/plain": [
       "성별\n",
       "1.0    49\n",
       "2.0    65\n",
       "Name: 가치인지, dtype: int64"
      ]
     },
     "execution_count": 185,
     "metadata": {},
     "output_type": "execute_result"
    }
   ],
   "source": [
    "df.groupby('성별')['가치인지'].count()"
   ]
  },
  {
   "cell_type": "code",
   "execution_count": 186,
   "metadata": {},
   "outputs": [
    {
     "data": {
      "text/plain": [
       "<matplotlib.axes._subplots.AxesSubplot at 0x12555438>"
      ]
     },
     "execution_count": 186,
     "metadata": {},
     "output_type": "execute_result"
    },
    {
     "data": {
      "image/png": "[encoded data removed]",
      "text/plain": [
       "<matplotlib.figure.Figure at 0x1250f7f0>"
      ]
     },
     "metadata": {},
     "output_type": "display_data"
    }
   ],
   "source": [
    "sns.countplot(x='성별', data=df)"
   ]
  },
  {
   "cell_type": "code",
   "execution_count": 187,
   "metadata": {},
   "outputs": [
    {
     "data": {
      "text/plain": [
       "<matplotlib.axes._subplots.AxesSubplot at 0x13f70e10>"
      ]
     },
     "execution_count": 187,
     "metadata": {},
     "output_type": "execute_result"
    },
    {
     "data": {
      "image/png": "[encoded data removed]",
      "text/plain": [
       "<matplotlib.figure.Figure at 0x13fac630>"
      ]
     },
     "metadata": {},
     "output_type": "display_data"
    }
   ],
   "source": [
    "sns.countplot(x='성별', data=df, hue='학년')"
   ]
  },
  {
   "cell_type": "code",
   "execution_count": 188,
   "metadata": {},
   "outputs": [
    {
     "data": {
      "text/plain": [
       "<matplotlib.axes._subplots.AxesSubplot at 0x124e3eb8>"
      ]
     },
     "execution_count": 188,
     "metadata": {},
     "output_type": "execute_result"
    },
    {
     "data": {
      "image/png": "[encoded data removed]",
      "text/plain": [
       "<matplotlib.figure.Figure at 0x1243a208>"
      ]
     },
     "metadata": {},
     "output_type": "display_data"
    }
   ],
   "source": [
    "sns.countplot(x='학년', data=df)"
   ]
  },
  {
   "cell_type": "code",
   "execution_count": 212,
   "metadata": {},
   "outputs": [],
   "source": [
    "df2 = df.drop('학과', axis=1)\n",
    "X = np.array(dfval.astype(float))"
   ]
  },
  {
   "cell_type": "code",
   "execution_count": 213,
   "metadata": {},
   "outputs": [
    {
     "name": "stdout",
     "output_type": "stream",
     "text": [
      "For n_clusters = 2 The average silhouette_score is : 0.1844715286611145\n",
      "For n_clusters = 3 The average silhouette_score is : 0.18202041249143122\n",
      "For n_clusters = 4 The average silhouette_score is : 0.09540778179789083\n",
      "For n_clusters = 5 The average silhouette_score is : 0.07253943636867749\n",
      "For n_clusters = 6 The average silhouette_score is : 0.07048991983603065\n",
      "For n_clusters = 7 The average silhouette_score is : 0.09097553296717507\n",
      "For n_clusters = 8 The average silhouette_score is : 0.05264909769314288\n",
      "For n_clusters = 9 The average silhouette_score is : 0.0817934796053819\n"
     ]
    }
   ],
   "source": [
    "range_n_clusters = [2, 3, 4, 5, 6, 7, 8, 9]\n",
    "for n_clusters in range_n_clusters:\n",
    "    clusterer = KMeans(n_clusters=n_clusters, random_state=10)\n",
    "    cluster_labels = clusterer.fit_predict(X)\n",
    "    # The silhouette_score gives the average value for all the samples.\n",
    "    # This gives a perspective into the density and separation of the formed\n",
    "    # clusters\n",
    "    silhouette_avg = silhouette_score(X, cluster_labels)\n",
    "    print(\"For n_clusters =\", n_clusters,\n",
    "          \"The average silhouette_score is :\", silhouette_avg)\n",
    "    # Compute the silhouette scores for each sample\n",
    "    sample_silhouette_values = silhouette_samples(X, cluster_labels)"
   ]
  },
  {
   "cell_type": "code",
   "execution_count": 191,
   "metadata": {},
   "outputs": [
    {
     "data": {
      "image/png": "[encoded data removed]",
      "text/plain": [
       "<matplotlib.figure.Figure at 0x13fd9a20>"
      ]
     },
     "metadata": {},
     "output_type": "display_data"
    }
   ],
   "source": [
    "distortions = []\n",
    "K = range(1,10)\n",
    "for k in K:\n",
    "    kmeanModel = KMeans(n_clusters=k)#.fit(X2)\n",
    "    kmeanModel.fit(X)\n",
    "    distortions.append(sum(np.min(cdist(X, kmeanModel.cluster_centers_, 'euclidean'), axis=1)) / X.shape[0])\n",
    "\n",
    "# Plot the elbow\n",
    "plt.plot(K, distortions, 'bx-')\n",
    "plt.xlabel('k')\n",
    "plt.ylabel('Distortion')\n",
    "plt.title('The Elbow Method showing the optimal k')\n",
    "plt.show()"
   ]
  },
  {
   "cell_type": "code",
   "execution_count": 214,
   "metadata": {},
   "outputs": [
    {
     "data": {
      "text/plain": [
       "array([5, 1, 5, 6, 6, 6, 3, 1, 5, 0, 3, 4, 4, 6, 3, 3, 6, 6, 3, 3, 1, 1,\n",
       "       5, 5, 3, 3, 3, 1, 6, 4, 4, 1, 6, 3, 4, 1, 3, 2, 3, 1, 6, 0, 3, 6,\n",
       "       3, 3, 1, 5, 6, 0, 1, 3, 4, 6, 0, 6, 1, 3, 6, 6, 3, 0, 1, 6, 3, 0,\n",
       "       4, 4, 4, 4, 3, 3, 4, 4, 6, 6, 3, 3, 1, 1, 1, 4, 6, 1, 4, 3, 6, 6,\n",
       "       4, 3, 3, 1, 1, 3, 2, 1, 1, 2, 6, 6, 3, 0, 5, 3, 5, 0, 6, 1, 2, 6,\n",
       "       1, 6, 4, 1])"
      ]
     },
     "execution_count": 214,
     "metadata": {},
     "output_type": "execute_result"
    }
   ],
   "source": [
    "clf = KMeans(n_clusters=7)\n",
    "clf.fit(X)\n",
    "clf.labels_"
   ]
  },
  {
   "cell_type": "code",
   "execution_count": 215,
   "metadata": {},
   "outputs": [],
   "source": [
    "dfval['cluster'] = clf.fit_predict(X)"
   ]
  },
  {
   "cell_type": "code",
   "execution_count": 216,
   "metadata": {},
   "outputs": [
    {
     "name": "stdout",
     "output_type": "stream",
     "text": [
      "number of estimated clusters  7\n"
     ]
    }
   ],
   "source": [
    "ms = MeanShift()\n",
    "ms.fit(X)\n",
    "labels = ms.labels_\n",
    "cluster_centers = ms.cluster_centers_\n",
    "n_clusters_ = len(np.unique(labels))\n",
    "print(\"number of estimated clusters \" , n_clusters_)"
   ]
  },
  {
   "cell_type": "code",
   "execution_count": 217,
   "metadata": {},
   "outputs": [
    {
     "name": "stdout",
     "output_type": "stream",
     "text": [
      "[0.27898731 0.09908319]\n",
      "[33.83731565 20.16525298]\n"
     ]
    }
   ],
   "source": [
    "x2 = dfval.values\n",
    "x2 = StandardScaler().fit_transform(x2)\n",
    "pca2 = PCA(n_components=2)\n",
    "pca2.fit(x2)\n",
    "print(pca2.explained_variance_ratio_) \n",
    "print(pca2.singular_values_)"
   ]
  },
  {
   "cell_type": "code",
   "execution_count": 218,
   "metadata": {},
   "outputs": [
    {
     "data": {
      "text/plain": [
       "0     1\n",
       "1     6\n",
       "3     1\n",
       "4     0\n",
       "5     0\n",
       "6     0\n",
       "8     2\n",
       "9     1\n",
       "10    1\n",
       "11    4\n",
       "Name: cluster, dtype: int32"
      ]
     },
     "execution_count": 218,
     "metadata": {},
     "output_type": "execute_result"
    }
   ],
   "source": [
    "dfval.iloc[:10,35]"
   ]
  },
  {
   "cell_type": "code",
   "execution_count": 219,
   "metadata": {},
   "outputs": [
    {
     "data": {
      "image/png": "[encoded data removed]",
      "text/plain": [
       "<matplotlib.figure.Figure at 0x14702828>"
      ]
     },
     "metadata": {},
     "output_type": "display_data"
    }
   ],
   "source": [
    "x2 = dfval.values\n",
    "x2 = StandardScaler().fit_transform(x2)\n",
    "pca2 = PCA(n_components=2)\n",
    "pCom = pca2.fit_transform(x2)\n",
    "pDf2 = pd.DataFrame(data = pCom, columns=['Principal Component 1', 'Principal Component 2'])\n",
    "target = pd.DataFrame(data=dfval.iloc[:,35].values, columns=['target'])\n",
    "#target = np.rint(target)\n",
    "fDf2 = pd.concat([pDf2, target], axis=1)\n",
    "\n",
    "fig = plt.figure(figsize = (8,8))\n",
    "ax = fig.add_subplot(1,1,1) \n",
    "ax.set_xlabel('Principal Component 1', fontsize = 15)\n",
    "ax.set_ylabel('Principal Component 2', fontsize = 15)\n",
    "ax.set_title('2 component PCA', fontsize = 20)\n",
    "colors = ['r', 'g']\n",
    "#targets = [0, 1]\n",
    "targets = [0, 1, 2, 3, 4, 5, 6]\n",
    "for target, color in zip(targets,colors):\n",
    "    indicesToKeep = fDf2['target'] == target\n",
    "    ax.scatter(fDf2.loc[indicesToKeep, 'Principal Component 1']\n",
    "               , fDf2.loc[indicesToKeep, 'Principal Component 2']\n",
    "               , c = color\n",
    "               , s = 50)\n",
    "ax.legend(targets)\n",
    "ax.grid()"
   ]
  },
  {
   "cell_type": "code",
   "execution_count": 220,
   "metadata": {},
   "outputs": [
    {
     "data": {
      "text/html": [
       "<div>\n",
       "<style scoped>\n",
       "    .dataframe tbody tr th:only-of-type {\n",
       "        vertical-align: middle;\n",
       "    }\n",
       "\n",
       "    .dataframe tbody tr th {\n",
       "        vertical-align: top;\n",
       "    }\n",
       "\n",
       "    .dataframe thead th {\n",
       "        text-align: right;\n",
       "    }\n",
       "</style>\n",
       "<table border=\"1\" class=\"dataframe\">\n",
       "  <thead>\n",
       "    <tr style=\"text-align: right;\">\n",
       "      <th></th>\n",
       "      <th>진로결정</th>\n",
       "      <th>2.0</th>\n",
       "      <th>3.0</th>\n",
       "      <th>4.0</th>\n",
       "      <th>5.0</th>\n",
       "    </tr>\n",
       "    <tr>\n",
       "      <th>성별</th>\n",
       "      <th>학년</th>\n",
       "      <th></th>\n",
       "      <th></th>\n",
       "      <th></th>\n",
       "      <th></th>\n",
       "    </tr>\n",
       "  </thead>\n",
       "  <tbody>\n",
       "    <tr>\n",
       "      <th rowspan=\"3\" valign=\"top\">1.0</th>\n",
       "      <th>2.0</th>\n",
       "      <td>0.000000</td>\n",
       "      <td>0.615385</td>\n",
       "      <td>0.307692</td>\n",
       "      <td>0.076923</td>\n",
       "    </tr>\n",
       "    <tr>\n",
       "      <th>3.0</th>\n",
       "      <td>0.428571</td>\n",
       "      <td>0.214286</td>\n",
       "      <td>0.285714</td>\n",
       "      <td>0.071429</td>\n",
       "    </tr>\n",
       "    <tr>\n",
       "      <th>4.0</th>\n",
       "      <td>0.090909</td>\n",
       "      <td>0.181818</td>\n",
       "      <td>0.545455</td>\n",
       "      <td>0.181818</td>\n",
       "    </tr>\n",
       "    <tr>\n",
       "      <th rowspan=\"4\" valign=\"top\">2.0</th>\n",
       "      <th>1.0</th>\n",
       "      <td>0.000000</td>\n",
       "      <td>0.500000</td>\n",
       "      <td>0.500000</td>\n",
       "      <td>0.000000</td>\n",
       "    </tr>\n",
       "    <tr>\n",
       "      <th>2.0</th>\n",
       "      <td>0.150000</td>\n",
       "      <td>0.400000</td>\n",
       "      <td>0.250000</td>\n",
       "      <td>0.200000</td>\n",
       "    </tr>\n",
       "    <tr>\n",
       "      <th>3.0</th>\n",
       "      <td>0.093750</td>\n",
       "      <td>0.375000</td>\n",
       "      <td>0.343750</td>\n",
       "      <td>0.187500</td>\n",
       "    </tr>\n",
       "    <tr>\n",
       "      <th>4.0</th>\n",
       "      <td>0.090909</td>\n",
       "      <td>0.272727</td>\n",
       "      <td>0.454545</td>\n",
       "      <td>0.181818</td>\n",
       "    </tr>\n",
       "  </tbody>\n",
       "</table>\n",
       "</div>"
      ],
      "text/plain": [
       "진로결정          2.0       3.0       4.0       5.0\n",
       "성별  학년                                         \n",
       "1.0 2.0  0.000000  0.615385  0.307692  0.076923\n",
       "    3.0  0.428571  0.214286  0.285714  0.071429\n",
       "    4.0  0.090909  0.181818  0.545455  0.181818\n",
       "2.0 1.0  0.000000  0.500000  0.500000  0.000000\n",
       "    2.0  0.150000  0.400000  0.250000  0.200000\n",
       "    3.0  0.093750  0.375000  0.343750  0.187500\n",
       "    4.0  0.090909  0.272727  0.454545  0.181818"
      ]
     },
     "execution_count": 220,
     "metadata": {},
     "output_type": "execute_result"
    }
   ],
   "source": []
  },
  {
   "cell_type": "code",
   "execution_count": 221,
   "metadata": {},
   "outputs": [
    {
     "data": {
      "text/html": [
       "<div>\n",
       "<style scoped>\n",
       "    .dataframe tbody tr th:only-of-type {\n",
       "        vertical-align: middle;\n",
       "    }\n",
       "\n",
       "    .dataframe tbody tr th {\n",
       "        vertical-align: top;\n",
       "    }\n",
       "\n",
       "    .dataframe thead th {\n",
       "        text-align: right;\n",
       "    }\n",
       "</style>\n",
       "<table border=\"1\" class=\"dataframe\">\n",
       "  <thead>\n",
       "    <tr style=\"text-align: right;\">\n",
       "      <th>학년</th>\n",
       "      <th>1.0</th>\n",
       "      <th>2.0</th>\n",
       "      <th>3.0</th>\n",
       "      <th>4.0</th>\n",
       "      <th>All</th>\n",
       "    </tr>\n",
       "    <tr>\n",
       "      <th>cluster</th>\n",
       "      <th></th>\n",
       "      <th></th>\n",
       "      <th></th>\n",
       "      <th></th>\n",
       "      <th></th>\n",
       "    </tr>\n",
       "  </thead>\n",
       "  <tbody>\n",
       "    <tr>\n",
       "      <th>0</th>\n",
       "      <td>0</td>\n",
       "      <td>6</td>\n",
       "      <td>8</td>\n",
       "      <td>13</td>\n",
       "      <td>27</td>\n",
       "    </tr>\n",
       "    <tr>\n",
       "      <th>1</th>\n",
       "      <td>0</td>\n",
       "      <td>9</td>\n",
       "      <td>11</td>\n",
       "      <td>7</td>\n",
       "      <td>27</td>\n",
       "    </tr>\n",
       "    <tr>\n",
       "      <th>2</th>\n",
       "      <td>1</td>\n",
       "      <td>7</td>\n",
       "      <td>9</td>\n",
       "      <td>2</td>\n",
       "      <td>19</td>\n",
       "    </tr>\n",
       "    <tr>\n",
       "      <th>3</th>\n",
       "      <td>0</td>\n",
       "      <td>2</td>\n",
       "      <td>2</td>\n",
       "      <td>0</td>\n",
       "      <td>4</td>\n",
       "    </tr>\n",
       "    <tr>\n",
       "      <th>4</th>\n",
       "      <td>0</td>\n",
       "      <td>2</td>\n",
       "      <td>2</td>\n",
       "      <td>4</td>\n",
       "      <td>8</td>\n",
       "    </tr>\n",
       "    <tr>\n",
       "      <th>5</th>\n",
       "      <td>1</td>\n",
       "      <td>0</td>\n",
       "      <td>1</td>\n",
       "      <td>0</td>\n",
       "      <td>2</td>\n",
       "    </tr>\n",
       "    <tr>\n",
       "      <th>6</th>\n",
       "      <td>0</td>\n",
       "      <td>7</td>\n",
       "      <td>13</td>\n",
       "      <td>7</td>\n",
       "      <td>27</td>\n",
       "    </tr>\n",
       "    <tr>\n",
       "      <th>All</th>\n",
       "      <td>2</td>\n",
       "      <td>33</td>\n",
       "      <td>46</td>\n",
       "      <td>33</td>\n",
       "      <td>114</td>\n",
       "    </tr>\n",
       "  </tbody>\n",
       "</table>\n",
       "</div>"
      ],
      "text/plain": [
       "학년       1.0  2.0  3.0  4.0  All\n",
       "cluster                         \n",
       "0          0    6    8   13   27\n",
       "1          0    9   11    7   27\n",
       "2          1    7    9    2   19\n",
       "3          0    2    2    0    4\n",
       "4          0    2    2    4    8\n",
       "5          1    0    1    0    2\n",
       "6          0    7   13    7   27\n",
       "All        2   33   46   33  114"
      ]
     },
     "execution_count": 221,
     "metadata": {},
     "output_type": "execute_result"
    }
   ],
   "source": [
    "pd.crosstab(dfval['cluster'], df['학년'],margins=True)"
   ]
  },
  {
   "cell_type": "code",
   "execution_count": 223,
   "metadata": {},
   "outputs": [
    {
     "data": {
      "text/plain": [
       "<matplotlib.axes._subplots.AxesSubplot at 0x119044a8>"
      ]
     },
     "execution_count": 223,
     "metadata": {},
     "output_type": "execute_result"
    },
    {
     "data": {
      "image/png": "[encoded data removed]",
      "text/plain": [
       "<matplotlib.figure.Figure at 0x11c4dac8>"
      ]
     },
     "metadata": {},
     "output_type": "display_data"
    }
   ],
   "source": [
    "sns.swarmplot(dfval['cluster'],df['진로결정불변'])"
   ]
  },
  {
   "cell_type": "code",
   "execution_count": 224,
   "metadata": {},
   "outputs": [
    {
     "data": {
      "text/plain": [
       "<matplotlib.axes._subplots.AxesSubplot at 0xc11c4e0>"
      ]
     },
     "execution_count": 224,
     "metadata": {},
     "output_type": "execute_result"
    },
    {
     "data": {
      "image/png": "[encoded data removed]",
      "text/plain": [
       "<matplotlib.figure.Figure at 0x146e9550>"
      ]
     },
     "metadata": {},
     "output_type": "display_data"
    }
   ],
   "source": [
    "sns.swarmplot('진로결정', '전공인지', data=df, hue='cluster')"
   ]
  },
  {
   "cell_type": "code",
   "execution_count": 225,
   "metadata": {},
   "outputs": [
    {
     "data": {
      "text/plain": [
       "<matplotlib.axes._subplots.AxesSubplot at 0xc8ae518>"
      ]
     },
     "execution_count": 225,
     "metadata": {},
     "output_type": "execute_result"
    },
    {
     "data": {
      "image/png": "[encoded data removed]",
      "text/plain": [
       "<matplotlib.figure.Figure at 0x114d9470>"
      ]
     },
     "metadata": {},
     "output_type": "display_data"
    }
   ],
   "source": [
    "sns.swarmplot('진로결정', '성별', data=df, hue='cluster')"
   ]
  },
  {
   "cell_type": "code",
   "execution_count": 226,
   "metadata": {},
   "outputs": [
    {
     "data": {
      "text/plain": [
       "<matplotlib.axes._subplots.AxesSubplot at 0x1191b978>"
      ]
     },
     "execution_count": 226,
     "metadata": {},
     "output_type": "execute_result"
    },
    {
     "data": {
      "image/png": "[encoded data removed]",
      "text/plain": [
       "<matplotlib.figure.Figure at 0x11c5b940>"
      ]
     },
     "metadata": {},
     "output_type": "display_data"
    }
   ],
   "source": [
    "sns.swarmplot('진로결정', '학년', data=df, hue='cluster')"
   ]
  },
  {
   "cell_type": "code",
   "execution_count": 227,
   "metadata": {},
   "outputs": [
    {
     "data": {
      "text/plain": [
       "<matplotlib.axes._subplots.AxesSubplot at 0xbfbc4e0>"
      ]
     },
     "execution_count": 227,
     "metadata": {},
     "output_type": "execute_result"
    },
    {
     "data": {
      "image/png": "[encoded data removed]",
      "text/plain": [
       "<matplotlib.figure.Figure at 0xc11c400>"
      ]
     },
     "metadata": {},
     "output_type": "display_data"
    }
   ],
   "source": [
    "sns.swarmplot('진로결정', '학과', data=df, hue='cluster')"
   ]
  },
  {
   "cell_type": "code",
   "execution_count": 228,
   "metadata": {
    "scrolled": true
   },
   "outputs": [
    {
     "data": {
      "text/html": [
       "<div>\n",
       "<style scoped>\n",
       "    .dataframe tbody tr th:only-of-type {\n",
       "        vertical-align: middle;\n",
       "    }\n",
       "\n",
       "    .dataframe tbody tr th {\n",
       "        vertical-align: top;\n",
       "    }\n",
       "\n",
       "    .dataframe thead th {\n",
       "        text-align: right;\n",
       "    }\n",
       "</style>\n",
       "<table border=\"1\" class=\"dataframe\">\n",
       "  <thead>\n",
       "    <tr style=\"text-align: right;\">\n",
       "      <th>학과</th>\n",
       "      <th>건축학과</th>\n",
       "      <th>경영</th>\n",
       "      <th>경영정보</th>\n",
       "      <th>경영학과</th>\n",
       "      <th>경찰행정</th>\n",
       "      <th>공연영상</th>\n",
       "      <th>광고홍보</th>\n",
       "      <th>국어교육</th>\n",
       "      <th>금융보험</th>\n",
       "      <th>멀티미디어</th>\n",
       "      <th>...</th>\n",
       "      <th>체육교육과</th>\n",
       "      <th>컴퓨터공학</th>\n",
       "      <th>패션의류</th>\n",
       "      <th>패션의류학과</th>\n",
       "      <th>한국어문학</th>\n",
       "      <th>행정</th>\n",
       "      <th>호텔외식조리</th>\n",
       "      <th>화장품학부</th>\n",
       "      <th>환경공학과</th>\n",
       "      <th>All</th>\n",
       "    </tr>\n",
       "    <tr>\n",
       "      <th>cluster</th>\n",
       "      <th></th>\n",
       "      <th></th>\n",
       "      <th></th>\n",
       "      <th></th>\n",
       "      <th></th>\n",
       "      <th></th>\n",
       "      <th></th>\n",
       "      <th></th>\n",
       "      <th></th>\n",
       "      <th></th>\n",
       "      <th></th>\n",
       "      <th></th>\n",
       "      <th></th>\n",
       "      <th></th>\n",
       "      <th></th>\n",
       "      <th></th>\n",
       "      <th></th>\n",
       "      <th></th>\n",
       "      <th></th>\n",
       "      <th></th>\n",
       "      <th></th>\n",
       "    </tr>\n",
       "  </thead>\n",
       "  <tbody>\n",
       "    <tr>\n",
       "      <th>0</th>\n",
       "      <td>0</td>\n",
       "      <td>0</td>\n",
       "      <td>0</td>\n",
       "      <td>0</td>\n",
       "      <td>0</td>\n",
       "      <td>0</td>\n",
       "      <td>1</td>\n",
       "      <td>1</td>\n",
       "      <td>0</td>\n",
       "      <td>0</td>\n",
       "      <td>...</td>\n",
       "      <td>0</td>\n",
       "      <td>1</td>\n",
       "      <td>0</td>\n",
       "      <td>0</td>\n",
       "      <td>0</td>\n",
       "      <td>0</td>\n",
       "      <td>0</td>\n",
       "      <td>1</td>\n",
       "      <td>0</td>\n",
       "      <td>8</td>\n",
       "    </tr>\n",
       "    <tr>\n",
       "      <th>1</th>\n",
       "      <td>0</td>\n",
       "      <td>1</td>\n",
       "      <td>0</td>\n",
       "      <td>1</td>\n",
       "      <td>1</td>\n",
       "      <td>1</td>\n",
       "      <td>0</td>\n",
       "      <td>0</td>\n",
       "      <td>6</td>\n",
       "      <td>1</td>\n",
       "      <td>...</td>\n",
       "      <td>0</td>\n",
       "      <td>2</td>\n",
       "      <td>2</td>\n",
       "      <td>1</td>\n",
       "      <td>0</td>\n",
       "      <td>2</td>\n",
       "      <td>2</td>\n",
       "      <td>0</td>\n",
       "      <td>2</td>\n",
       "      <td>30</td>\n",
       "    </tr>\n",
       "    <tr>\n",
       "      <th>2</th>\n",
       "      <td>2</td>\n",
       "      <td>1</td>\n",
       "      <td>0</td>\n",
       "      <td>0</td>\n",
       "      <td>1</td>\n",
       "      <td>2</td>\n",
       "      <td>1</td>\n",
       "      <td>2</td>\n",
       "      <td>0</td>\n",
       "      <td>0</td>\n",
       "      <td>...</td>\n",
       "      <td>0</td>\n",
       "      <td>0</td>\n",
       "      <td>0</td>\n",
       "      <td>0</td>\n",
       "      <td>1</td>\n",
       "      <td>0</td>\n",
       "      <td>2</td>\n",
       "      <td>0</td>\n",
       "      <td>0</td>\n",
       "      <td>19</td>\n",
       "    </tr>\n",
       "    <tr>\n",
       "      <th>3</th>\n",
       "      <td>0</td>\n",
       "      <td>0</td>\n",
       "      <td>0</td>\n",
       "      <td>0</td>\n",
       "      <td>0</td>\n",
       "      <td>0</td>\n",
       "      <td>2</td>\n",
       "      <td>2</td>\n",
       "      <td>0</td>\n",
       "      <td>0</td>\n",
       "      <td>...</td>\n",
       "      <td>0</td>\n",
       "      <td>1</td>\n",
       "      <td>1</td>\n",
       "      <td>0</td>\n",
       "      <td>0</td>\n",
       "      <td>2</td>\n",
       "      <td>0</td>\n",
       "      <td>0</td>\n",
       "      <td>0</td>\n",
       "      <td>13</td>\n",
       "    </tr>\n",
       "    <tr>\n",
       "      <th>4</th>\n",
       "      <td>1</td>\n",
       "      <td>0</td>\n",
       "      <td>0</td>\n",
       "      <td>0</td>\n",
       "      <td>0</td>\n",
       "      <td>0</td>\n",
       "      <td>0</td>\n",
       "      <td>0</td>\n",
       "      <td>0</td>\n",
       "      <td>0</td>\n",
       "      <td>...</td>\n",
       "      <td>2</td>\n",
       "      <td>0</td>\n",
       "      <td>0</td>\n",
       "      <td>0</td>\n",
       "      <td>0</td>\n",
       "      <td>2</td>\n",
       "      <td>0</td>\n",
       "      <td>0</td>\n",
       "      <td>0</td>\n",
       "      <td>9</td>\n",
       "    </tr>\n",
       "    <tr>\n",
       "      <th>5</th>\n",
       "      <td>1</td>\n",
       "      <td>0</td>\n",
       "      <td>2</td>\n",
       "      <td>1</td>\n",
       "      <td>0</td>\n",
       "      <td>0</td>\n",
       "      <td>1</td>\n",
       "      <td>1</td>\n",
       "      <td>0</td>\n",
       "      <td>2</td>\n",
       "      <td>...</td>\n",
       "      <td>0</td>\n",
       "      <td>1</td>\n",
       "      <td>3</td>\n",
       "      <td>0</td>\n",
       "      <td>1</td>\n",
       "      <td>6</td>\n",
       "      <td>6</td>\n",
       "      <td>1</td>\n",
       "      <td>0</td>\n",
       "      <td>35</td>\n",
       "    </tr>\n",
       "    <tr>\n",
       "      <th>All</th>\n",
       "      <td>4</td>\n",
       "      <td>2</td>\n",
       "      <td>2</td>\n",
       "      <td>2</td>\n",
       "      <td>2</td>\n",
       "      <td>3</td>\n",
       "      <td>5</td>\n",
       "      <td>6</td>\n",
       "      <td>6</td>\n",
       "      <td>3</td>\n",
       "      <td>...</td>\n",
       "      <td>2</td>\n",
       "      <td>5</td>\n",
       "      <td>6</td>\n",
       "      <td>1</td>\n",
       "      <td>2</td>\n",
       "      <td>12</td>\n",
       "      <td>10</td>\n",
       "      <td>2</td>\n",
       "      <td>2</td>\n",
       "      <td>114</td>\n",
       "    </tr>\n",
       "  </tbody>\n",
       "</table>\n",
       "<p>7 rows × 31 columns</p>\n",
       "</div>"
      ],
      "text/plain": [
       "학과       건축학과  경영  경영정보  경영학과  경찰행정  공연영상  광고홍보  국어교육  금융보험  멀티미디어 ...   \\\n",
       "cluster                                                            ...    \n",
       "0           0   0     0     0     0     0     1     1     0      0 ...    \n",
       "1           0   1     0     1     1     1     0     0     6      1 ...    \n",
       "2           2   1     0     0     1     2     1     2     0      0 ...    \n",
       "3           0   0     0     0     0     0     2     2     0      0 ...    \n",
       "4           1   0     0     0     0     0     0     0     0      0 ...    \n",
       "5           1   0     2     1     0     0     1     1     0      2 ...    \n",
       "All         4   2     2     2     2     3     5     6     6      3 ...    \n",
       "\n",
       "학과       체육교육과  컴퓨터공학  패션의류  패션의류학과  한국어문학  행정  호텔외식조리  화장품학부  환경공학과  All  \n",
       "cluster                                                                    \n",
       "0            0      1     0       0      0   0       0      1      0    8  \n",
       "1            0      2     2       1      0   2       2      0      2   30  \n",
       "2            0      0     0       0      1   0       2      0      0   19  \n",
       "3            0      1     1       0      0   2       0      0      0   13  \n",
       "4            2      0     0       0      0   2       0      0      0    9  \n",
       "5            0      1     3       0      1   6       6      1      0   35  \n",
       "All          2      5     6       1      2  12      10      2      2  114  \n",
       "\n",
       "[7 rows x 31 columns]"
      ]
     },
     "execution_count": 228,
     "metadata": {},
     "output_type": "execute_result"
    }
   ],
   "source": [
    "pd.crosstab(df['cluster'],df['학과'], margins=True)"
   ]
  },
  {
   "cell_type": "code",
   "execution_count": 229,
   "metadata": {},
   "outputs": [
    {
     "data": {
      "text/html": [
       "<div>\n",
       "<style scoped>\n",
       "    .dataframe tbody tr th:only-of-type {\n",
       "        vertical-align: middle;\n",
       "    }\n",
       "\n",
       "    .dataframe tbody tr th {\n",
       "        vertical-align: top;\n",
       "    }\n",
       "\n",
       "    .dataframe thead th {\n",
       "        text-align: right;\n",
       "    }\n",
       "</style>\n",
       "<table border=\"1\" class=\"dataframe\">\n",
       "  <thead>\n",
       "    <tr style=\"text-align: right;\">\n",
       "      <th></th>\n",
       "      <th>학과</th>\n",
       "      <th>cluster</th>\n",
       "    </tr>\n",
       "  </thead>\n",
       "  <tbody>\n",
       "    <tr>\n",
       "      <th>0</th>\n",
       "      <td>패션의류학과</td>\n",
       "      <td>1</td>\n",
       "    </tr>\n",
       "    <tr>\n",
       "      <th>1</th>\n",
       "      <td>수학교육</td>\n",
       "      <td>1</td>\n",
       "    </tr>\n",
       "    <tr>\n",
       "      <th>3</th>\n",
       "      <td>금융보험</td>\n",
       "      <td>1</td>\n",
       "    </tr>\n",
       "    <tr>\n",
       "      <th>4</th>\n",
       "      <td>금융보험</td>\n",
       "      <td>1</td>\n",
       "    </tr>\n",
       "    <tr>\n",
       "      <th>5</th>\n",
       "      <td>금융보험</td>\n",
       "      <td>1</td>\n",
       "    </tr>\n",
       "    <tr>\n",
       "      <th>6</th>\n",
       "      <td>임상건강운동</td>\n",
       "      <td>2</td>\n",
       "    </tr>\n",
       "    <tr>\n",
       "      <th>8</th>\n",
       "      <td>무역</td>\n",
       "      <td>1</td>\n",
       "    </tr>\n",
       "    <tr>\n",
       "      <th>9</th>\n",
       "      <td>컴퓨터공학</td>\n",
       "      <td>3</td>\n",
       "    </tr>\n",
       "    <tr>\n",
       "      <th>10</th>\n",
       "      <td>사회교육</td>\n",
       "      <td>1</td>\n",
       "    </tr>\n",
       "    <tr>\n",
       "      <th>11</th>\n",
       "      <td>체육교육과</td>\n",
       "      <td>4</td>\n",
       "    </tr>\n",
       "    <tr>\n",
       "      <th>12</th>\n",
       "      <td>멀티미디어</td>\n",
       "      <td>5</td>\n",
       "    </tr>\n",
       "    <tr>\n",
       "      <th>13</th>\n",
       "      <td>멀티미디어</td>\n",
       "      <td>5</td>\n",
       "    </tr>\n",
       "    <tr>\n",
       "      <th>14</th>\n",
       "      <td>식품영양</td>\n",
       "      <td>5</td>\n",
       "    </tr>\n",
       "    <tr>\n",
       "      <th>15</th>\n",
       "      <td>패션의류</td>\n",
       "      <td>1</td>\n",
       "    </tr>\n",
       "    <tr>\n",
       "      <th>16</th>\n",
       "      <td>식품영양</td>\n",
       "      <td>5</td>\n",
       "    </tr>\n",
       "    <tr>\n",
       "      <th>17</th>\n",
       "      <td>식품영양</td>\n",
       "      <td>5</td>\n",
       "    </tr>\n",
       "    <tr>\n",
       "      <th>18</th>\n",
       "      <td>컴퓨터공학</td>\n",
       "      <td>1</td>\n",
       "    </tr>\n",
       "    <tr>\n",
       "      <th>19</th>\n",
       "      <td>한국어문학</td>\n",
       "      <td>2</td>\n",
       "    </tr>\n",
       "    <tr>\n",
       "      <th>20</th>\n",
       "      <td>호텔외식조리</td>\n",
       "      <td>5</td>\n",
       "    </tr>\n",
       "    <tr>\n",
       "      <th>21</th>\n",
       "      <td>호텔외식조리</td>\n",
       "      <td>5</td>\n",
       "    </tr>\n",
       "    <tr>\n",
       "      <th>22</th>\n",
       "      <td>식품영양</td>\n",
       "      <td>1</td>\n",
       "    </tr>\n",
       "    <tr>\n",
       "      <th>23</th>\n",
       "      <td>금융보험</td>\n",
       "      <td>1</td>\n",
       "    </tr>\n",
       "    <tr>\n",
       "      <th>24</th>\n",
       "      <td>임상건강운동</td>\n",
       "      <td>3</td>\n",
       "    </tr>\n",
       "    <tr>\n",
       "      <th>25</th>\n",
       "      <td>컴퓨터공학</td>\n",
       "      <td>0</td>\n",
       "    </tr>\n",
       "    <tr>\n",
       "      <th>26</th>\n",
       "      <td>컴퓨터공학</td>\n",
       "      <td>5</td>\n",
       "    </tr>\n",
       "    <tr>\n",
       "      <th>27</th>\n",
       "      <td>영어교육</td>\n",
       "      <td>5</td>\n",
       "    </tr>\n",
       "    <tr>\n",
       "      <th>28</th>\n",
       "      <td>식품영양</td>\n",
       "      <td>3</td>\n",
       "    </tr>\n",
       "    <tr>\n",
       "      <th>29</th>\n",
       "      <td>광고홍보</td>\n",
       "      <td>5</td>\n",
       "    </tr>\n",
       "    <tr>\n",
       "      <th>30</th>\n",
       "      <td>경영</td>\n",
       "      <td>2</td>\n",
       "    </tr>\n",
       "    <tr>\n",
       "      <th>31</th>\n",
       "      <td>건축학과</td>\n",
       "      <td>5</td>\n",
       "    </tr>\n",
       "    <tr>\n",
       "      <th>...</th>\n",
       "      <td>...</td>\n",
       "      <td>...</td>\n",
       "    </tr>\n",
       "    <tr>\n",
       "      <th>90</th>\n",
       "      <td>화장품학부</td>\n",
       "      <td>5</td>\n",
       "    </tr>\n",
       "    <tr>\n",
       "      <th>91</th>\n",
       "      <td>호텔외식조리</td>\n",
       "      <td>5</td>\n",
       "    </tr>\n",
       "    <tr>\n",
       "      <th>92</th>\n",
       "      <td>호텔외식조리</td>\n",
       "      <td>2</td>\n",
       "    </tr>\n",
       "    <tr>\n",
       "      <th>93</th>\n",
       "      <td>행정</td>\n",
       "      <td>1</td>\n",
       "    </tr>\n",
       "    <tr>\n",
       "      <th>94</th>\n",
       "      <td>패션의류</td>\n",
       "      <td>5</td>\n",
       "    </tr>\n",
       "    <tr>\n",
       "      <th>95</th>\n",
       "      <td>행정</td>\n",
       "      <td>1</td>\n",
       "    </tr>\n",
       "    <tr>\n",
       "      <th>96</th>\n",
       "      <td>행정</td>\n",
       "      <td>5</td>\n",
       "    </tr>\n",
       "    <tr>\n",
       "      <th>97</th>\n",
       "      <td>행정</td>\n",
       "      <td>5</td>\n",
       "    </tr>\n",
       "    <tr>\n",
       "      <th>98</th>\n",
       "      <td>행정</td>\n",
       "      <td>3</td>\n",
       "    </tr>\n",
       "    <tr>\n",
       "      <th>99</th>\n",
       "      <td>행정</td>\n",
       "      <td>5</td>\n",
       "    </tr>\n",
       "    <tr>\n",
       "      <th>100</th>\n",
       "      <td>화장품학부</td>\n",
       "      <td>0</td>\n",
       "    </tr>\n",
       "    <tr>\n",
       "      <th>101</th>\n",
       "      <td>환경공학과</td>\n",
       "      <td>1</td>\n",
       "    </tr>\n",
       "    <tr>\n",
       "      <th>102</th>\n",
       "      <td>영어학</td>\n",
       "      <td>1</td>\n",
       "    </tr>\n",
       "    <tr>\n",
       "      <th>103</th>\n",
       "      <td>영어학</td>\n",
       "      <td>0</td>\n",
       "    </tr>\n",
       "    <tr>\n",
       "      <th>105</th>\n",
       "      <td>건축학과</td>\n",
       "      <td>2</td>\n",
       "    </tr>\n",
       "    <tr>\n",
       "      <th>106</th>\n",
       "      <td>건축학과</td>\n",
       "      <td>2</td>\n",
       "    </tr>\n",
       "    <tr>\n",
       "      <th>107</th>\n",
       "      <td>사회복지</td>\n",
       "      <td>5</td>\n",
       "    </tr>\n",
       "    <tr>\n",
       "      <th>109</th>\n",
       "      <td>식품영양</td>\n",
       "      <td>4</td>\n",
       "    </tr>\n",
       "    <tr>\n",
       "      <th>110</th>\n",
       "      <td>식품영양</td>\n",
       "      <td>0</td>\n",
       "    </tr>\n",
       "    <tr>\n",
       "      <th>112</th>\n",
       "      <td>식품공학과</td>\n",
       "      <td>5</td>\n",
       "    </tr>\n",
       "    <tr>\n",
       "      <th>113</th>\n",
       "      <td>식품공학과</td>\n",
       "      <td>0</td>\n",
       "    </tr>\n",
       "    <tr>\n",
       "      <th>114</th>\n",
       "      <td>행정</td>\n",
       "      <td>4</td>\n",
       "    </tr>\n",
       "    <tr>\n",
       "      <th>115</th>\n",
       "      <td>사회교육</td>\n",
       "      <td>2</td>\n",
       "    </tr>\n",
       "    <tr>\n",
       "      <th>118</th>\n",
       "      <td>광고홍보</td>\n",
       "      <td>3</td>\n",
       "    </tr>\n",
       "    <tr>\n",
       "      <th>119</th>\n",
       "      <td>광고홍보</td>\n",
       "      <td>0</td>\n",
       "    </tr>\n",
       "    <tr>\n",
       "      <th>120</th>\n",
       "      <td>광고홍보</td>\n",
       "      <td>2</td>\n",
       "    </tr>\n",
       "    <tr>\n",
       "      <th>121</th>\n",
       "      <td>광고홍보</td>\n",
       "      <td>3</td>\n",
       "    </tr>\n",
       "    <tr>\n",
       "      <th>122</th>\n",
       "      <td>건축학과</td>\n",
       "      <td>4</td>\n",
       "    </tr>\n",
       "    <tr>\n",
       "      <th>123</th>\n",
       "      <td>경영학과</td>\n",
       "      <td>5</td>\n",
       "    </tr>\n",
       "    <tr>\n",
       "      <th>124</th>\n",
       "      <td>경영학과</td>\n",
       "      <td>1</td>\n",
       "    </tr>\n",
       "  </tbody>\n",
       "</table>\n",
       "<p>114 rows × 2 columns</p>\n",
       "</div>"
      ],
      "text/plain": [
       "         학과  cluster\n",
       "0    패션의류학과        1\n",
       "1      수학교육        1\n",
       "3      금융보험        1\n",
       "4      금융보험        1\n",
       "5      금융보험        1\n",
       "6    임상건강운동        2\n",
       "8        무역        1\n",
       "9     컴퓨터공학        3\n",
       "10     사회교육        1\n",
       "11    체육교육과        4\n",
       "12    멀티미디어        5\n",
       "13    멀티미디어        5\n",
       "14     식품영양        5\n",
       "15     패션의류        1\n",
       "16     식품영양        5\n",
       "17     식품영양        5\n",
       "18    컴퓨터공학        1\n",
       "19    한국어문학        2\n",
       "20   호텔외식조리        5\n",
       "21   호텔외식조리        5\n",
       "22     식품영양        1\n",
       "23     금융보험        1\n",
       "24   임상건강운동        3\n",
       "25    컴퓨터공학        0\n",
       "26    컴퓨터공학        5\n",
       "27     영어교육        5\n",
       "28     식품영양        3\n",
       "29     광고홍보        5\n",
       "30       경영        2\n",
       "31     건축학과        5\n",
       "..      ...      ...\n",
       "90    화장품학부        5\n",
       "91   호텔외식조리        5\n",
       "92   호텔외식조리        2\n",
       "93       행정        1\n",
       "94     패션의류        5\n",
       "95       행정        1\n",
       "96       행정        5\n",
       "97       행정        5\n",
       "98       행정        3\n",
       "99       행정        5\n",
       "100   화장품학부        0\n",
       "101   환경공학과        1\n",
       "102     영어학        1\n",
       "103     영어학        0\n",
       "105    건축학과        2\n",
       "106    건축학과        2\n",
       "107    사회복지        5\n",
       "109    식품영양        4\n",
       "110    식품영양        0\n",
       "112   식품공학과        5\n",
       "113   식품공학과        0\n",
       "114      행정        4\n",
       "115    사회교육        2\n",
       "118    광고홍보        3\n",
       "119    광고홍보        0\n",
       "120    광고홍보        2\n",
       "121    광고홍보        3\n",
       "122    건축학과        4\n",
       "123    경영학과        5\n",
       "124    경영학과        1\n",
       "\n",
       "[114 rows x 2 columns]"
      ]
     },
     "execution_count": 229,
     "metadata": {},
     "output_type": "execute_result"
    }
   ],
   "source": [
    "df.loc[:,['학과','cluster']]"
   ]
  },
  {
   "cell_type": "code",
   "execution_count": 230,
   "metadata": {
    "scrolled": false
   },
   "outputs": [
    {
     "data": {
      "text/plain": [
       "<matplotlib.axes._subplots.AxesSubplot at 0x10dc6a58>"
      ]
     },
     "execution_count": 230,
     "metadata": {},
     "output_type": "execute_result"
    },
    {
     "data": {
      "image/png": "[encoded data removed]",
      "text/plain": [
       "<matplotlib.figure.Figure at 0xc03b320>"
      ]
     },
     "metadata": {},
     "output_type": "display_data"
    }
   ],
   "source": [
    "sns.boxplot(df['cluster'],df['학년'])"
   ]
  },
  {
   "cell_type": "code",
   "execution_count": 231,
   "metadata": {},
   "outputs": [
    {
     "data": {
      "text/html": [
       "<div>\n",
       "<style scoped>\n",
       "    .dataframe tbody tr th:only-of-type {\n",
       "        vertical-align: middle;\n",
       "    }\n",
       "\n",
       "    .dataframe tbody tr th {\n",
       "        vertical-align: top;\n",
       "    }\n",
       "\n",
       "    .dataframe thead tr th {\n",
       "        text-align: left;\n",
       "    }\n",
       "\n",
       "    .dataframe thead tr:last-of-type th {\n",
       "        text-align: right;\n",
       "    }\n",
       "</style>\n",
       "<table border=\"1\" class=\"dataframe\">\n",
       "  <thead>\n",
       "    <tr>\n",
       "      <th></th>\n",
       "      <th colspan=\"3\" halign=\"left\">학년</th>\n",
       "      <th colspan=\"3\" halign=\"left\">좋아하는일</th>\n",
       "      <th colspan=\"3\" halign=\"left\">진로결정</th>\n",
       "      <th colspan=\"3\" halign=\"left\">이력서작성능력</th>\n",
       "      <th colspan=\"3\" halign=\"left\">능력준비</th>\n",
       "      <th colspan=\"3\" halign=\"left\">이력서작성인지</th>\n",
       "    </tr>\n",
       "    <tr>\n",
       "      <th></th>\n",
       "      <th>mean</th>\n",
       "      <th>std</th>\n",
       "      <th>sum</th>\n",
       "      <th>mean</th>\n",
       "      <th>std</th>\n",
       "      <th>sum</th>\n",
       "      <th>mean</th>\n",
       "      <th>std</th>\n",
       "      <th>sum</th>\n",
       "      <th>mean</th>\n",
       "      <th>std</th>\n",
       "      <th>sum</th>\n",
       "      <th>mean</th>\n",
       "      <th>std</th>\n",
       "      <th>sum</th>\n",
       "      <th>mean</th>\n",
       "      <th>std</th>\n",
       "      <th>sum</th>\n",
       "    </tr>\n",
       "    <tr>\n",
       "      <th>cluster</th>\n",
       "      <th></th>\n",
       "      <th></th>\n",
       "      <th></th>\n",
       "      <th></th>\n",
       "      <th></th>\n",
       "      <th></th>\n",
       "      <th></th>\n",
       "      <th></th>\n",
       "      <th></th>\n",
       "      <th></th>\n",
       "      <th></th>\n",
       "      <th></th>\n",
       "      <th></th>\n",
       "      <th></th>\n",
       "      <th></th>\n",
       "      <th></th>\n",
       "      <th></th>\n",
       "      <th></th>\n",
       "    </tr>\n",
       "  </thead>\n",
       "  <tbody>\n",
       "    <tr>\n",
       "      <th>0</th>\n",
       "      <td>2.500000</td>\n",
       "      <td>0.755929</td>\n",
       "      <td>20.0</td>\n",
       "      <td>4.625000</td>\n",
       "      <td>0.517549</td>\n",
       "      <td>37</td>\n",
       "      <td>4.125000</td>\n",
       "      <td>0.991031</td>\n",
       "      <td>33.0</td>\n",
       "      <td>3.750000</td>\n",
       "      <td>0.886405</td>\n",
       "      <td>30</td>\n",
       "      <td>4.500000</td>\n",
       "      <td>0.534522</td>\n",
       "      <td>36</td>\n",
       "      <td>3.875000</td>\n",
       "      <td>0.991031</td>\n",
       "      <td>31</td>\n",
       "    </tr>\n",
       "    <tr>\n",
       "      <th>1</th>\n",
       "      <td>3.433333</td>\n",
       "      <td>0.678911</td>\n",
       "      <td>103.0</td>\n",
       "      <td>3.800000</td>\n",
       "      <td>0.550861</td>\n",
       "      <td>114</td>\n",
       "      <td>3.366667</td>\n",
       "      <td>0.889918</td>\n",
       "      <td>101.0</td>\n",
       "      <td>2.933333</td>\n",
       "      <td>0.739680</td>\n",
       "      <td>88</td>\n",
       "      <td>3.333333</td>\n",
       "      <td>0.802296</td>\n",
       "      <td>100</td>\n",
       "      <td>2.766667</td>\n",
       "      <td>0.727932</td>\n",
       "      <td>83</td>\n",
       "    </tr>\n",
       "    <tr>\n",
       "      <th>2</th>\n",
       "      <td>3.000000</td>\n",
       "      <td>0.816497</td>\n",
       "      <td>57.0</td>\n",
       "      <td>4.421053</td>\n",
       "      <td>0.507257</td>\n",
       "      <td>84</td>\n",
       "      <td>4.315789</td>\n",
       "      <td>0.671038</td>\n",
       "      <td>82.0</td>\n",
       "      <td>3.315789</td>\n",
       "      <td>0.820070</td>\n",
       "      <td>63</td>\n",
       "      <td>3.631579</td>\n",
       "      <td>0.683986</td>\n",
       "      <td>69</td>\n",
       "      <td>3.210526</td>\n",
       "      <td>0.854982</td>\n",
       "      <td>61</td>\n",
       "    </tr>\n",
       "    <tr>\n",
       "      <th>3</th>\n",
       "      <td>2.461538</td>\n",
       "      <td>0.518875</td>\n",
       "      <td>32.0</td>\n",
       "      <td>3.692308</td>\n",
       "      <td>0.630425</td>\n",
       "      <td>48</td>\n",
       "      <td>3.307692</td>\n",
       "      <td>0.480384</td>\n",
       "      <td>43.0</td>\n",
       "      <td>3.000000</td>\n",
       "      <td>0.816497</td>\n",
       "      <td>39</td>\n",
       "      <td>3.615385</td>\n",
       "      <td>0.767948</td>\n",
       "      <td>47</td>\n",
       "      <td>2.384615</td>\n",
       "      <td>0.960769</td>\n",
       "      <td>31</td>\n",
       "    </tr>\n",
       "    <tr>\n",
       "      <th>4</th>\n",
       "      <td>3.555556</td>\n",
       "      <td>0.726483</td>\n",
       "      <td>32.0</td>\n",
       "      <td>4.444444</td>\n",
       "      <td>0.527046</td>\n",
       "      <td>40</td>\n",
       "      <td>4.555556</td>\n",
       "      <td>0.527046</td>\n",
       "      <td>41.0</td>\n",
       "      <td>3.777778</td>\n",
       "      <td>0.666667</td>\n",
       "      <td>34</td>\n",
       "      <td>4.555556</td>\n",
       "      <td>0.527046</td>\n",
       "      <td>41</td>\n",
       "      <td>3.555556</td>\n",
       "      <td>0.881917</td>\n",
       "      <td>32</td>\n",
       "    </tr>\n",
       "    <tr>\n",
       "      <th>5</th>\n",
       "      <td>2.685714</td>\n",
       "      <td>0.758149</td>\n",
       "      <td>94.0</td>\n",
       "      <td>3.314286</td>\n",
       "      <td>0.718308</td>\n",
       "      <td>116</td>\n",
       "      <td>3.000000</td>\n",
       "      <td>0.685994</td>\n",
       "      <td>105.0</td>\n",
       "      <td>2.857143</td>\n",
       "      <td>0.692092</td>\n",
       "      <td>100</td>\n",
       "      <td>2.914286</td>\n",
       "      <td>0.658493</td>\n",
       "      <td>102</td>\n",
       "      <td>2.657143</td>\n",
       "      <td>0.683540</td>\n",
       "      <td>93</td>\n",
       "    </tr>\n",
       "  </tbody>\n",
       "</table>\n",
       "</div>"
      ],
      "text/plain": [
       "               학년                      좋아하는일                     진로결정  \\\n",
       "             mean       std    sum      mean       std  sum      mean   \n",
       "cluster                                                                 \n",
       "0        2.500000  0.755929   20.0  4.625000  0.517549   37  4.125000   \n",
       "1        3.433333  0.678911  103.0  3.800000  0.550861  114  3.366667   \n",
       "2        3.000000  0.816497   57.0  4.421053  0.507257   84  4.315789   \n",
       "3        2.461538  0.518875   32.0  3.692308  0.630425   48  3.307692   \n",
       "4        3.555556  0.726483   32.0  4.444444  0.527046   40  4.555556   \n",
       "5        2.685714  0.758149   94.0  3.314286  0.718308  116  3.000000   \n",
       "\n",
       "                           이력서작성능력                     능력준비                 \\\n",
       "              std    sum      mean       std  sum      mean       std  sum   \n",
       "cluster                                                                      \n",
       "0        0.991031   33.0  3.750000  0.886405   30  4.500000  0.534522   36   \n",
       "1        0.889918  101.0  2.933333  0.739680   88  3.333333  0.802296  100   \n",
       "2        0.671038   82.0  3.315789  0.820070   63  3.631579  0.683986   69   \n",
       "3        0.480384   43.0  3.000000  0.816497   39  3.615385  0.767948   47   \n",
       "4        0.527046   41.0  3.777778  0.666667   34  4.555556  0.527046   41   \n",
       "5        0.685994  105.0  2.857143  0.692092  100  2.914286  0.658493  102   \n",
       "\n",
       "          이력서작성인지                \n",
       "             mean       std sum  \n",
       "cluster                          \n",
       "0        3.875000  0.991031  31  \n",
       "1        2.766667  0.727932  83  \n",
       "2        3.210526  0.854982  61  \n",
       "3        2.384615  0.960769  31  \n",
       "4        3.555556  0.881917  32  \n",
       "5        2.657143  0.683540  93  "
      ]
     },
     "execution_count": 231,
     "metadata": {},
     "output_type": "execute_result"
    }
   ],
   "source": [
    "df.groupby('cluster')['학년','좋아하는일','진로결정','이력서작성능력','능력준비', '이력서작성인지'].agg(['mean', 'std', 'sum'])"
   ]
  },
  {
   "cell_type": "code",
   "execution_count": 232,
   "metadata": {},
   "outputs": [
    {
     "data": {
      "text/plain": [
       "<matplotlib.axes._subplots.AxesSubplot at 0x11c4fcf8>"
      ]
     },
     "execution_count": 232,
     "metadata": {},
     "output_type": "execute_result"
    },
    {
     "data": {
      "image/png": "[encoded data removed]",
      "text/plain": [
       "<matplotlib.figure.Figure at 0xc0f66d8>"
      ]
     },
     "metadata": {},
     "output_type": "display_data"
    }
   ],
   "source": [
    "sns.boxplot('cluster', '진로결정',data=df)"
   ]
  },
  {
   "cell_type": "code",
   "execution_count": 233,
   "metadata": {},
   "outputs": [
    {
     "data": {
      "text/plain": [
       "<matplotlib.axes._subplots.AxesSubplot at 0x1430af60>"
      ]
     },
     "execution_count": 233,
     "metadata": {},
     "output_type": "execute_result"
    },
    {
     "data": {
      "image/png": "[encoded data removed]",
      "text/plain": [
       "<matplotlib.figure.Figure at 0xc37de80>"
      ]
     },
     "metadata": {},
     "output_type": "display_data"
    }
   ],
   "source": [
    "sns.boxplot('cluster', '학년',data=df)"
   ]
  },
  {
   "cell_type": "code",
   "execution_count": 234,
   "metadata": {},
   "outputs": [
    {
     "data": {
      "text/plain": [
       "<matplotlib.axes._subplots.AxesSubplot at 0x14326160>"
      ]
     },
     "execution_count": 234,
     "metadata": {},
     "output_type": "execute_result"
    },
    {
     "data": {
      "image/png": "[encoded data removed]",
      "text/plain": [
       "<matplotlib.figure.Figure at 0x1477cf28>"
      ]
     },
     "metadata": {},
     "output_type": "display_data"
    }
   ],
   "source": [
    "sns.boxplot('cluster', '성별',data=df)"
   ]
  },
  {
   "cell_type": "code",
   "execution_count": 235,
   "metadata": {},
   "outputs": [],
   "source": [
    "df2 = df.iloc[:,:-4]"
   ]
  },
  {
   "cell_type": "code",
   "execution_count": 236,
   "metadata": {},
   "outputs": [],
   "source": [
    "corr = df2.corr()"
   ]
  },
  {
   "cell_type": "code",
   "execution_count": 237,
   "metadata": {},
   "outputs": [
    {
     "data": {
      "text/plain": [
       "<seaborn.matrix.ClusterGrid at 0x147cbdd8>"
      ]
     },
     "execution_count": 237,
     "metadata": {},
     "output_type": "execute_result"
    },
    {
     "data": {
      "image/png": "[encoded data removed]",
      "text/plain": [
       "<matplotlib.figure.Figure at 0x147cbcf8>"
      ]
     },
     "metadata": {},
     "output_type": "display_data"
    }
   ],
   "source": [
    "sns.clustermap(corr)"
   ]
  },
  {
   "cell_type": "code",
   "execution_count": 239,
   "metadata": {},
   "outputs": [
    {
     "data": {
      "text/plain": [
       "<seaborn.matrix.ClusterGrid at 0x15a3b160>"
      ]
     },
     "execution_count": 239,
     "metadata": {},
     "output_type": "execute_result"
    },
    {
     "data": {
      "image/png": "[encoded data removed]",
      "text/plain": [
       "<matplotlib.figure.Figure at 0x15a3b4e0>"
      ]
     },
     "metadata": {},
     "output_type": "display_data"
    }
   ],
   "source": [
    "sns.clustermap(dfval.corr())"
   ]
  },
  {
   "cell_type": "code",
   "execution_count": null,
   "metadata": {},
   "outputs": [],
   "source": [
    "#df['학과'] = le.inverse_transform(df['학과'])"
   ]
  },
  {
   "cell_type": "code",
   "execution_count": null,
   "metadata": {},
   "outputs": [],
   "source": [
    "writer = pd.ExcelWriter('career3.xlsx')\n",
    "df.to_excel(writer,'Sheet1')\n",
    "writer.save()"
   ]
  },
  {
   "cell_type": "code",
   "execution_count": null,
   "metadata": {},
   "outputs": [],
   "source": [
    "pwd()"
   ]
  },
  {
   "cell_type": "code",
   "execution_count": null,
   "metadata": {},
   "outputs": [],
   "source": []
  }
 ],
 "metadata": {
  "kernelspec": {
   "display_name": "Python 3",
   "language": "python",
   "name": "python3"
  },
  "language_info": {
   "codemirror_mode": {
    "name": "ipython",
    "version": 3
   },
   "file_extension": ".py",
   "mimetype": "text/x-python",
   "name": "python",
   "nbconvert_exporter": "python",
   "pygments_lexer": "ipython3",
   "version": "3.6.6"
  }
 },
 "nbformat": 4,
 "nbformat_minor": 2
}
