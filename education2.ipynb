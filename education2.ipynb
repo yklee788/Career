{
 "cells": [
  {
   "cell_type": "code",
   "execution_count": 1,
   "metadata": {},
   "outputs": [
    {
     "name": "stderr",
     "output_type": "stream",
     "text": [
      "C:\\Users\\suer\\Anaconda3\\lib\\site-packages\\statsmodels\\compat\\pandas.py:56: FutureWarning: The pandas.core.datetools module is deprecated and will be removed in a future version. Please use the pandas.tseries module instead.\n",
      "  from pandas.core import datetools\n",
      "C:\\Users\\suer\\Anaconda3\\lib\\site-packages\\h5py\\__init__.py:36: FutureWarning: Conversion of the second argument of issubdtype from `float` to `np.floating` is deprecated. In future, it will be treated as `np.float64 == np.dtype(float).type`.\n",
      "  from ._conv import register_converters as _register_converters\n",
      "Using TensorFlow backend.\n"
     ]
    }
   ],
   "source": [
    "import numpy as np\n",
    "import pandas as pd\n",
    "import matplotlib.pyplot as plt\n",
    "import seaborn as sns\n",
    "#import sklearn \n",
    "import statsmodels.api as sm\n",
    "from statsmodels.formula.api import ols\n",
    "from matplotlib import font_manager, rc\n",
    "from sklearn.preprocessing import LabelEncoder\n",
    "from fancyimpute import KNN\n",
    "from sklearn.cluster import KMeans\n",
    "from kmodes import kmodes\n",
    "from kmodes.kprototypes import KPrototypes\n",
    "from sklearn.metrics import silhouette_samples, silhouette_score\n",
    "from sklearn.preprocessing import StandardScaler\n",
    "from sklearn.cluster import MeanShift\n",
    "from sklearn.decomposition import PCA\n",
    "from sklearn import metrics\n",
    "from scipy.spatial.distance import cdist\n",
    "from scipy.cluster.hierarchy import dendrogram, linkage\n",
    "#from kmodes import kmodes\n",
    "\n",
    "font_name = font_manager.FontProperties(fname=\"c:/Windows/Fonts/malgun.ttf\").get_name()\n",
    "rc('font', family=font_name)\n",
    "#rc('font', family='MHunmin')\n",
    "fig_size=plt.rcParams[\"figure.figsize\"]\n",
    "#fig size in inches\n",
    "fig_size[0]=10\n",
    "fig_size[1]=8\n",
    "df = pd.read_csv(\"C:/Users/suer/Dropbox/job/education2.csv\", engine='python')"
   ]
  },
  {
   "cell_type": "code",
   "execution_count": 2,
   "metadata": {},
   "outputs": [],
   "source": [
    "score = {1:5,2:4,3:3,4:2,5:1}\n",
    "colnames = df.columns\n",
    "scorecol = ['대학만족도', '진로노력', '4트랙필요','외국어프로그램필요성', '외국어참여', '기간제교사']\n",
    "for x in scorecol:\n",
    "    df[x] = df[x].map(score)"
   ]
  },
  {
   "cell_type": "code",
   "execution_count": 3,
   "metadata": {},
   "outputs": [
    {
     "data": {
      "text/html": [
       "<div>\n",
       "<style scoped>\n",
       "    .dataframe tbody tr th:only-of-type {\n",
       "        vertical-align: middle;\n",
       "    }\n",
       "\n",
       "    .dataframe tbody tr th {\n",
       "        vertical-align: top;\n",
       "    }\n",
       "\n",
       "    .dataframe thead th {\n",
       "        text-align: right;\n",
       "    }\n",
       "</style>\n",
       "<table border=\"1\" class=\"dataframe\">\n",
       "  <thead>\n",
       "    <tr style=\"text-align: right;\">\n",
       "      <th></th>\n",
       "      <th>진학동기</th>\n",
       "      <th>대학만족도</th>\n",
       "      <th>불만족이유</th>\n",
       "      <th>동기1</th>\n",
       "      <th>동기2</th>\n",
       "      <th>동기3</th>\n",
       "      <th>동기4</th>\n",
       "      <th>동기5</th>\n",
       "      <th>교직의사</th>\n",
       "      <th>교직의사변화</th>\n",
       "      <th>...</th>\n",
       "      <th>임용지원2</th>\n",
       "      <th>임용지원3</th>\n",
       "      <th>기간제교사</th>\n",
       "      <th>취창업지원팀</th>\n",
       "      <th>진로교육센터</th>\n",
       "      <th>의견</th>\n",
       "      <th>학과</th>\n",
       "      <th>성별</th>\n",
       "      <th>연령</th>\n",
       "      <th>학년</th>\n",
       "    </tr>\n",
       "  </thead>\n",
       "  <tbody>\n",
       "    <tr>\n",
       "      <th>0</th>\n",
       "      <td>1</td>\n",
       "      <td>4.0</td>\n",
       "      <td>1</td>\n",
       "      <td>4</td>\n",
       "      <td>3</td>\n",
       "      <td>4</td>\n",
       "      <td>4</td>\n",
       "      <td>3</td>\n",
       "      <td>1</td>\n",
       "      <td>1</td>\n",
       "      <td>...</td>\n",
       "      <td>3</td>\n",
       "      <td>7</td>\n",
       "      <td>4.0</td>\n",
       "      <td>2</td>\n",
       "      <td>2</td>\n",
       "      <td>9999</td>\n",
       "      <td>역사교육과</td>\n",
       "      <td>2</td>\n",
       "      <td>19</td>\n",
       "      <td>1</td>\n",
       "    </tr>\n",
       "    <tr>\n",
       "      <th>1</th>\n",
       "      <td>1</td>\n",
       "      <td>4.0</td>\n",
       "      <td>1</td>\n",
       "      <td>5</td>\n",
       "      <td>4</td>\n",
       "      <td>4</td>\n",
       "      <td>5</td>\n",
       "      <td>4</td>\n",
       "      <td>1</td>\n",
       "      <td>1</td>\n",
       "      <td>...</td>\n",
       "      <td>1</td>\n",
       "      <td>2</td>\n",
       "      <td>4.0</td>\n",
       "      <td>1</td>\n",
       "      <td>1</td>\n",
       "      <td>9999</td>\n",
       "      <td>역사교육과</td>\n",
       "      <td>2</td>\n",
       "      <td>18</td>\n",
       "      <td>1</td>\n",
       "    </tr>\n",
       "    <tr>\n",
       "      <th>2</th>\n",
       "      <td>1</td>\n",
       "      <td>5.0</td>\n",
       "      <td>1</td>\n",
       "      <td>5</td>\n",
       "      <td>4</td>\n",
       "      <td>4</td>\n",
       "      <td>4</td>\n",
       "      <td>5</td>\n",
       "      <td>1</td>\n",
       "      <td>1</td>\n",
       "      <td>...</td>\n",
       "      <td>4</td>\n",
       "      <td>7</td>\n",
       "      <td>4.0</td>\n",
       "      <td>2</td>\n",
       "      <td>2</td>\n",
       "      <td>9999</td>\n",
       "      <td>역사교육과</td>\n",
       "      <td>1</td>\n",
       "      <td>18</td>\n",
       "      <td>1</td>\n",
       "    </tr>\n",
       "    <tr>\n",
       "      <th>3</th>\n",
       "      <td>1</td>\n",
       "      <td>5.0</td>\n",
       "      <td>1</td>\n",
       "      <td>5</td>\n",
       "      <td>4</td>\n",
       "      <td>4</td>\n",
       "      <td>5</td>\n",
       "      <td>4</td>\n",
       "      <td>1</td>\n",
       "      <td>1</td>\n",
       "      <td>...</td>\n",
       "      <td>6</td>\n",
       "      <td>4</td>\n",
       "      <td>3.0</td>\n",
       "      <td>2</td>\n",
       "      <td>2</td>\n",
       "      <td>9999</td>\n",
       "      <td>역사교육과</td>\n",
       "      <td>2</td>\n",
       "      <td>19</td>\n",
       "      <td>1</td>\n",
       "    </tr>\n",
       "    <tr>\n",
       "      <th>4</th>\n",
       "      <td>1</td>\n",
       "      <td>5.0</td>\n",
       "      <td>6</td>\n",
       "      <td>5</td>\n",
       "      <td>5</td>\n",
       "      <td>5</td>\n",
       "      <td>5</td>\n",
       "      <td>5</td>\n",
       "      <td>1</td>\n",
       "      <td>1</td>\n",
       "      <td>...</td>\n",
       "      <td>1</td>\n",
       "      <td>3</td>\n",
       "      <td>4.0</td>\n",
       "      <td>2</td>\n",
       "      <td>2</td>\n",
       "      <td>9999</td>\n",
       "      <td>역사교육과</td>\n",
       "      <td>1</td>\n",
       "      <td>18</td>\n",
       "      <td>1</td>\n",
       "    </tr>\n",
       "  </tbody>\n",
       "</table>\n",
       "<p>5 rows × 45 columns</p>\n",
       "</div>"
      ],
      "text/plain": [
       "   진학동기  대학만족도  불만족이유  동기1  동기2  동기3  동기4  동기5  교직의사  교직의사변화 ...  임용지원2  \\\n",
       "0     1    4.0      1    4    3    4    4    3     1       1 ...      3   \n",
       "1     1    4.0      1    5    4    4    5    4     1       1 ...      1   \n",
       "2     1    5.0      1    5    4    4    4    5     1       1 ...      4   \n",
       "3     1    5.0      1    5    4    4    5    4     1       1 ...      6   \n",
       "4     1    5.0      6    5    5    5    5    5     1       1 ...      1   \n",
       "\n",
       "   임용지원3  기간제교사  취창업지원팀  진로교육센터    의견     학과  성별  연령  학년  \n",
       "0      7    4.0       2       2  9999  역사교육과   2  19   1  \n",
       "1      2    4.0       1       1  9999  역사교육과   2  18   1  \n",
       "2      7    4.0       2       2  9999  역사교육과   1  18   1  \n",
       "3      4    3.0       2       2  9999  역사교육과   2  19   1  \n",
       "4      3    4.0       2       2  9999  역사교육과   1  18   1  \n",
       "\n",
       "[5 rows x 45 columns]"
      ]
     },
     "execution_count": 3,
     "metadata": {},
     "output_type": "execute_result"
    }
   ],
   "source": [
    "df.head()"
   ]
  },
  {
   "cell_type": "code",
   "execution_count": 4,
   "metadata": {},
   "outputs": [],
   "source": [
    "df.drop('의견', axis=1, inplace=True)"
   ]
  },
  {
   "cell_type": "code",
   "execution_count": 5,
   "metadata": {},
   "outputs": [
    {
     "data": {
      "text/html": [
       "<div>\n",
       "<style scoped>\n",
       "    .dataframe tbody tr th:only-of-type {\n",
       "        vertical-align: middle;\n",
       "    }\n",
       "\n",
       "    .dataframe tbody tr th {\n",
       "        vertical-align: top;\n",
       "    }\n",
       "\n",
       "    .dataframe thead th {\n",
       "        text-align: right;\n",
       "    }\n",
       "</style>\n",
       "<table border=\"1\" class=\"dataframe\">\n",
       "  <thead>\n",
       "    <tr style=\"text-align: right;\">\n",
       "      <th></th>\n",
       "      <th>진학동기</th>\n",
       "      <th>대학만족도</th>\n",
       "      <th>불만족이유</th>\n",
       "      <th>동기1</th>\n",
       "      <th>동기2</th>\n",
       "      <th>동기3</th>\n",
       "      <th>동기4</th>\n",
       "      <th>동기5</th>\n",
       "      <th>교직의사</th>\n",
       "      <th>교직의사변화</th>\n",
       "      <th>...</th>\n",
       "      <th>임용지원1</th>\n",
       "      <th>임용지원2</th>\n",
       "      <th>임용지원3</th>\n",
       "      <th>기간제교사</th>\n",
       "      <th>취창업지원팀</th>\n",
       "      <th>진로교육센터</th>\n",
       "      <th>학과</th>\n",
       "      <th>성별</th>\n",
       "      <th>연령</th>\n",
       "      <th>학년</th>\n",
       "    </tr>\n",
       "  </thead>\n",
       "  <tbody>\n",
       "    <tr>\n",
       "      <th>0</th>\n",
       "      <td>1</td>\n",
       "      <td>4.0</td>\n",
       "      <td>1</td>\n",
       "      <td>4</td>\n",
       "      <td>3</td>\n",
       "      <td>4</td>\n",
       "      <td>4</td>\n",
       "      <td>3</td>\n",
       "      <td>1</td>\n",
       "      <td>1</td>\n",
       "      <td>...</td>\n",
       "      <td>2</td>\n",
       "      <td>3</td>\n",
       "      <td>7</td>\n",
       "      <td>4.0</td>\n",
       "      <td>2</td>\n",
       "      <td>2</td>\n",
       "      <td>역사교육과</td>\n",
       "      <td>2</td>\n",
       "      <td>19</td>\n",
       "      <td>1</td>\n",
       "    </tr>\n",
       "    <tr>\n",
       "      <th>1</th>\n",
       "      <td>1</td>\n",
       "      <td>4.0</td>\n",
       "      <td>1</td>\n",
       "      <td>5</td>\n",
       "      <td>4</td>\n",
       "      <td>4</td>\n",
       "      <td>5</td>\n",
       "      <td>4</td>\n",
       "      <td>1</td>\n",
       "      <td>1</td>\n",
       "      <td>...</td>\n",
       "      <td>6</td>\n",
       "      <td>1</td>\n",
       "      <td>2</td>\n",
       "      <td>4.0</td>\n",
       "      <td>1</td>\n",
       "      <td>1</td>\n",
       "      <td>역사교육과</td>\n",
       "      <td>2</td>\n",
       "      <td>18</td>\n",
       "      <td>1</td>\n",
       "    </tr>\n",
       "    <tr>\n",
       "      <th>2</th>\n",
       "      <td>1</td>\n",
       "      <td>5.0</td>\n",
       "      <td>1</td>\n",
       "      <td>5</td>\n",
       "      <td>4</td>\n",
       "      <td>4</td>\n",
       "      <td>4</td>\n",
       "      <td>5</td>\n",
       "      <td>1</td>\n",
       "      <td>1</td>\n",
       "      <td>...</td>\n",
       "      <td>2</td>\n",
       "      <td>4</td>\n",
       "      <td>7</td>\n",
       "      <td>4.0</td>\n",
       "      <td>2</td>\n",
       "      <td>2</td>\n",
       "      <td>역사교육과</td>\n",
       "      <td>1</td>\n",
       "      <td>18</td>\n",
       "      <td>1</td>\n",
       "    </tr>\n",
       "    <tr>\n",
       "      <th>3</th>\n",
       "      <td>1</td>\n",
       "      <td>5.0</td>\n",
       "      <td>1</td>\n",
       "      <td>5</td>\n",
       "      <td>4</td>\n",
       "      <td>4</td>\n",
       "      <td>5</td>\n",
       "      <td>4</td>\n",
       "      <td>1</td>\n",
       "      <td>1</td>\n",
       "      <td>...</td>\n",
       "      <td>2</td>\n",
       "      <td>6</td>\n",
       "      <td>4</td>\n",
       "      <td>3.0</td>\n",
       "      <td>2</td>\n",
       "      <td>2</td>\n",
       "      <td>역사교육과</td>\n",
       "      <td>2</td>\n",
       "      <td>19</td>\n",
       "      <td>1</td>\n",
       "    </tr>\n",
       "    <tr>\n",
       "      <th>4</th>\n",
       "      <td>1</td>\n",
       "      <td>5.0</td>\n",
       "      <td>6</td>\n",
       "      <td>5</td>\n",
       "      <td>5</td>\n",
       "      <td>5</td>\n",
       "      <td>5</td>\n",
       "      <td>5</td>\n",
       "      <td>1</td>\n",
       "      <td>1</td>\n",
       "      <td>...</td>\n",
       "      <td>4</td>\n",
       "      <td>1</td>\n",
       "      <td>3</td>\n",
       "      <td>4.0</td>\n",
       "      <td>2</td>\n",
       "      <td>2</td>\n",
       "      <td>역사교육과</td>\n",
       "      <td>1</td>\n",
       "      <td>18</td>\n",
       "      <td>1</td>\n",
       "    </tr>\n",
       "  </tbody>\n",
       "</table>\n",
       "<p>5 rows × 44 columns</p>\n",
       "</div>"
      ],
      "text/plain": [
       "   진학동기  대학만족도  불만족이유  동기1  동기2  동기3  동기4  동기5  교직의사  교직의사변화 ...  임용지원1  \\\n",
       "0     1    4.0      1    4    3    4    4    3     1       1 ...      2   \n",
       "1     1    4.0      1    5    4    4    5    4     1       1 ...      6   \n",
       "2     1    5.0      1    5    4    4    4    5     1       1 ...      2   \n",
       "3     1    5.0      1    5    4    4    5    4     1       1 ...      2   \n",
       "4     1    5.0      6    5    5    5    5    5     1       1 ...      4   \n",
       "\n",
       "   임용지원2  임용지원3  기간제교사  취창업지원팀  진로교육센터     학과  성별  연령  학년  \n",
       "0      3      7    4.0       2       2  역사교육과   2  19   1  \n",
       "1      1      2    4.0       1       1  역사교육과   2  18   1  \n",
       "2      4      7    4.0       2       2  역사교육과   1  18   1  \n",
       "3      6      4    3.0       2       2  역사교육과   2  19   1  \n",
       "4      1      3    4.0       2       2  역사교육과   1  18   1  \n",
       "\n",
       "[5 rows x 44 columns]"
      ]
     },
     "execution_count": 5,
     "metadata": {},
     "output_type": "execute_result"
    }
   ],
   "source": [
    "df.head()"
   ]
  },
  {
   "cell_type": "code",
   "execution_count": 6,
   "metadata": {},
   "outputs": [
    {
     "data": {
      "text/html": [
       "<div>\n",
       "<style scoped>\n",
       "    .dataframe tbody tr th:only-of-type {\n",
       "        vertical-align: middle;\n",
       "    }\n",
       "\n",
       "    .dataframe tbody tr th {\n",
       "        vertical-align: top;\n",
       "    }\n",
       "\n",
       "    .dataframe thead th {\n",
       "        text-align: right;\n",
       "    }\n",
       "</style>\n",
       "<table border=\"1\" class=\"dataframe\">\n",
       "  <thead>\n",
       "    <tr style=\"text-align: right;\">\n",
       "      <th></th>\n",
       "      <th>진학동기</th>\n",
       "      <th>대학만족도</th>\n",
       "      <th>불만족이유</th>\n",
       "      <th>동기1</th>\n",
       "      <th>동기2</th>\n",
       "      <th>동기3</th>\n",
       "      <th>동기4</th>\n",
       "      <th>동기5</th>\n",
       "      <th>교직의사</th>\n",
       "      <th>교직의사변화</th>\n",
       "      <th>...</th>\n",
       "      <th>필요프로그램</th>\n",
       "      <th>임용지원1</th>\n",
       "      <th>임용지원2</th>\n",
       "      <th>임용지원3</th>\n",
       "      <th>기간제교사</th>\n",
       "      <th>취창업지원팀</th>\n",
       "      <th>진로교육센터</th>\n",
       "      <th>성별</th>\n",
       "      <th>연령</th>\n",
       "      <th>학년</th>\n",
       "    </tr>\n",
       "  </thead>\n",
       "  <tbody>\n",
       "    <tr>\n",
       "      <th>count</th>\n",
       "      <td>565.000000</td>\n",
       "      <td>561.000000</td>\n",
       "      <td>565.000000</td>\n",
       "      <td>565.000000</td>\n",
       "      <td>565.000000</td>\n",
       "      <td>565.000000</td>\n",
       "      <td>565.000000</td>\n",
       "      <td>565.000000</td>\n",
       "      <td>565.000000</td>\n",
       "      <td>565.000000</td>\n",
       "      <td>...</td>\n",
       "      <td>565.000000</td>\n",
       "      <td>565.000000</td>\n",
       "      <td>565.000000</td>\n",
       "      <td>565.000000</td>\n",
       "      <td>558.000000</td>\n",
       "      <td>565.000000</td>\n",
       "      <td>565.000000</td>\n",
       "      <td>565.000000</td>\n",
       "      <td>565.000000</td>\n",
       "      <td>565.000000</td>\n",
       "    </tr>\n",
       "    <tr>\n",
       "      <th>mean</th>\n",
       "      <td>54.869027</td>\n",
       "      <td>4.081996</td>\n",
       "      <td>6956.127434</td>\n",
       "      <td>163.375221</td>\n",
       "      <td>127.879646</td>\n",
       "      <td>127.545133</td>\n",
       "      <td>163.391150</td>\n",
       "      <td>216.053097</td>\n",
       "      <td>72.060177</td>\n",
       "      <td>656.113274</td>\n",
       "      <td>...</td>\n",
       "      <td>108.405310</td>\n",
       "      <td>91.408850</td>\n",
       "      <td>180.800000</td>\n",
       "      <td>181.081416</td>\n",
       "      <td>3.476703</td>\n",
       "      <td>107.812389</td>\n",
       "      <td>160.874336</td>\n",
       "      <td>107.729204</td>\n",
       "      <td>127.097345</td>\n",
       "      <td>91.224779</td>\n",
       "    </tr>\n",
       "    <tr>\n",
       "      <th>std</th>\n",
       "      <td>727.184733</td>\n",
       "      <td>0.948898</td>\n",
       "      <td>4603.630937</td>\n",
       "      <td>1252.479419</td>\n",
       "      <td>1106.580901</td>\n",
       "      <td>1106.618519</td>\n",
       "      <td>1252.477379</td>\n",
       "      <td>1442.389364</td>\n",
       "      <td>838.974484</td>\n",
       "      <td>2475.424466</td>\n",
       "      <td>...</td>\n",
       "      <td>1025.598549</td>\n",
       "      <td>937.010665</td>\n",
       "      <td>1319.081362</td>\n",
       "      <td>1319.040324</td>\n",
       "      <td>1.105882</td>\n",
       "      <td>1025.658782</td>\n",
       "      <td>1252.797675</td>\n",
       "      <td>1025.667361</td>\n",
       "      <td>1023.661442</td>\n",
       "      <td>937.027042</td>\n",
       "    </tr>\n",
       "    <tr>\n",
       "      <th>min</th>\n",
       "      <td>1.000000</td>\n",
       "      <td>1.000000</td>\n",
       "      <td>1.000000</td>\n",
       "      <td>1.000000</td>\n",
       "      <td>1.000000</td>\n",
       "      <td>1.000000</td>\n",
       "      <td>1.000000</td>\n",
       "      <td>1.000000</td>\n",
       "      <td>1.000000</td>\n",
       "      <td>1.000000</td>\n",
       "      <td>...</td>\n",
       "      <td>1.000000</td>\n",
       "      <td>1.000000</td>\n",
       "      <td>1.000000</td>\n",
       "      <td>1.000000</td>\n",
       "      <td>1.000000</td>\n",
       "      <td>1.000000</td>\n",
       "      <td>1.000000</td>\n",
       "      <td>1.000000</td>\n",
       "      <td>17.000000</td>\n",
       "      <td>1.000000</td>\n",
       "    </tr>\n",
       "    <tr>\n",
       "      <th>25%</th>\n",
       "      <td>1.000000</td>\n",
       "      <td>3.000000</td>\n",
       "      <td>6.000000</td>\n",
       "      <td>4.000000</td>\n",
       "      <td>4.000000</td>\n",
       "      <td>3.000000</td>\n",
       "      <td>4.000000</td>\n",
       "      <td>3.000000</td>\n",
       "      <td>1.000000</td>\n",
       "      <td>1.000000</td>\n",
       "      <td>...</td>\n",
       "      <td>1.000000</td>\n",
       "      <td>2.000000</td>\n",
       "      <td>2.000000</td>\n",
       "      <td>3.000000</td>\n",
       "      <td>3.000000</td>\n",
       "      <td>1.000000</td>\n",
       "      <td>1.000000</td>\n",
       "      <td>1.000000</td>\n",
       "      <td>20.000000</td>\n",
       "      <td>2.000000</td>\n",
       "    </tr>\n",
       "    <tr>\n",
       "      <th>50%</th>\n",
       "      <td>1.000000</td>\n",
       "      <td>4.000000</td>\n",
       "      <td>9999.000000</td>\n",
       "      <td>4.000000</td>\n",
       "      <td>4.000000</td>\n",
       "      <td>4.000000</td>\n",
       "      <td>4.000000</td>\n",
       "      <td>4.000000</td>\n",
       "      <td>1.000000</td>\n",
       "      <td>1.000000</td>\n",
       "      <td>...</td>\n",
       "      <td>1.000000</td>\n",
       "      <td>2.000000</td>\n",
       "      <td>4.000000</td>\n",
       "      <td>4.000000</td>\n",
       "      <td>4.000000</td>\n",
       "      <td>2.000000</td>\n",
       "      <td>2.000000</td>\n",
       "      <td>2.000000</td>\n",
       "      <td>21.000000</td>\n",
       "      <td>3.000000</td>\n",
       "    </tr>\n",
       "    <tr>\n",
       "      <th>75%</th>\n",
       "      <td>2.000000</td>\n",
       "      <td>5.000000</td>\n",
       "      <td>9999.000000</td>\n",
       "      <td>5.000000</td>\n",
       "      <td>5.000000</td>\n",
       "      <td>4.000000</td>\n",
       "      <td>5.000000</td>\n",
       "      <td>4.000000</td>\n",
       "      <td>1.000000</td>\n",
       "      <td>2.000000</td>\n",
       "      <td>...</td>\n",
       "      <td>3.000000</td>\n",
       "      <td>4.000000</td>\n",
       "      <td>5.000000</td>\n",
       "      <td>6.000000</td>\n",
       "      <td>4.000000</td>\n",
       "      <td>2.000000</td>\n",
       "      <td>2.000000</td>\n",
       "      <td>2.000000</td>\n",
       "      <td>22.000000</td>\n",
       "      <td>4.000000</td>\n",
       "    </tr>\n",
       "    <tr>\n",
       "      <th>max</th>\n",
       "      <td>9999.000000</td>\n",
       "      <td>5.000000</td>\n",
       "      <td>9999.000000</td>\n",
       "      <td>9999.000000</td>\n",
       "      <td>9999.000000</td>\n",
       "      <td>9999.000000</td>\n",
       "      <td>9999.000000</td>\n",
       "      <td>9999.000000</td>\n",
       "      <td>9999.000000</td>\n",
       "      <td>9999.000000</td>\n",
       "      <td>...</td>\n",
       "      <td>9999.000000</td>\n",
       "      <td>9999.000000</td>\n",
       "      <td>9999.000000</td>\n",
       "      <td>9999.000000</td>\n",
       "      <td>5.000000</td>\n",
       "      <td>9999.000000</td>\n",
       "      <td>9999.000000</td>\n",
       "      <td>9999.000000</td>\n",
       "      <td>9999.000000</td>\n",
       "      <td>9999.000000</td>\n",
       "    </tr>\n",
       "  </tbody>\n",
       "</table>\n",
       "<p>8 rows × 43 columns</p>\n",
       "</div>"
      ],
      "text/plain": [
       "              진학동기       대학만족도        불만족이유          동기1          동기2  \\\n",
       "count   565.000000  561.000000   565.000000   565.000000   565.000000   \n",
       "mean     54.869027    4.081996  6956.127434   163.375221   127.879646   \n",
       "std     727.184733    0.948898  4603.630937  1252.479419  1106.580901   \n",
       "min       1.000000    1.000000     1.000000     1.000000     1.000000   \n",
       "25%       1.000000    3.000000     6.000000     4.000000     4.000000   \n",
       "50%       1.000000    4.000000  9999.000000     4.000000     4.000000   \n",
       "75%       2.000000    5.000000  9999.000000     5.000000     5.000000   \n",
       "max    9999.000000    5.000000  9999.000000  9999.000000  9999.000000   \n",
       "\n",
       "               동기3          동기4          동기5         교직의사       교직의사변화  \\\n",
       "count   565.000000   565.000000   565.000000   565.000000   565.000000   \n",
       "mean    127.545133   163.391150   216.053097    72.060177   656.113274   \n",
       "std    1106.618519  1252.477379  1442.389364   838.974484  2475.424466   \n",
       "min       1.000000     1.000000     1.000000     1.000000     1.000000   \n",
       "25%       3.000000     4.000000     3.000000     1.000000     1.000000   \n",
       "50%       4.000000     4.000000     4.000000     1.000000     1.000000   \n",
       "75%       4.000000     5.000000     4.000000     1.000000     2.000000   \n",
       "max    9999.000000  9999.000000  9999.000000  9999.000000  9999.000000   \n",
       "\n",
       "          ...            필요프로그램        임용지원1        임용지원2        임용지원3  \\\n",
       "count     ...        565.000000   565.000000   565.000000   565.000000   \n",
       "mean      ...        108.405310    91.408850   180.800000   181.081416   \n",
       "std       ...       1025.598549   937.010665  1319.081362  1319.040324   \n",
       "min       ...          1.000000     1.000000     1.000000     1.000000   \n",
       "25%       ...          1.000000     2.000000     2.000000     3.000000   \n",
       "50%       ...          1.000000     2.000000     4.000000     4.000000   \n",
       "75%       ...          3.000000     4.000000     5.000000     6.000000   \n",
       "max       ...       9999.000000  9999.000000  9999.000000  9999.000000   \n",
       "\n",
       "            기간제교사       취창업지원팀       진로교육센터           성별           연령  \\\n",
       "count  558.000000   565.000000   565.000000   565.000000   565.000000   \n",
       "mean     3.476703   107.812389   160.874336   107.729204   127.097345   \n",
       "std      1.105882  1025.658782  1252.797675  1025.667361  1023.661442   \n",
       "min      1.000000     1.000000     1.000000     1.000000    17.000000   \n",
       "25%      3.000000     1.000000     1.000000     1.000000    20.000000   \n",
       "50%      4.000000     2.000000     2.000000     2.000000    21.000000   \n",
       "75%      4.000000     2.000000     2.000000     2.000000    22.000000   \n",
       "max      5.000000  9999.000000  9999.000000  9999.000000  9999.000000   \n",
       "\n",
       "                학년  \n",
       "count   565.000000  \n",
       "mean     91.224779  \n",
       "std     937.027042  \n",
       "min       1.000000  \n",
       "25%       2.000000  \n",
       "50%       3.000000  \n",
       "75%       4.000000  \n",
       "max    9999.000000  \n",
       "\n",
       "[8 rows x 43 columns]"
      ]
     },
     "execution_count": 6,
     "metadata": {},
     "output_type": "execute_result"
    }
   ],
   "source": [
    "df.describe()"
   ]
  },
  {
   "cell_type": "code",
   "execution_count": 7,
   "metadata": {},
   "outputs": [
    {
     "data": {
      "text/html": [
       "<div>\n",
       "<style scoped>\n",
       "    .dataframe tbody tr th:only-of-type {\n",
       "        vertical-align: middle;\n",
       "    }\n",
       "\n",
       "    .dataframe tbody tr th {\n",
       "        vertical-align: top;\n",
       "    }\n",
       "\n",
       "    .dataframe thead th {\n",
       "        text-align: right;\n",
       "    }\n",
       "</style>\n",
       "<table border=\"1\" class=\"dataframe\">\n",
       "  <thead>\n",
       "    <tr style=\"text-align: right;\">\n",
       "      <th>대학만족도</th>\n",
       "      <th>1.0</th>\n",
       "      <th>2.0</th>\n",
       "      <th>3.0</th>\n",
       "      <th>4.0</th>\n",
       "      <th>5.0</th>\n",
       "      <th>All</th>\n",
       "    </tr>\n",
       "    <tr>\n",
       "      <th>진학동기</th>\n",
       "      <th></th>\n",
       "      <th></th>\n",
       "      <th></th>\n",
       "      <th></th>\n",
       "      <th></th>\n",
       "      <th></th>\n",
       "    </tr>\n",
       "  </thead>\n",
       "  <tbody>\n",
       "    <tr>\n",
       "      <th>1</th>\n",
       "      <td>1</td>\n",
       "      <td>25</td>\n",
       "      <td>52</td>\n",
       "      <td>136</td>\n",
       "      <td>183</td>\n",
       "      <td>397</td>\n",
       "    </tr>\n",
       "    <tr>\n",
       "      <th>2</th>\n",
       "      <td>0</td>\n",
       "      <td>5</td>\n",
       "      <td>10</td>\n",
       "      <td>9</td>\n",
       "      <td>7</td>\n",
       "      <td>31</td>\n",
       "    </tr>\n",
       "    <tr>\n",
       "      <th>3</th>\n",
       "      <td>0</td>\n",
       "      <td>2</td>\n",
       "      <td>16</td>\n",
       "      <td>16</td>\n",
       "      <td>10</td>\n",
       "      <td>44</td>\n",
       "    </tr>\n",
       "    <tr>\n",
       "      <th>4</th>\n",
       "      <td>0</td>\n",
       "      <td>4</td>\n",
       "      <td>14</td>\n",
       "      <td>12</td>\n",
       "      <td>9</td>\n",
       "      <td>39</td>\n",
       "    </tr>\n",
       "    <tr>\n",
       "      <th>5</th>\n",
       "      <td>2</td>\n",
       "      <td>1</td>\n",
       "      <td>8</td>\n",
       "      <td>14</td>\n",
       "      <td>19</td>\n",
       "      <td>44</td>\n",
       "    </tr>\n",
       "    <tr>\n",
       "      <th>6</th>\n",
       "      <td>0</td>\n",
       "      <td>0</td>\n",
       "      <td>2</td>\n",
       "      <td>1</td>\n",
       "      <td>3</td>\n",
       "      <td>6</td>\n",
       "    </tr>\n",
       "    <tr>\n",
       "      <th>All</th>\n",
       "      <td>3</td>\n",
       "      <td>37</td>\n",
       "      <td>102</td>\n",
       "      <td>188</td>\n",
       "      <td>231</td>\n",
       "      <td>561</td>\n",
       "    </tr>\n",
       "  </tbody>\n",
       "</table>\n",
       "</div>"
      ],
      "text/plain": [
       "대학만족도  1.0  2.0  3.0  4.0  5.0  All\n",
       "진학동기                               \n",
       "1        1   25   52  136  183  397\n",
       "2        0    5   10    9    7   31\n",
       "3        0    2   16   16   10   44\n",
       "4        0    4   14   12    9   39\n",
       "5        2    1    8   14   19   44\n",
       "6        0    0    2    1    3    6\n",
       "All      3   37  102  188  231  561"
      ]
     },
     "execution_count": 7,
     "metadata": {},
     "output_type": "execute_result"
    }
   ],
   "source": [
    "pd.crosstab(df['진학동기'],df['대학만족도'], margins=True)"
   ]
  },
  {
   "cell_type": "code",
   "execution_count": 8,
   "metadata": {},
   "outputs": [
    {
     "data": {
      "text/plain": [
       "<matplotlib.axes._subplots.AxesSubplot at 0xf393898>"
      ]
     },
     "execution_count": 8,
     "metadata": {},
     "output_type": "execute_result"
    },
    {
     "data": {
      "image/png": "[encoded data removed]",
      "text/plain": [
       "<matplotlib.figure.Figure at 0x10375860>"
      ]
     },
     "metadata": {},
     "output_type": "display_data"
    }
   ],
   "source": [
    "sns.boxplot(x='진학동기',y='대학만족도',data=df, hue='성별')"
   ]
  },
  {
   "cell_type": "code",
   "execution_count": 9,
   "metadata": {},
   "outputs": [
    {
     "name": "stdout",
     "output_type": "stream",
     "text": [
      "Imputing row 1/565 with 1 missing, elapsed time: 0.132\n",
      "Imputing row 101/565 with 2 missing, elapsed time: 0.135\n",
      "Imputing row 201/565 with 2 missing, elapsed time: 0.138\n",
      "Imputing row 301/565 with 1 missing, elapsed time: 0.145\n",
      "Imputing row 401/565 with 2 missing, elapsed time: 0.148\n",
      "Imputing row 501/565 with 6 missing, elapsed time: 0.152\n"
     ]
    }
   ],
   "source": [
    "le = LabelEncoder()\n",
    "df['학과'] = le.fit_transform(df['학과'])\n",
    "colnames = df.columns\n",
    "df = df.replace(9999,np.NaN)\n",
    "df = KNN(k=3).complete(df)\n",
    "df = df.astype(int)\n",
    "df= pd.DataFrame(data=df, columns=colnames)   "
   ]
  },
  {
   "cell_type": "code",
   "execution_count": 10,
   "metadata": {},
   "outputs": [
    {
     "data": {
      "text/html": [
       "<div>\n",
       "<style scoped>\n",
       "    .dataframe tbody tr th:only-of-type {\n",
       "        vertical-align: middle;\n",
       "    }\n",
       "\n",
       "    .dataframe tbody tr th {\n",
       "        vertical-align: top;\n",
       "    }\n",
       "\n",
       "    .dataframe thead th {\n",
       "        text-align: right;\n",
       "    }\n",
       "</style>\n",
       "<table border=\"1\" class=\"dataframe\">\n",
       "  <thead>\n",
       "    <tr style=\"text-align: right;\">\n",
       "      <th></th>\n",
       "      <th>진학동기</th>\n",
       "      <th>대학만족도</th>\n",
       "      <th>불만족이유</th>\n",
       "      <th>동기1</th>\n",
       "      <th>동기2</th>\n",
       "      <th>동기3</th>\n",
       "      <th>동기4</th>\n",
       "      <th>동기5</th>\n",
       "      <th>교직의사</th>\n",
       "      <th>교직의사변화</th>\n",
       "      <th>...</th>\n",
       "      <th>임용지원1</th>\n",
       "      <th>임용지원2</th>\n",
       "      <th>임용지원3</th>\n",
       "      <th>기간제교사</th>\n",
       "      <th>취창업지원팀</th>\n",
       "      <th>진로교육센터</th>\n",
       "      <th>학과</th>\n",
       "      <th>성별</th>\n",
       "      <th>연령</th>\n",
       "      <th>학년</th>\n",
       "    </tr>\n",
       "  </thead>\n",
       "  <tbody>\n",
       "    <tr>\n",
       "      <th>0</th>\n",
       "      <td>1</td>\n",
       "      <td>4</td>\n",
       "      <td>1</td>\n",
       "      <td>4</td>\n",
       "      <td>3</td>\n",
       "      <td>4</td>\n",
       "      <td>4</td>\n",
       "      <td>3</td>\n",
       "      <td>1</td>\n",
       "      <td>1</td>\n",
       "      <td>...</td>\n",
       "      <td>2</td>\n",
       "      <td>3</td>\n",
       "      <td>7</td>\n",
       "      <td>4</td>\n",
       "      <td>2</td>\n",
       "      <td>2</td>\n",
       "      <td>5</td>\n",
       "      <td>2</td>\n",
       "      <td>19</td>\n",
       "      <td>1</td>\n",
       "    </tr>\n",
       "    <tr>\n",
       "      <th>1</th>\n",
       "      <td>1</td>\n",
       "      <td>4</td>\n",
       "      <td>1</td>\n",
       "      <td>5</td>\n",
       "      <td>4</td>\n",
       "      <td>4</td>\n",
       "      <td>5</td>\n",
       "      <td>4</td>\n",
       "      <td>1</td>\n",
       "      <td>1</td>\n",
       "      <td>...</td>\n",
       "      <td>6</td>\n",
       "      <td>1</td>\n",
       "      <td>2</td>\n",
       "      <td>4</td>\n",
       "      <td>1</td>\n",
       "      <td>1</td>\n",
       "      <td>5</td>\n",
       "      <td>2</td>\n",
       "      <td>18</td>\n",
       "      <td>1</td>\n",
       "    </tr>\n",
       "    <tr>\n",
       "      <th>2</th>\n",
       "      <td>1</td>\n",
       "      <td>5</td>\n",
       "      <td>1</td>\n",
       "      <td>5</td>\n",
       "      <td>4</td>\n",
       "      <td>4</td>\n",
       "      <td>4</td>\n",
       "      <td>5</td>\n",
       "      <td>1</td>\n",
       "      <td>1</td>\n",
       "      <td>...</td>\n",
       "      <td>2</td>\n",
       "      <td>4</td>\n",
       "      <td>7</td>\n",
       "      <td>4</td>\n",
       "      <td>2</td>\n",
       "      <td>2</td>\n",
       "      <td>5</td>\n",
       "      <td>1</td>\n",
       "      <td>18</td>\n",
       "      <td>1</td>\n",
       "    </tr>\n",
       "    <tr>\n",
       "      <th>3</th>\n",
       "      <td>1</td>\n",
       "      <td>5</td>\n",
       "      <td>1</td>\n",
       "      <td>5</td>\n",
       "      <td>4</td>\n",
       "      <td>4</td>\n",
       "      <td>5</td>\n",
       "      <td>4</td>\n",
       "      <td>1</td>\n",
       "      <td>1</td>\n",
       "      <td>...</td>\n",
       "      <td>2</td>\n",
       "      <td>6</td>\n",
       "      <td>4</td>\n",
       "      <td>3</td>\n",
       "      <td>2</td>\n",
       "      <td>2</td>\n",
       "      <td>5</td>\n",
       "      <td>2</td>\n",
       "      <td>19</td>\n",
       "      <td>1</td>\n",
       "    </tr>\n",
       "    <tr>\n",
       "      <th>4</th>\n",
       "      <td>1</td>\n",
       "      <td>5</td>\n",
       "      <td>6</td>\n",
       "      <td>5</td>\n",
       "      <td>5</td>\n",
       "      <td>5</td>\n",
       "      <td>5</td>\n",
       "      <td>5</td>\n",
       "      <td>1</td>\n",
       "      <td>1</td>\n",
       "      <td>...</td>\n",
       "      <td>4</td>\n",
       "      <td>1</td>\n",
       "      <td>3</td>\n",
       "      <td>4</td>\n",
       "      <td>2</td>\n",
       "      <td>2</td>\n",
       "      <td>5</td>\n",
       "      <td>1</td>\n",
       "      <td>18</td>\n",
       "      <td>1</td>\n",
       "    </tr>\n",
       "  </tbody>\n",
       "</table>\n",
       "<p>5 rows × 44 columns</p>\n",
       "</div>"
      ],
      "text/plain": [
       "   진학동기  대학만족도  불만족이유  동기1  동기2  동기3  동기4  동기5  교직의사  교직의사변화 ...  임용지원1  \\\n",
       "0     1      4      1    4    3    4    4    3     1       1 ...      2   \n",
       "1     1      4      1    5    4    4    5    4     1       1 ...      6   \n",
       "2     1      5      1    5    4    4    4    5     1       1 ...      2   \n",
       "3     1      5      1    5    4    4    5    4     1       1 ...      2   \n",
       "4     1      5      6    5    5    5    5    5     1       1 ...      4   \n",
       "\n",
       "   임용지원2  임용지원3  기간제교사  취창업지원팀  진로교육센터  학과  성별  연령  학년  \n",
       "0      3      7      4       2       2   5   2  19   1  \n",
       "1      1      2      4       1       1   5   2  18   1  \n",
       "2      4      7      4       2       2   5   1  18   1  \n",
       "3      6      4      3       2       2   5   2  19   1  \n",
       "4      1      3      4       2       2   5   1  18   1  \n",
       "\n",
       "[5 rows x 44 columns]"
      ]
     },
     "execution_count": 10,
     "metadata": {},
     "output_type": "execute_result"
    }
   ],
   "source": [
    "df.head()"
   ]
  },
  {
   "cell_type": "code",
   "execution_count": 11,
   "metadata": {},
   "outputs": [
    {
     "data": {
      "text/html": [
       "<div>\n",
       "<style scoped>\n",
       "    .dataframe tbody tr th:only-of-type {\n",
       "        vertical-align: middle;\n",
       "    }\n",
       "\n",
       "    .dataframe tbody tr th {\n",
       "        vertical-align: top;\n",
       "    }\n",
       "\n",
       "    .dataframe thead th {\n",
       "        text-align: right;\n",
       "    }\n",
       "</style>\n",
       "<table border=\"1\" class=\"dataframe\">\n",
       "  <thead>\n",
       "    <tr style=\"text-align: right;\">\n",
       "      <th></th>\n",
       "      <th>진학동기</th>\n",
       "      <th>대학만족도</th>\n",
       "      <th>불만족이유</th>\n",
       "      <th>동기1</th>\n",
       "      <th>동기2</th>\n",
       "      <th>동기3</th>\n",
       "      <th>동기4</th>\n",
       "      <th>동기5</th>\n",
       "      <th>교직의사</th>\n",
       "      <th>교직의사변화</th>\n",
       "      <th>...</th>\n",
       "      <th>임용지원1</th>\n",
       "      <th>임용지원2</th>\n",
       "      <th>임용지원3</th>\n",
       "      <th>기간제교사</th>\n",
       "      <th>취창업지원팀</th>\n",
       "      <th>진로교육센터</th>\n",
       "      <th>학과</th>\n",
       "      <th>성별</th>\n",
       "      <th>연령</th>\n",
       "      <th>학년</th>\n",
       "    </tr>\n",
       "  </thead>\n",
       "  <tbody>\n",
       "    <tr>\n",
       "      <th>count</th>\n",
       "      <td>565.000000</td>\n",
       "      <td>565.000000</td>\n",
       "      <td>565.000000</td>\n",
       "      <td>565.000000</td>\n",
       "      <td>565.000000</td>\n",
       "      <td>565.000000</td>\n",
       "      <td>565.000000</td>\n",
       "      <td>565.000000</td>\n",
       "      <td>565.000000</td>\n",
       "      <td>565.000000</td>\n",
       "      <td>...</td>\n",
       "      <td>565.000000</td>\n",
       "      <td>565.000000</td>\n",
       "      <td>565.000000</td>\n",
       "      <td>565.000000</td>\n",
       "      <td>565.000000</td>\n",
       "      <td>565.000000</td>\n",
       "      <td>565.000000</td>\n",
       "      <td>565.000000</td>\n",
       "      <td>565.000000</td>\n",
       "      <td>565.000000</td>\n",
       "    </tr>\n",
       "    <tr>\n",
       "      <th>mean</th>\n",
       "      <td>1.785841</td>\n",
       "      <td>4.074336</td>\n",
       "      <td>3.180531</td>\n",
       "      <td>4.159292</td>\n",
       "      <td>4.046018</td>\n",
       "      <td>3.702655</td>\n",
       "      <td>4.178761</td>\n",
       "      <td>3.757522</td>\n",
       "      <td>1.277876</td>\n",
       "      <td>1.368142</td>\n",
       "      <td>...</td>\n",
       "      <td>2.939823</td>\n",
       "      <td>3.874336</td>\n",
       "      <td>4.180531</td>\n",
       "      <td>3.469027</td>\n",
       "      <td>1.640708</td>\n",
       "      <td>1.615929</td>\n",
       "      <td>5.099115</td>\n",
       "      <td>1.559292</td>\n",
       "      <td>21.132743</td>\n",
       "      <td>2.757522</td>\n",
       "    </tr>\n",
       "    <tr>\n",
       "      <th>std</th>\n",
       "      <td>1.374209</td>\n",
       "      <td>0.949877</td>\n",
       "      <td>1.465675</td>\n",
       "      <td>0.916422</td>\n",
       "      <td>0.861719</td>\n",
       "      <td>1.003580</td>\n",
       "      <td>0.898132</td>\n",
       "      <td>0.912658</td>\n",
       "      <td>0.640497</td>\n",
       "      <td>0.826668</td>\n",
       "      <td>...</td>\n",
       "      <td>1.798322</td>\n",
       "      <td>3.506346</td>\n",
       "      <td>1.936760</td>\n",
       "      <td>1.106643</td>\n",
       "      <td>0.586587</td>\n",
       "      <td>0.558075</td>\n",
       "      <td>3.653049</td>\n",
       "      <td>0.496912</td>\n",
       "      <td>2.295943</td>\n",
       "      <td>1.139071</td>\n",
       "    </tr>\n",
       "    <tr>\n",
       "      <th>min</th>\n",
       "      <td>1.000000</td>\n",
       "      <td>1.000000</td>\n",
       "      <td>0.000000</td>\n",
       "      <td>1.000000</td>\n",
       "      <td>1.000000</td>\n",
       "      <td>1.000000</td>\n",
       "      <td>1.000000</td>\n",
       "      <td>1.000000</td>\n",
       "      <td>1.000000</td>\n",
       "      <td>0.000000</td>\n",
       "      <td>...</td>\n",
       "      <td>1.000000</td>\n",
       "      <td>1.000000</td>\n",
       "      <td>1.000000</td>\n",
       "      <td>1.000000</td>\n",
       "      <td>1.000000</td>\n",
       "      <td>1.000000</td>\n",
       "      <td>0.000000</td>\n",
       "      <td>1.000000</td>\n",
       "      <td>17.000000</td>\n",
       "      <td>1.000000</td>\n",
       "    </tr>\n",
       "    <tr>\n",
       "      <th>25%</th>\n",
       "      <td>1.000000</td>\n",
       "      <td>3.000000</td>\n",
       "      <td>2.000000</td>\n",
       "      <td>4.000000</td>\n",
       "      <td>4.000000</td>\n",
       "      <td>3.000000</td>\n",
       "      <td>4.000000</td>\n",
       "      <td>3.000000</td>\n",
       "      <td>1.000000</td>\n",
       "      <td>1.000000</td>\n",
       "      <td>...</td>\n",
       "      <td>2.000000</td>\n",
       "      <td>2.000000</td>\n",
       "      <td>3.000000</td>\n",
       "      <td>3.000000</td>\n",
       "      <td>1.000000</td>\n",
       "      <td>1.000000</td>\n",
       "      <td>1.000000</td>\n",
       "      <td>1.000000</td>\n",
       "      <td>20.000000</td>\n",
       "      <td>2.000000</td>\n",
       "    </tr>\n",
       "    <tr>\n",
       "      <th>50%</th>\n",
       "      <td>1.000000</td>\n",
       "      <td>4.000000</td>\n",
       "      <td>3.000000</td>\n",
       "      <td>4.000000</td>\n",
       "      <td>4.000000</td>\n",
       "      <td>4.000000</td>\n",
       "      <td>4.000000</td>\n",
       "      <td>4.000000</td>\n",
       "      <td>1.000000</td>\n",
       "      <td>1.000000</td>\n",
       "      <td>...</td>\n",
       "      <td>2.000000</td>\n",
       "      <td>4.000000</td>\n",
       "      <td>4.000000</td>\n",
       "      <td>4.000000</td>\n",
       "      <td>2.000000</td>\n",
       "      <td>2.000000</td>\n",
       "      <td>5.000000</td>\n",
       "      <td>2.000000</td>\n",
       "      <td>21.000000</td>\n",
       "      <td>3.000000</td>\n",
       "    </tr>\n",
       "    <tr>\n",
       "      <th>75%</th>\n",
       "      <td>2.000000</td>\n",
       "      <td>5.000000</td>\n",
       "      <td>4.000000</td>\n",
       "      <td>5.000000</td>\n",
       "      <td>5.000000</td>\n",
       "      <td>4.000000</td>\n",
       "      <td>5.000000</td>\n",
       "      <td>4.000000</td>\n",
       "      <td>1.000000</td>\n",
       "      <td>1.000000</td>\n",
       "      <td>...</td>\n",
       "      <td>4.000000</td>\n",
       "      <td>5.000000</td>\n",
       "      <td>6.000000</td>\n",
       "      <td>4.000000</td>\n",
       "      <td>2.000000</td>\n",
       "      <td>2.000000</td>\n",
       "      <td>8.000000</td>\n",
       "      <td>2.000000</td>\n",
       "      <td>22.000000</td>\n",
       "      <td>4.000000</td>\n",
       "    </tr>\n",
       "    <tr>\n",
       "      <th>max</th>\n",
       "      <td>6.000000</td>\n",
       "      <td>5.000000</td>\n",
       "      <td>6.000000</td>\n",
       "      <td>5.000000</td>\n",
       "      <td>5.000000</td>\n",
       "      <td>5.000000</td>\n",
       "      <td>6.000000</td>\n",
       "      <td>5.000000</td>\n",
       "      <td>5.000000</td>\n",
       "      <td>7.000000</td>\n",
       "      <td>...</td>\n",
       "      <td>12.000000</td>\n",
       "      <td>77.000000</td>\n",
       "      <td>9.000000</td>\n",
       "      <td>5.000000</td>\n",
       "      <td>4.000000</td>\n",
       "      <td>3.000000</td>\n",
       "      <td>11.000000</td>\n",
       "      <td>2.000000</td>\n",
       "      <td>49.000000</td>\n",
       "      <td>5.000000</td>\n",
       "    </tr>\n",
       "  </tbody>\n",
       "</table>\n",
       "<p>8 rows × 44 columns</p>\n",
       "</div>"
      ],
      "text/plain": [
       "             진학동기       대학만족도       불만족이유         동기1         동기2         동기3  \\\n",
       "count  565.000000  565.000000  565.000000  565.000000  565.000000  565.000000   \n",
       "mean     1.785841    4.074336    3.180531    4.159292    4.046018    3.702655   \n",
       "std      1.374209    0.949877    1.465675    0.916422    0.861719    1.003580   \n",
       "min      1.000000    1.000000    0.000000    1.000000    1.000000    1.000000   \n",
       "25%      1.000000    3.000000    2.000000    4.000000    4.000000    3.000000   \n",
       "50%      1.000000    4.000000    3.000000    4.000000    4.000000    4.000000   \n",
       "75%      2.000000    5.000000    4.000000    5.000000    5.000000    4.000000   \n",
       "max      6.000000    5.000000    6.000000    5.000000    5.000000    5.000000   \n",
       "\n",
       "              동기4         동기5        교직의사      교직의사변화     ...           임용지원1  \\\n",
       "count  565.000000  565.000000  565.000000  565.000000     ...      565.000000   \n",
       "mean     4.178761    3.757522    1.277876    1.368142     ...        2.939823   \n",
       "std      0.898132    0.912658    0.640497    0.826668     ...        1.798322   \n",
       "min      1.000000    1.000000    1.000000    0.000000     ...        1.000000   \n",
       "25%      4.000000    3.000000    1.000000    1.000000     ...        2.000000   \n",
       "50%      4.000000    4.000000    1.000000    1.000000     ...        2.000000   \n",
       "75%      5.000000    4.000000    1.000000    1.000000     ...        4.000000   \n",
       "max      6.000000    5.000000    5.000000    7.000000     ...       12.000000   \n",
       "\n",
       "            임용지원2       임용지원3       기간제교사      취창업지원팀      진로교육센터          학과  \\\n",
       "count  565.000000  565.000000  565.000000  565.000000  565.000000  565.000000   \n",
       "mean     3.874336    4.180531    3.469027    1.640708    1.615929    5.099115   \n",
       "std      3.506346    1.936760    1.106643    0.586587    0.558075    3.653049   \n",
       "min      1.000000    1.000000    1.000000    1.000000    1.000000    0.000000   \n",
       "25%      2.000000    3.000000    3.000000    1.000000    1.000000    1.000000   \n",
       "50%      4.000000    4.000000    4.000000    2.000000    2.000000    5.000000   \n",
       "75%      5.000000    6.000000    4.000000    2.000000    2.000000    8.000000   \n",
       "max     77.000000    9.000000    5.000000    4.000000    3.000000   11.000000   \n",
       "\n",
       "               성별          연령          학년  \n",
       "count  565.000000  565.000000  565.000000  \n",
       "mean     1.559292   21.132743    2.757522  \n",
       "std      0.496912    2.295943    1.139071  \n",
       "min      1.000000   17.000000    1.000000  \n",
       "25%      1.000000   20.000000    2.000000  \n",
       "50%      2.000000   21.000000    3.000000  \n",
       "75%      2.000000   22.000000    4.000000  \n",
       "max      2.000000   49.000000    5.000000  \n",
       "\n",
       "[8 rows x 44 columns]"
      ]
     },
     "execution_count": 11,
     "metadata": {},
     "output_type": "execute_result"
    }
   ],
   "source": [
    "df.describe()"
   ]
  },
  {
   "cell_type": "code",
   "execution_count": 14,
   "metadata": {},
   "outputs": [
    {
     "data": {
      "text/plain": [
       "<matplotlib.axes._subplots.AxesSubplot at 0x10911128>"
      ]
     },
     "execution_count": 14,
     "metadata": {},
     "output_type": "execute_result"
    },
    {
     "data": {
      "image/png": "[encoded data removed]",
      "text/plain": [
       "<matplotlib.figure.Figure at 0x108e8c50>"
      ]
     },
     "metadata": {},
     "output_type": "display_data"
    }
   ],
   "source": [
    "df.groupby('성별')['진로준비어려운점'].value_counts().plot(kind='bar')"
   ]
  },
  {
   "cell_type": "code",
   "execution_count": 67,
   "metadata": {},
   "outputs": [
    {
     "data": {
      "text/plain": [
       "<matplotlib.axes._subplots.AxesSubplot at 0x1126db70>"
      ]
     },
     "execution_count": 67,
     "metadata": {},
     "output_type": "execute_result"
    },
    {
     "data": {
      "image/png": "[encoded data removed]",
      "text/plain": [
       "<matplotlib.figure.Figure at 0x116deb70>"
      ]
     },
     "metadata": {},
     "output_type": "display_data"
    }
   ],
   "source": [
    "sns.countplot(x='성별',data=df)"
   ]
  },
  {
   "cell_type": "code",
   "execution_count": 68,
   "metadata": {},
   "outputs": [
    {
     "data": {
      "text/plain": [
       "<matplotlib.axes._subplots.AxesSubplot at 0x11739438>"
      ]
     },
     "execution_count": 68,
     "metadata": {},
     "output_type": "execute_result"
    },
    {
     "data": {
      "image/png": "[encoded data removed]",
      "text/plain": [
       "<matplotlib.figure.Figure at 0x11296668>"
      ]
     },
     "metadata": {},
     "output_type": "display_data"
    }
   ],
   "source": [
    "sns.countplot(x='학년',data=df)"
   ]
  },
  {
   "cell_type": "code",
   "execution_count": 69,
   "metadata": {},
   "outputs": [
    {
     "data": {
      "text/plain": [
       "<matplotlib.axes._subplots.AxesSubplot at 0x11296e80>"
      ]
     },
     "execution_count": 69,
     "metadata": {},
     "output_type": "execute_result"
    },
    {
     "data": {
      "image/png": "[encoded data removed]",
      "text/plain": [
       "<matplotlib.figure.Figure at 0x11547cc0>"
      ]
     },
     "metadata": {},
     "output_type": "display_data"
    }
   ],
   "source": [
    "sns.boxplot(x='진로준비어려운점', y= '교직의사',data=df,hue='성별')"
   ]
  },
  {
   "cell_type": "code",
   "execution_count": 76,
   "metadata": {},
   "outputs": [
    {
     "data": {
      "text/plain": [
       "4    195\n",
       "3    151\n",
       "1    116\n",
       "2    102\n",
       "5      1\n",
       "Name: 학년, dtype: int64"
      ]
     },
     "execution_count": 76,
     "metadata": {},
     "output_type": "execute_result"
    }
   ],
   "source": [
    "df['학년'].value_counts()"
   ]
  },
  {
   "cell_type": "code",
   "execution_count": 85,
   "metadata": {},
   "outputs": [
    {
     "data": {
      "text/plain": [
       "<seaborn.axisgrid.FacetGrid at 0x19ee8a90>"
      ]
     },
     "execution_count": 85,
     "metadata": {},
     "output_type": "execute_result"
    },
    {
     "data": {
      "image/png": "[encoded data removed]",
      "text/plain": [
       "<matplotlib.figure.Figure at 0x19e7e400>"
      ]
     },
     "metadata": {},
     "output_type": "display_data"
    }
   ],
   "source": [
    "sns.catplot(x='진로준비어려운점', col='성별',kind='boxen', data=df)"
   ]
  },
  {
   "cell_type": "code",
   "execution_count": 16,
   "metadata": {},
   "outputs": [
    {
     "data": {
      "text/plain": [
       "<matplotlib.axes._subplots.AxesSubplot at 0x1095dac8>"
      ]
     },
     "execution_count": 16,
     "metadata": {},
     "output_type": "execute_result"
    },
    {
     "data": {
      "image/png": "[encoded data removed]",
      "text/plain": [
       "<matplotlib.figure.Figure at 0x1090e908>"
      ]
     },
     "metadata": {},
     "output_type": "display_data"
    }
   ],
   "source": [
    "sns.boxplot(x='진로어려움', y= '진로노력',data=df,hue='성별')"
   ]
  },
  {
   "cell_type": "code",
   "execution_count": 17,
   "metadata": {},
   "outputs": [
    {
     "data": {
      "text/plain": [
       "<matplotlib.axes._subplots.AxesSubplot at 0x10b45b00>"
      ]
     },
     "execution_count": 17,
     "metadata": {},
     "output_type": "execute_result"
    },
    {
     "data": {
      "image/png": "[encoded data removed]",
      "text/plain": [
       "<matplotlib.figure.Figure at 0x109c94e0>"
      ]
     },
     "metadata": {},
     "output_type": "display_data"
    }
   ],
   "source": [
    "sns.distplot(df['교직의사'])"
   ]
  },
  {
   "cell_type": "code",
   "execution_count": 18,
   "metadata": {},
   "outputs": [
    {
     "data": {
      "text/plain": [
       "<matplotlib.axes._subplots.AxesSubplot at 0x10911d30>"
      ]
     },
     "execution_count": 18,
     "metadata": {},
     "output_type": "execute_result"
    },
    {
     "data": {
      "image/png": "[encoded data removed]",
      "text/plain": [
       "<matplotlib.figure.Figure at 0x10b59400>"
      ]
     },
     "metadata": {},
     "output_type": "display_data"
    }
   ],
   "source": [
    "sns.distplot(df['동기1'])"
   ]
  },
  {
   "cell_type": "code",
   "execution_count": 19,
   "metadata": {},
   "outputs": [
    {
     "data": {
      "text/plain": [
       "<matplotlib.axes._subplots.AxesSubplot at 0x10c23cf8>"
      ]
     },
     "execution_count": 19,
     "metadata": {},
     "output_type": "execute_result"
    },
    {
     "data": {
      "image/png": "[encoded data removed]",
      "text/plain": [
       "<matplotlib.figure.Figure at 0x10bd3be0>"
      ]
     },
     "metadata": {},
     "output_type": "display_data"
    }
   ],
   "source": [
    "sns.distplot(df['동기2'])"
   ]
  },
  {
   "cell_type": "code",
   "execution_count": 20,
   "metadata": {},
   "outputs": [
    {
     "data": {
      "text/plain": [
       "<matplotlib.axes._subplots.AxesSubplot at 0x10382da0>"
      ]
     },
     "execution_count": 20,
     "metadata": {},
     "output_type": "execute_result"
    },
    {
     "data": {
      "image/png": "[encoded data removed]",
      "text/plain": [
       "<matplotlib.figure.Figure at 0xf398ba8>"
      ]
     },
     "metadata": {},
     "output_type": "display_data"
    }
   ],
   "source": [
    "sns.distplot(df['동기3'])"
   ]
  },
  {
   "cell_type": "code",
   "execution_count": 21,
   "metadata": {},
   "outputs": [
    {
     "data": {
      "text/plain": [
       "<matplotlib.axes._subplots.AxesSubplot at 0xf3996a0>"
      ]
     },
     "execution_count": 21,
     "metadata": {},
     "output_type": "execute_result"
    },
    {
     "data": {
      "image/png": "[encoded data removed]",
      "text/plain": [
       "<matplotlib.figure.Figure at 0x10c77630>"
      ]
     },
     "metadata": {},
     "output_type": "display_data"
    }
   ],
   "source": [
    "sns.distplot(df['동기4'])"
   ]
  },
  {
   "cell_type": "code",
   "execution_count": 22,
   "metadata": {},
   "outputs": [
    {
     "data": {
      "text/plain": [
       "<matplotlib.axes._subplots.AxesSubplot at 0x10d6e358>"
      ]
     },
     "execution_count": 22,
     "metadata": {},
     "output_type": "execute_result"
    },
    {
     "data": {
      "image/png": "[encoded data removed]",
      "text/plain": [
       "<matplotlib.figure.Figure at 0x1090a9b0>"
      ]
     },
     "metadata": {},
     "output_type": "display_data"
    }
   ],
   "source": [
    "sns.distplot(df['동기5'])"
   ]
  },
  {
   "cell_type": "code",
   "execution_count": 23,
   "metadata": {},
   "outputs": [
    {
     "data": {
      "text/plain": [
       "<matplotlib.axes._subplots.AxesSubplot at 0x10e47cc0>"
      ]
     },
     "execution_count": 23,
     "metadata": {},
     "output_type": "execute_result"
    },
    {
     "data": {
      "image/png": "[encoded data removed]",
      "text/plain": [
       "<matplotlib.figure.Figure at 0x10d792e8>"
      ]
     },
     "metadata": {},
     "output_type": "display_data"
    }
   ],
   "source": [
    "sns.distplot(df['진로준비활동'])"
   ]
  },
  {
   "cell_type": "code",
   "execution_count": 24,
   "metadata": {},
   "outputs": [
    {
     "data": {
      "text/plain": [
       "<matplotlib.axes._subplots.AxesSubplot at 0x10e00c18>"
      ]
     },
     "execution_count": 24,
     "metadata": {},
     "output_type": "execute_result"
    },
    {
     "data": {
      "image/png": "[encoded data removed]",
      "text/plain": [
       "<matplotlib.figure.Figure at 0x10e83390>"
      ]
     },
     "metadata": {},
     "output_type": "display_data"
    }
   ],
   "source": [
    "sns.distplot(df['진로준비필요'],bins=10)"
   ]
  },
  {
   "cell_type": "code",
   "execution_count": null,
   "metadata": {},
   "outputs": [],
   "source": []
  },
  {
   "cell_type": "code",
   "execution_count": 26,
   "metadata": {},
   "outputs": [
    {
     "data": {
      "text/plain": [
       "<matplotlib.axes._subplots.AxesSubplot at 0x10fda0f0>"
      ]
     },
     "execution_count": 26,
     "metadata": {},
     "output_type": "execute_result"
    },
    {
     "data": {
      "image/png": "[encoded data removed]",
      "text/plain": [
       "<matplotlib.figure.Figure at 0x1174e828>"
      ]
     },
     "metadata": {},
     "output_type": "display_data"
    }
   ],
   "source": [
    "sns.distplot(df['불만족이유'],bins=7)"
   ]
  },
  {
   "cell_type": "code",
   "execution_count": 27,
   "metadata": {},
   "outputs": [
    {
     "data": {
      "text/plain": [
       "불만족이유\n",
       "0    5.000000\n",
       "1    4.210526\n",
       "2    4.094488\n",
       "3    4.089552\n",
       "4    4.146552\n",
       "5    3.953846\n",
       "6    3.717391\n",
       "Name: 대학만족도, dtype: float64"
      ]
     },
     "execution_count": 27,
     "metadata": {},
     "output_type": "execute_result"
    }
   ],
   "source": [
    "df.groupby('불만족이유')['대학만족도'].mean()"
   ]
  },
  {
   "cell_type": "code",
   "execution_count": 28,
   "metadata": {},
   "outputs": [
    {
     "data": {
      "text/html": [
       "<div>\n",
       "<style scoped>\n",
       "    .dataframe tbody tr th:only-of-type {\n",
       "        vertical-align: middle;\n",
       "    }\n",
       "\n",
       "    .dataframe tbody tr th {\n",
       "        vertical-align: top;\n",
       "    }\n",
       "\n",
       "    .dataframe thead th {\n",
       "        text-align: right;\n",
       "    }\n",
       "</style>\n",
       "<table border=\"1\" class=\"dataframe\">\n",
       "  <thead>\n",
       "    <tr style=\"text-align: right;\">\n",
       "      <th>대학만족도</th>\n",
       "      <th>1</th>\n",
       "      <th>2</th>\n",
       "      <th>3</th>\n",
       "      <th>4</th>\n",
       "      <th>5</th>\n",
       "    </tr>\n",
       "    <tr>\n",
       "      <th>불만족이유</th>\n",
       "      <th></th>\n",
       "      <th></th>\n",
       "      <th></th>\n",
       "      <th></th>\n",
       "      <th></th>\n",
       "    </tr>\n",
       "  </thead>\n",
       "  <tbody>\n",
       "    <tr>\n",
       "      <th>0</th>\n",
       "      <td>0.000000</td>\n",
       "      <td>0.000000</td>\n",
       "      <td>0.000000</td>\n",
       "      <td>0.000000</td>\n",
       "      <td>1.000000</td>\n",
       "    </tr>\n",
       "    <tr>\n",
       "      <th>1</th>\n",
       "      <td>0.000000</td>\n",
       "      <td>0.052632</td>\n",
       "      <td>0.157895</td>\n",
       "      <td>0.315789</td>\n",
       "      <td>0.473684</td>\n",
       "    </tr>\n",
       "    <tr>\n",
       "      <th>2</th>\n",
       "      <td>0.000000</td>\n",
       "      <td>0.039370</td>\n",
       "      <td>0.181102</td>\n",
       "      <td>0.425197</td>\n",
       "      <td>0.354331</td>\n",
       "    </tr>\n",
       "    <tr>\n",
       "      <th>3</th>\n",
       "      <td>0.000000</td>\n",
       "      <td>0.044776</td>\n",
       "      <td>0.238806</td>\n",
       "      <td>0.298507</td>\n",
       "      <td>0.417910</td>\n",
       "    </tr>\n",
       "    <tr>\n",
       "      <th>4</th>\n",
       "      <td>0.008621</td>\n",
       "      <td>0.086207</td>\n",
       "      <td>0.146552</td>\n",
       "      <td>0.267241</td>\n",
       "      <td>0.491379</td>\n",
       "    </tr>\n",
       "    <tr>\n",
       "      <th>5</th>\n",
       "      <td>0.015385</td>\n",
       "      <td>0.061538</td>\n",
       "      <td>0.215385</td>\n",
       "      <td>0.369231</td>\n",
       "      <td>0.338462</td>\n",
       "    </tr>\n",
       "    <tr>\n",
       "      <th>6</th>\n",
       "      <td>0.021739</td>\n",
       "      <td>0.173913</td>\n",
       "      <td>0.173913</td>\n",
       "      <td>0.326087</td>\n",
       "      <td>0.304348</td>\n",
       "    </tr>\n",
       "  </tbody>\n",
       "</table>\n",
       "</div>"
      ],
      "text/plain": [
       "대학만족도         1         2         3         4         5\n",
       "불만족이유                                                  \n",
       "0      0.000000  0.000000  0.000000  0.000000  1.000000\n",
       "1      0.000000  0.052632  0.157895  0.315789  0.473684\n",
       "2      0.000000  0.039370  0.181102  0.425197  0.354331\n",
       "3      0.000000  0.044776  0.238806  0.298507  0.417910\n",
       "4      0.008621  0.086207  0.146552  0.267241  0.491379\n",
       "5      0.015385  0.061538  0.215385  0.369231  0.338462\n",
       "6      0.021739  0.173913  0.173913  0.326087  0.304348"
      ]
     },
     "execution_count": 28,
     "metadata": {},
     "output_type": "execute_result"
    }
   ],
   "source": [
    "pd.crosstab(df['불만족이유'],df['대학만족도'],normalize='index')"
   ]
  },
  {
   "cell_type": "code",
   "execution_count": 87,
   "metadata": {},
   "outputs": [
    {
     "data": {
      "text/plain": [
       "<matplotlib.axes._subplots.AxesSubplot at 0x1a0f24e0>"
      ]
     },
     "execution_count": 87,
     "metadata": {},
     "output_type": "execute_result"
    },
    {
     "data": {
      "image/png": "[encoded data removed]",
      "text/plain": [
       "<matplotlib.figure.Figure at 0x19fa4518>"
      ]
     },
     "metadata": {},
     "output_type": "display_data"
    }
   ],
   "source": [
    "sns.violinplot(df['불만족이유'],df['대학만족도'])"
   ]
  },
  {
   "cell_type": "code",
   "execution_count": 30,
   "metadata": {},
   "outputs": [
    {
     "data": {
      "text/plain": [
       "<matplotlib.axes._subplots.AxesSubplot at 0x118d2400>"
      ]
     },
     "execution_count": 30,
     "metadata": {},
     "output_type": "execute_result"
    },
    {
     "data": {
      "image/png": "[encoded data removed]",
      "text/plain": [
       "<matplotlib.figure.Figure at 0x1190e0b8>"
      ]
     },
     "metadata": {},
     "output_type": "display_data"
    }
   ],
   "source": [
    "sns.boxplot(x='진학동기',y='대학만족도',data=df, hue='성별')"
   ]
  },
  {
   "cell_type": "code",
   "execution_count": 31,
   "metadata": {},
   "outputs": [
    {
     "data": {
      "text/plain": [
       "<matplotlib.axes._subplots.AxesSubplot at 0x11790a58>"
      ]
     },
     "execution_count": 31,
     "metadata": {},
     "output_type": "execute_result"
    },
    {
     "data": {
      "image/png": "[encoded data removed]",
      "text/plain": [
       "<matplotlib.figure.Figure at 0x11c0aef0>"
      ]
     },
     "metadata": {},
     "output_type": "display_data"
    }
   ],
   "source": [
    "sns.boxplot(x='진학동기',y='동기1',data=df, hue='성별')"
   ]
  },
  {
   "cell_type": "code",
   "execution_count": 32,
   "metadata": {},
   "outputs": [
    {
     "data": {
      "text/plain": [
       "<matplotlib.axes._subplots.AxesSubplot at 0x11fa1a20>"
      ]
     },
     "execution_count": 32,
     "metadata": {},
     "output_type": "execute_result"
    },
    {
     "data": {
      "image/png": "[encoded data removed]",
      "text/plain": [
       "<matplotlib.figure.Figure at 0x11238940>"
      ]
     },
     "metadata": {},
     "output_type": "display_data"
    }
   ],
   "source": [
    "sns.boxplot(x='진학동기',y='동기2',data=df, hue='성별')"
   ]
  },
  {
   "cell_type": "code",
   "execution_count": 33,
   "metadata": {},
   "outputs": [
    {
     "data": {
      "text/plain": [
       "<matplotlib.axes._subplots.AxesSubplot at 0x122d0da0>"
      ]
     },
     "execution_count": 33,
     "metadata": {},
     "output_type": "execute_result"
    },
    {
     "data": {
      "image/png": "[encoded data removed]",
      "text/plain": [
       "<matplotlib.figure.Figure at 0x11c1efd0>"
      ]
     },
     "metadata": {},
     "output_type": "display_data"
    }
   ],
   "source": [
    "sns.boxplot(x='진학동기',y='동기3',data=df, hue='성별')"
   ]
  },
  {
   "cell_type": "code",
   "execution_count": 34,
   "metadata": {},
   "outputs": [
    {
     "data": {
      "text/plain": [
       "<matplotlib.axes._subplots.AxesSubplot at 0x13602780>"
      ]
     },
     "execution_count": 34,
     "metadata": {},
     "output_type": "execute_result"
    },
    {
     "data": {
      "image/png": "[encoded data removed]",
      "text/plain": [
       "<matplotlib.figure.Figure at 0x135baeb8>"
      ]
     },
     "metadata": {},
     "output_type": "display_data"
    }
   ],
   "source": [
    "sns.boxplot(x='진학동기',y='동기4',data=df, hue='성별')"
   ]
  },
  {
   "cell_type": "code",
   "execution_count": 35,
   "metadata": {},
   "outputs": [
    {
     "data": {
      "text/plain": [
       "<matplotlib.axes._subplots.AxesSubplot at 0x13738828>"
      ]
     },
     "execution_count": 35,
     "metadata": {},
     "output_type": "execute_result"
    },
    {
     "data": {
      "image/png": "[encoded data removed]",
      "text/plain": [
       "<matplotlib.figure.Figure at 0x13706710>"
      ]
     },
     "metadata": {},
     "output_type": "display_data"
    }
   ],
   "source": [
    "sns.boxplot(x='진학동기',y='동기5',data=df, hue='성별')"
   ]
  },
  {
   "cell_type": "code",
   "execution_count": 36,
   "metadata": {},
   "outputs": [
    {
     "data": {
      "text/plain": [
       "<matplotlib.axes._subplots.AxesSubplot at 0x13871cf8>"
      ]
     },
     "execution_count": 36,
     "metadata": {},
     "output_type": "execute_result"
    },
    {
     "data": {
      "image/png": "[encoded data removed]",
      "text/plain": [
       "<matplotlib.figure.Figure at 0x1361ec50>"
      ]
     },
     "metadata": {},
     "output_type": "display_data"
    }
   ],
   "source": [
    "sns.boxplot(x='대학만족도',y='진로노력',data=df, hue='학년')"
   ]
  },
  {
   "cell_type": "code",
   "execution_count": 37,
   "metadata": {},
   "outputs": [
    {
     "data": {
      "text/plain": [
       "<matplotlib.axes._subplots.AxesSubplot at 0x11020080>"
      ]
     },
     "execution_count": 37,
     "metadata": {},
     "output_type": "execute_result"
    },
    {
     "data": {
      "image/png": "[encoded data removed]",
      "text/plain": [
       "<matplotlib.figure.Figure at 0x1371b8d0>"
      ]
     },
     "metadata": {},
     "output_type": "display_data"
    }
   ],
   "source": [
    "sns.boxplot(x='대학만족도',y='진로노력',data=df, hue='성별')"
   ]
  },
  {
   "cell_type": "code",
   "execution_count": 39,
   "metadata": {},
   "outputs": [
    {
     "data": {
      "text/plain": [
       "2    316\n",
       "1    249\n",
       "Name: 성별, dtype: int64"
      ]
     },
     "execution_count": 39,
     "metadata": {},
     "output_type": "execute_result"
    }
   ],
   "source": [
    "df['성별'].value_counts()"
   ]
  },
  {
   "cell_type": "code",
   "execution_count": 40,
   "metadata": {},
   "outputs": [],
   "source": [
    "X2 = np.array(df.astype(float))"
   ]
  },
  {
   "cell_type": "code",
   "execution_count": 41,
   "metadata": {},
   "outputs": [
    {
     "name": "stdout",
     "output_type": "stream",
     "text": [
      "For n_clusters = 2 The average silhouette_score is : 0.18939737436434315\n",
      "For n_clusters = 3 The average silhouette_score is : 0.15403468235664206\n",
      "For n_clusters = 4 The average silhouette_score is : 0.14893285516079469\n",
      "For n_clusters = 5 The average silhouette_score is : 0.11660112216847357\n",
      "For n_clusters = 6 The average silhouette_score is : 0.12084918843595546\n"
     ]
    }
   ],
   "source": [
    "range_n_clusters = [2, 3, 4, 5, 6]\n",
    "for n_clusters in range_n_clusters:\n",
    "    clusterer = KMeans(n_clusters=n_clusters, random_state=10)\n",
    "    cluster_labels = clusterer.fit_predict(X2)\n",
    "    # The silhouette_score gives the average value for all the samples.\n",
    "    # This gives a perspective into the density and separation of the formed\n",
    "    # clusters\n",
    "    silhouette_avg = silhouette_score(X2, cluster_labels)\n",
    "    print(\"For n_clusters =\", n_clusters,\n",
    "          \"The average silhouette_score is :\", silhouette_avg)\n",
    "    # Compute the silhouette scores for each sample\n",
    "    sample_silhouette_values = silhouette_samples(X2, cluster_labels)"
   ]
  },
  {
   "cell_type": "code",
   "execution_count": 52,
   "metadata": {},
   "outputs": [
    {
     "name": "stdout",
     "output_type": "stream",
     "text": [
      "number of estimated clusters  4\n"
     ]
    }
   ],
   "source": [
    "clf = KMeans(n_clusters=4)\n",
    "clf.fit(X2)\n",
    "df['cluster'] = clf.fit_predict(X2)\n",
    "\n",
    "ms = MeanShift()\n",
    "ms.fit(X2)\n",
    "labels = ms.labels_\n",
    "cluster_centers = ms.cluster_centers_\n",
    "n_clusters_ = len(np.unique(labels))\n",
    "print(\"number of estimated clusters \" , n_clusters_)"
   ]
  },
  {
   "cell_type": "code",
   "execution_count": 55,
   "metadata": {},
   "outputs": [
    {
     "data": {
      "image/png": "[encoded data removed]",
      "text/plain": [
       "<matplotlib.figure.Figure at 0x113d78d0>"
      ]
     },
     "metadata": {},
     "output_type": "display_data"
    }
   ],
   "source": [
    "distortions = []\n",
    "K = range(1,10)\n",
    "for k in K:\n",
    "    kmeanModel = KMeans(n_clusters=k)#.fit(X2)\n",
    "    kmeanModel.fit(X2)\n",
    "    distortions.append(sum(np.min(cdist(X2, kmeanModel.cluster_centers_, 'euclidean'), axis=1)) / X2.shape[0])\n",
    "\n",
    "# Plot the elbow\n",
    "plt.plot(K, distortions, 'bx-')\n",
    "plt.xlabel('k')\n",
    "plt.ylabel('Distortion')\n",
    "plt.title('The Elbow Method showing the optimal k')\n",
    "plt.show()"
   ]
  },
  {
   "cell_type": "code",
   "execution_count": 56,
   "metadata": {},
   "outputs": [
    {
     "name": "stdout",
     "output_type": "stream",
     "text": [
      "1 진학동기\n",
      "2 대학만족도\n",
      "3 불만족이유\n",
      "4 동기1\n",
      "5 동기2\n",
      "6 동기3\n",
      "7 동기4\n",
      "8 동기5\n",
      "9 교직의사\n",
      "10 교직의사변화\n",
      "11 교직진출이유\n",
      "12 교직비진출이유\n",
      "13 진로영향\n",
      "14 진로준비시기\n",
      "15 진로어려움\n",
      "16 진로노력\n",
      "17 진로준비활동\n",
      "18 진로준비필요\n",
      "19 진로준비어려운점\n",
      "20 졸업후취업\n",
      "21 진로희망1\n",
      "22 진로희망2\n",
      "23 진로희망3\n",
      "24 진로선택기준\n",
      "25 4트랙필요\n",
      "26 4트랙시기\n",
      "27 4트랙선택방법\n",
      "28 4트랙선택\n",
      "29 참여프로그램1\n",
      "30 참여프로그램2\n",
      "31 참여프로그램3\n",
      "32 외국어프로그램필요성\n",
      "33 외국어참여\n",
      "34 필요프로그램\n",
      "35 임용지원1\n",
      "36 임용지원2\n",
      "37 임용지원3\n",
      "38 기간제교사\n",
      "39 취창업지원팀\n",
      "40 진로교육센터\n",
      "41 학과\n",
      "42 성별\n",
      "43 연령\n",
      "44 학년\n",
      "45 cluster\n",
      "46 label\n"
     ]
    }
   ],
   "source": [
    "xx = df.columns\n",
    "i = 0\n",
    "for x in df.columns:\n",
    "    print(i+1, x)\n",
    "    i=i+1"
   ]
  },
  {
   "cell_type": "code",
   "execution_count": 57,
   "metadata": {},
   "outputs": [
    {
     "data": {
      "text/plain": [
       "array([0, 2, 0, 0, 2, 2, 2, 2, 2, 2, 2, 2, 0, 2, 2, 0, 2, 0, 0, 2, 0, 0,\n",
       "       0, 0, 0, 0, 0, 0, 0, 3, 0, 0, 2, 2, 2, 0, 3, 2, 0, 0, 0, 1, 2, 3,\n",
       "       3, 2, 2, 2, 1, 0, 2, 2, 0, 2, 2, 0, 2, 2, 0, 0, 2, 2, 0, 1, 2, 0,\n",
       "       0, 0, 0, 1, 2, 3, 0, 0, 2, 2, 1, 1, 3, 2, 0, 3, 2, 1, 2, 2, 0, 2,\n",
       "       0, 0, 0, 1, 2, 1, 0, 0, 3, 2, 2, 2, 2, 0, 1, 0, 2, 0, 0, 2, 1, 2,\n",
       "       2, 0, 2, 0, 2, 0, 2, 3, 2, 2, 2, 0, 2, 3, 0, 3, 0, 2, 1, 3, 3, 2,\n",
       "       2, 0, 1, 2, 3, 0, 0, 0, 1, 0, 2, 2, 2, 2, 3, 3, 0, 2, 1, 0, 1, 2,\n",
       "       3, 0, 0, 0, 3, 3, 2, 1, 1, 3, 2, 3, 2, 3, 2, 3, 1, 3, 1, 3, 0, 2,\n",
       "       2, 2, 0, 2, 2, 2, 2, 0, 1, 2, 1, 0, 1, 1, 2, 0, 1, 1, 2, 0, 1, 2,\n",
       "       2, 2, 0, 1, 2, 3, 3, 2, 0, 1, 2, 2, 1, 2, 2, 2, 0, 0, 2, 3, 0, 3,\n",
       "       2, 0, 1, 2, 2, 1, 2, 0, 0, 0, 0, 0, 0, 0, 2, 1, 2, 0, 2, 0, 0, 1,\n",
       "       0, 2, 0, 2, 2, 1, 2, 0, 1, 2, 0, 2, 0, 2, 2, 3, 3, 3, 3, 1, 2, 3,\n",
       "       1, 1, 1, 2, 3, 0, 0, 3, 2, 3, 2, 2, 3, 3, 1, 1, 3, 3, 0, 0, 0, 2,\n",
       "       3, 1, 0, 0, 3, 3, 0, 0, 0, 2, 2, 0, 2, 2, 1, 1, 2, 1, 3, 0, 3, 1,\n",
       "       2, 0, 3, 2, 0, 0, 0, 0, 0, 3, 1, 3, 0, 3, 1, 1, 1, 2, 2, 1, 2, 1,\n",
       "       2, 0, 3, 2, 1, 2, 1, 3, 3, 0, 2, 1, 2, 0, 1, 0, 0, 0, 0, 2, 0, 1,\n",
       "       1, 2, 0, 0, 0, 0, 1, 3, 2, 1, 0, 2, 0, 2, 0, 0, 0, 3, 0, 0, 0, 2,\n",
       "       3, 2, 0, 1, 1, 0, 3, 3, 1, 0, 2, 2, 0, 1, 2, 1, 3, 3, 2, 3, 3, 3,\n",
       "       2, 2, 1, 2, 0, 0, 1, 1, 0, 2, 0, 0, 2, 0, 0, 1, 1, 2, 2, 0, 0, 0,\n",
       "       2, 2, 0, 0, 2, 1, 1, 0, 2, 2, 1, 1, 1, 0, 2, 3, 2, 0, 1, 0, 2, 0,\n",
       "       2, 3, 1, 1, 1, 2, 2, 2, 0, 3, 0, 2, 0, 1, 0, 2, 2, 1, 0, 3, 2, 2,\n",
       "       2, 2, 0, 0, 1, 2, 0, 0, 0, 1, 2, 2, 3, 2, 2, 1, 0, 1, 2, 3, 3, 0,\n",
       "       0, 3, 1, 0, 2, 2, 2, 0, 2, 2, 0, 2, 0, 0, 0, 2, 2, 2, 3, 3, 0, 0,\n",
       "       2, 2, 2, 2, 1, 0, 0, 1, 1, 1, 0, 2, 0, 0, 2, 1, 0, 2, 2, 2, 1, 1,\n",
       "       1, 2, 0, 2, 1, 1, 0, 2, 1, 3, 0, 1, 0, 3, 0, 2, 1, 3, 3, 3, 1, 2,\n",
       "       1, 0, 2, 2, 1, 3, 3, 2, 0, 2, 2, 2, 2, 0, 0])"
      ]
     },
     "execution_count": 57,
     "metadata": {},
     "output_type": "execute_result"
    }
   ],
   "source": [
    "df.iloc[:,44].values"
   ]
  },
  {
   "cell_type": "code",
   "execution_count": 58,
   "metadata": {},
   "outputs": [
    {
     "name": "stdout",
     "output_type": "stream",
     "text": [
      "[0.08018994 0.05770866]\n",
      "[45.65234524 38.72787343]\n"
     ]
    },
    {
     "name": "stderr",
     "output_type": "stream",
     "text": [
      "C:\\Users\\suer\\Anaconda3\\lib\\site-packages\\sklearn\\utils\\validation.py:475: DataConversionWarning: Data with input dtype int32 was converted to float64 by StandardScaler.\n",
      "  warnings.warn(msg, DataConversionWarning)\n"
     ]
    }
   ],
   "source": [
    "x2 = df.values\n",
    "x2 = StandardScaler().fit_transform(x2)\n",
    "pca2 = PCA(n_components=2)\n",
    "pca2.fit(x2)\n",
    "print(pca2.explained_variance_ratio_) \n",
    "print(pca2.singular_values_)"
   ]
  },
  {
   "cell_type": "code",
   "execution_count": 59,
   "metadata": {},
   "outputs": [
    {
     "name": "stderr",
     "output_type": "stream",
     "text": [
      "C:\\Users\\suer\\Anaconda3\\lib\\site-packages\\sklearn\\utils\\validation.py:475: DataConversionWarning: Data with input dtype int32 was converted to float64 by StandardScaler.\n",
      "  warnings.warn(msg, DataConversionWarning)\n"
     ]
    },
    {
     "data": {
      "image/png": "[encoded data removed]",
      "text/plain": [
       "<matplotlib.figure.Figure at 0x1145c048>"
      ]
     },
     "metadata": {},
     "output_type": "display_data"
    }
   ],
   "source": [
    "x2 = df.values\n",
    "x2 = StandardScaler().fit_transform(x2)\n",
    "pca2 = PCA(n_components=2)\n",
    "pCom = pca2.fit_transform(x2)\n",
    "pDf2 = pd.DataFrame(data = pCom, columns=['Principal Component 1', 'Principal Component 2'])\n",
    "target = pd.DataFrame(data=df.iloc[:,44].values, columns=['target'])\n",
    "#target = np.rint(target)\n",
    "fDf2 = pd.concat([pDf2, target], axis=1)\n",
    "\n",
    "fig = plt.figure(figsize = (8,8))\n",
    "ax = fig.add_subplot(1,1,1) \n",
    "ax.set_xlabel('Principal Component 1', fontsize = 15)\n",
    "ax.set_ylabel('Principal Component 2', fontsize = 15)\n",
    "ax.set_title('2 component PCA', fontsize = 20)\n",
    "#targets = ['Cluster 1', 'Cluster 2']\n",
    "colors = ['r', 'g']\n",
    "targets = [0, 1, 2, 3]\n",
    "for target, color in zip(targets,colors):\n",
    "    indicesToKeep = fDf2['target'] == target\n",
    "    ax.scatter(fDf2.loc[indicesToKeep, 'Principal Component 1']\n",
    "               , fDf2.loc[indicesToKeep, 'Principal Component 2']\n",
    "               , c = color\n",
    "               , s = 50)\n",
    "ax.legend(targets)\n",
    "ax.grid()"
   ]
  },
  {
   "cell_type": "code",
   "execution_count": 60,
   "metadata": {},
   "outputs": [
    {
     "name": "stdout",
     "output_type": "stream",
     "text": [
      "[0.08018998 0.05770944]\n",
      "[45.65235677 38.7281341 ]\n"
     ]
    }
   ],
   "source": [
    "print(pca2.explained_variance_ratio_) \n",
    "print(pca2.singular_values_)"
   ]
  },
  {
   "cell_type": "code",
   "execution_count": 62,
   "metadata": {},
   "outputs": [
    {
     "data": {
      "text/plain": [
       "\" \\nX3 = df.as_matrix()\\nkp = KPrototypes(n_clusters=3, init='Huang', n_init=1, verbose=True)\\n#kp.fit_predict(data, categorical=[4])\\nkp.fit_predict(X3, categorical=[2])\\nlbl = kp.labels_\\n#lbl = pd.Series(lbl)\\ndf['label'] = lbl\\nprint(kp.cluster_centroids_)\\nprint(kp.labels_)\\n\""
      ]
     },
     "execution_count": 62,
     "metadata": {},
     "output_type": "execute_result"
    }
   ],
   "source": [
    "\"\"\" \n",
    "X3 = df.as_matrix()\n",
    "kp = KPrototypes(n_clusters=3, init='Huang', n_init=1, verbose=True)\n",
    "#kp.fit_predict(data, categorical=[4])\n",
    "kp.fit_predict(X3, categorical=[2])\n",
    "lbl = kp.labels_\n",
    "#lbl = pd.Series(lbl)\n",
    "df['label'] = lbl\n",
    "print(kp.cluster_centroids_)\n",
    "print(kp.labels_)\n",
    "\"\"\""
   ]
  },
  {
   "cell_type": "code",
   "execution_count": 65,
   "metadata": {},
   "outputs": [
    {
     "data": {
      "text/plain": [
       "'\\nX = np.array(df.astype(float))\\nrange_n_clusters = [2, 3, 4, 5, 6]\\nfor n_clusters in range_n_clusters:\\n    clusterer = KPrototypes(n_clusters=n_clusters, init=\\'Huang\\', n_init=1, verbose=True)\\n    cluster_labels = clusterer.fit_predict(X,categorical=[n_clusters])\\n    # The silhouette_score gives the average value for all the samples.\\n    # This gives a perspective into the density and separation of the formed\\n    # clusters\\n    silhouette_avg = silhouette_score(X, cluster_labels)\\n    print(\"For n_clusters =\", n_clusters,\\n          \"The average silhouette_score is :\", silhouette_avg)\\n    # Compute the silhouette scores for each sample\\n    sample_silhouette_values = silhouette_samples(X, cluster_labels)\\n'"
      ]
     },
     "execution_count": 65,
     "metadata": {},
     "output_type": "execute_result"
    }
   ],
   "source": [
    "\"\"\"\n",
    "X = np.array(df.astype(float))\n",
    "range_n_clusters = [2, 3, 4, 5, 6]\n",
    "for n_clusters in range_n_clusters:\n",
    "    clusterer = KPrototypes(n_clusters=n_clusters, init='Huang', n_init=1, verbose=True)\n",
    "    cluster_labels = clusterer.fit_predict(X,categorical=[n_clusters])\n",
    "    # The silhouette_score gives the average value for all the samples.\n",
    "    # This gives a perspective into the density and separation of the formed\n",
    "    # clusters\n",
    "    silhouette_avg = silhouette_score(X, cluster_labels)\n",
    "    print(\"For n_clusters =\", n_clusters,\n",
    "          \"The average silhouette_score is :\", silhouette_avg)\n",
    "    # Compute the silhouette scores for each sample\n",
    "    sample_silhouette_values = silhouette_samples(X, cluster_labels)\n",
    "\"\"\"    "
   ]
  },
  {
   "cell_type": "code",
   "execution_count": 64,
   "metadata": {},
   "outputs": [
    {
     "data": {
      "text/html": [
       "<div>\n",
       "<style scoped>\n",
       "    .dataframe tbody tr th:only-of-type {\n",
       "        vertical-align: middle;\n",
       "    }\n",
       "\n",
       "    .dataframe tbody tr th {\n",
       "        vertical-align: top;\n",
       "    }\n",
       "\n",
       "    .dataframe thead tr th {\n",
       "        text-align: left;\n",
       "    }\n",
       "\n",
       "    .dataframe thead tr:last-of-type th {\n",
       "        text-align: right;\n",
       "    }\n",
       "</style>\n",
       "<table border=\"1\" class=\"dataframe\">\n",
       "  <thead>\n",
       "    <tr>\n",
       "      <th>동기1</th>\n",
       "      <th colspan=\"3\" halign=\"left\">1</th>\n",
       "      <th colspan=\"4\" halign=\"left\">2</th>\n",
       "      <th colspan=\"4\" halign=\"left\">3</th>\n",
       "      <th colspan=\"4\" halign=\"left\">4</th>\n",
       "      <th colspan=\"5\" halign=\"left\">5</th>\n",
       "    </tr>\n",
       "    <tr>\n",
       "      <th>졸업후취업</th>\n",
       "      <th>1</th>\n",
       "      <th>2</th>\n",
       "      <th>3</th>\n",
       "      <th>1</th>\n",
       "      <th>2</th>\n",
       "      <th>3</th>\n",
       "      <th>4</th>\n",
       "      <th>1</th>\n",
       "      <th>2</th>\n",
       "      <th>3</th>\n",
       "      <th>4</th>\n",
       "      <th>1</th>\n",
       "      <th>2</th>\n",
       "      <th>3</th>\n",
       "      <th>4</th>\n",
       "      <th>1</th>\n",
       "      <th>2</th>\n",
       "      <th>3</th>\n",
       "      <th>4</th>\n",
       "      <th>11</th>\n",
       "    </tr>\n",
       "    <tr>\n",
       "      <th>cluster</th>\n",
       "      <th></th>\n",
       "      <th></th>\n",
       "      <th></th>\n",
       "      <th></th>\n",
       "      <th></th>\n",
       "      <th></th>\n",
       "      <th></th>\n",
       "      <th></th>\n",
       "      <th></th>\n",
       "      <th></th>\n",
       "      <th></th>\n",
       "      <th></th>\n",
       "      <th></th>\n",
       "      <th></th>\n",
       "      <th></th>\n",
       "      <th></th>\n",
       "      <th></th>\n",
       "      <th></th>\n",
       "      <th></th>\n",
       "      <th></th>\n",
       "    </tr>\n",
       "  </thead>\n",
       "  <tbody>\n",
       "    <tr>\n",
       "      <th>0</th>\n",
       "      <td>0.010870</td>\n",
       "      <td>0.016304</td>\n",
       "      <td>0.000000</td>\n",
       "      <td>0.021739</td>\n",
       "      <td>0.005435</td>\n",
       "      <td>0.000000</td>\n",
       "      <td>0.000000</td>\n",
       "      <td>0.054348</td>\n",
       "      <td>0.043478</td>\n",
       "      <td>0.027174</td>\n",
       "      <td>0.010870</td>\n",
       "      <td>0.108696</td>\n",
       "      <td>0.195652</td>\n",
       "      <td>0.086957</td>\n",
       "      <td>0.005435</td>\n",
       "      <td>0.141304</td>\n",
       "      <td>0.217391</td>\n",
       "      <td>0.054348</td>\n",
       "      <td>0.000000</td>\n",
       "      <td>0.000000</td>\n",
       "    </tr>\n",
       "    <tr>\n",
       "      <th>1</th>\n",
       "      <td>0.019417</td>\n",
       "      <td>0.009709</td>\n",
       "      <td>0.000000</td>\n",
       "      <td>0.009709</td>\n",
       "      <td>0.000000</td>\n",
       "      <td>0.009709</td>\n",
       "      <td>0.000000</td>\n",
       "      <td>0.019417</td>\n",
       "      <td>0.067961</td>\n",
       "      <td>0.038835</td>\n",
       "      <td>0.009709</td>\n",
       "      <td>0.135922</td>\n",
       "      <td>0.174757</td>\n",
       "      <td>0.165049</td>\n",
       "      <td>0.000000</td>\n",
       "      <td>0.135922</td>\n",
       "      <td>0.145631</td>\n",
       "      <td>0.058252</td>\n",
       "      <td>0.000000</td>\n",
       "      <td>0.000000</td>\n",
       "    </tr>\n",
       "    <tr>\n",
       "      <th>2</th>\n",
       "      <td>0.010101</td>\n",
       "      <td>0.010101</td>\n",
       "      <td>0.005051</td>\n",
       "      <td>0.000000</td>\n",
       "      <td>0.010101</td>\n",
       "      <td>0.000000</td>\n",
       "      <td>0.005051</td>\n",
       "      <td>0.050505</td>\n",
       "      <td>0.085859</td>\n",
       "      <td>0.020202</td>\n",
       "      <td>0.000000</td>\n",
       "      <td>0.111111</td>\n",
       "      <td>0.191919</td>\n",
       "      <td>0.035354</td>\n",
       "      <td>0.015152</td>\n",
       "      <td>0.171717</td>\n",
       "      <td>0.217172</td>\n",
       "      <td>0.035354</td>\n",
       "      <td>0.020202</td>\n",
       "      <td>0.005051</td>\n",
       "    </tr>\n",
       "    <tr>\n",
       "      <th>3</th>\n",
       "      <td>0.000000</td>\n",
       "      <td>0.000000</td>\n",
       "      <td>0.012500</td>\n",
       "      <td>0.012500</td>\n",
       "      <td>0.000000</td>\n",
       "      <td>0.000000</td>\n",
       "      <td>0.000000</td>\n",
       "      <td>0.087500</td>\n",
       "      <td>0.012500</td>\n",
       "      <td>0.012500</td>\n",
       "      <td>0.037500</td>\n",
       "      <td>0.150000</td>\n",
       "      <td>0.162500</td>\n",
       "      <td>0.050000</td>\n",
       "      <td>0.012500</td>\n",
       "      <td>0.237500</td>\n",
       "      <td>0.162500</td>\n",
       "      <td>0.050000</td>\n",
       "      <td>0.000000</td>\n",
       "      <td>0.000000</td>\n",
       "    </tr>\n",
       "  </tbody>\n",
       "</table>\n",
       "</div>"
      ],
      "text/plain": [
       "동기1             1                             2                                \\\n",
       "졸업후취업          1         2         3         1         2         3         4    \n",
       "cluster                                                                         \n",
       "0        0.010870  0.016304  0.000000  0.021739  0.005435  0.000000  0.000000   \n",
       "1        0.019417  0.009709  0.000000  0.009709  0.000000  0.009709  0.000000   \n",
       "2        0.010101  0.010101  0.005051  0.000000  0.010101  0.000000  0.005051   \n",
       "3        0.000000  0.000000  0.012500  0.012500  0.000000  0.000000  0.000000   \n",
       "\n",
       "동기1             3                                       4                      \\\n",
       "졸업후취업          1         2         3         4         1         2         3    \n",
       "cluster                                                                         \n",
       "0        0.054348  0.043478  0.027174  0.010870  0.108696  0.195652  0.086957   \n",
       "1        0.019417  0.067961  0.038835  0.009709  0.135922  0.174757  0.165049   \n",
       "2        0.050505  0.085859  0.020202  0.000000  0.111111  0.191919  0.035354   \n",
       "3        0.087500  0.012500  0.012500  0.037500  0.150000  0.162500  0.050000   \n",
       "\n",
       "동기1                       5                                          \n",
       "졸업후취업          4         1         2         3         4         11  \n",
       "cluster                                                              \n",
       "0        0.005435  0.141304  0.217391  0.054348  0.000000  0.000000  \n",
       "1        0.000000  0.135922  0.145631  0.058252  0.000000  0.000000  \n",
       "2        0.015152  0.171717  0.217172  0.035354  0.020202  0.005051  \n",
       "3        0.012500  0.237500  0.162500  0.050000  0.000000  0.000000  "
      ]
     },
     "execution_count": 64,
     "metadata": {},
     "output_type": "execute_result"
    }
   ],
   "source": [
    "pd.crosstab(df['cluster'], [df['동기1'], df['졸업후취업']],normalize='index')"
   ]
  },
  {
   "cell_type": "code",
   "execution_count": null,
   "metadata": {},
   "outputs": [],
   "source": []
  }
 ],
 "metadata": {
  "kernelspec": {
   "display_name": "Python 3",
   "language": "python",
   "name": "python3"
  },
  "language_info": {
   "codemirror_mode": {
    "name": "ipython",
    "version": 3
   },
   "file_extension": ".py",
   "mimetype": "text/x-python",
   "name": "python",
   "nbconvert_exporter": "python",
   "pygments_lexer": "ipython3",
   "version": "3.6.6"
  }
 },
 "nbformat": 4,
 "nbformat_minor": 2
}
