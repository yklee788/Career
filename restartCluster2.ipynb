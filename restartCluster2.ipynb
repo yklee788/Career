{
 "cells": [
  {
   "cell_type": "code",
   "execution_count": 1,
   "metadata": {},
   "outputs": [
    {
     "name": "stderr",
     "output_type": "stream",
     "text": [
      "C:\\Users\\suer\\Anaconda3\\lib\\site-packages\\statsmodels\\compat\\pandas.py:56: FutureWarning: The pandas.core.datetools module is deprecated and will be removed in a future version. Please use the pandas.tseries module instead.\n",
      "  from pandas.core import datetools\n",
      "C:\\Users\\suer\\Anaconda3\\lib\\site-packages\\h5py\\__init__.py:36: FutureWarning: Conversion of the second argument of issubdtype from `float` to `np.floating` is deprecated. In future, it will be treated as `np.float64 == np.dtype(float).type`.\n",
      "  from ._conv import register_converters as _register_converters\n",
      "Using TensorFlow backend.\n"
     ]
    }
   ],
   "source": [
    "import numpy as np\n",
    "import pandas as pd\n",
    "import matplotlib.pyplot as plt\n",
    "import seaborn as sns\n",
    "from sklearn.preprocessing   import LabelEncoder\n",
    "import statsmodels.api as sm\n",
    "from statsmodels.formula.api import ols\n",
    "from matplotlib import font_manager, rc\n",
    "from kmodes import kmodes\n",
    "from kmodes.kprototypes import KPrototypes\n",
    "from fancyimpute import KNN    \n",
    "from sklearn import metrics\n",
    "from scipy.spatial.distance import cdist\n",
    "from sklearn.metrics import silhouette_samples, silhouette_score\n",
    "from sklearn.decomposition import PCA\n",
    "from sklearn.preprocessing import StandardScaler"
   ]
  },
  {
   "cell_type": "code",
   "execution_count": 2,
   "metadata": {},
   "outputs": [],
   "source": [
    "font_name = font_manager.FontProperties(fname=\"c:/Windows/Fonts/malgun.ttf\").get_name()\n",
    "rc('font', family=font_name)\n",
    "#rc('font', family='MHunmin')\n",
    "fig_size=plt.rcParams[\"figure.figsize\"]\n",
    "#fig size in inches\n",
    "fig_size[0]=10\n",
    "fig_size[1]=8\n",
    "df = pd.read_csv(\"C:/Users/suer/Dropbox/Restart/Restart5.csv\", engine='python')\n",
    "#df['센터인지'] = df['센터인지'].map({1:'예',2:'아니오'})\n",
    "#df['프로그램인지'] = df['프로그램인지'].map({1:'예',2:'아니오'})\n",
    "df['필요성'] = df['필요성'].map({1:5, 2:4, 3:3, 4:2, 5:1})\n",
    "df['참여의사'] = df['참여의사'].map({1:5, 2:4, 3:3, 4:2, 5:1})"
   ]
  },
  {
   "cell_type": "code",
   "execution_count": null,
   "metadata": {},
   "outputs": [],
   "source": [
    "\"\"\"\n",
    "df['성별'] = df['성별'].map({1:'남성', 2:'여성'})\n",
    "df['구분'] = df['구분'].map({1:'군복학', 2:'일반복학',3:'편입'})\n",
    "df['휴학이유'] = df['휴학이유'].map({1:'군입대',2:'경제적문제',3:'학교불만족',4:'전공불일치',5:'취업준비',6:'심리적적응',7:'질병',8:'기타'})\n",
    "df['어려운점1'] = df['어려운점1'].map({1:'학업',2:'대인관계',3:'진로설정',4:'학교생활',5:'경제적문제',6:'기타'})\n",
    "df['어려운점2'] = df['어려운점2'].map({1:'학업',2:'대인관계',3:'진로설정',4:'학교생활',5:'경제적문제',6:'기타'})\n",
    "df['어려운점3'] = df['어려운점3'].map({1:'학업',2:'대인관계',3:'진로설정',4:'학교생활',5:'경제적문제',6:'기타'})\n",
    "df['도움1'] = df['도움1'].map({1:'심리적성상담',2:'학교생활지도',3:'진로지도',4:'학습지도',5:'대인관계',6:'기타'})\n",
    "df['도움2'] = df['도움2'].map({1:'심리적성상담',2:'학교생활지도',3:'진로지도',4:'학습지도',5:'대인관계',6:'기타'})\n",
    "df['도움3'] = df['도움3'].map({1:'심리적성상담',2:'학교생활지도',3:'진로지도',4:'학습지도',5:'대인관계',6:'기타'})\n",
    "df['진로계획'] = df['진로계획'].map({1:'취업',2:'고시준비',3:'대학원진학',4:'유학',5:'자영창업',6:'교직',7:'무계획',8:'무계획',9:'기타'})\n",
    "df['도움대상1'] = df['도움대상1'].map({1:'동기',2:'선후배',3:'학과교수',4:'진로교육센터',5:'취업지원팀',6:'학생상담센터',7:'교육혁신원',8:'기타'})\n",
    "df['도움대상2'] = df['도움대상2'].map({1:'동기',2:'선후배',3:'학과교수',4:'진로교육센터',5:'취업지원팀',6:'학생상담센터',7:'교육혁신원',8:'기타'})\n",
    "df['도움대상3'] = df['도움대상3'].map({1:'동기',2:'선후배',3:'학과교수',4:'진로교육센터',5:'취업지원팀',6:'학생상담센터',7:'교육혁신원',8:'기타'})\n",
    "df['불필요이유'] = df['불필요이유'].map({1:'무관심',2:'정보부족',3:'도움안됨',4:'부담됨',5:'기타'})\n",
    "df['불참이유'] = df['불참이유'].map({1:'정보부족',2:'시간부족',3:'불필요',4:'낮가림등 적응문제',5:'도움안됨',6:'진로준비부족',7:'참여시과제부담',8:'기타'})\n",
    "df['희망1'] = df['희망1'].map({1:'진로상담',2:'진로집단상담',3:'학습전략특강',4:'대인관계강화프로그램',5:'스트레스완화프로그램',6:'학교적응 멘토링',7:'진로캠프',8:'진로진단검사 활용프로그램',9:'기타'})\n",
    "df['희망2'] = df['희망2'].map({1:'진로상담',2:'진로집단상담',3:'학습전략특강',4:'대인관계강화프로그램',5:'스트레스완화프로그램',6:'학교적응 멘토링',7:'진로캠프',8:'진로진단검사 활용프로그램',9:'기타'})\n",
    "df['희망3'] = df['희망3'].map({1:'진로상담',2:'진로집단상담',3:'학습전략특강',4:'대인관계강화프로그램',5:'스트레스완화프로그램',6:'학교적응 멘토링',7:'진로캠프',8:'진로진단검사 활용프로그램',9:'기타'})\n",
    "\"\"\""
   ]
  },
  {
   "cell_type": "code",
   "execution_count": 3,
   "metadata": {},
   "outputs": [
    {
     "name": "stdout",
     "output_type": "stream",
     "text": [
      "Imputing row 1/412 with 1 missing, elapsed time: 0.057\n",
      "Imputing row 101/412 with 2 missing, elapsed time: 1.983\n",
      "Imputing row 201/412 with 2 missing, elapsed time: 1.983\n",
      "Imputing row 301/412 with 1 missing, elapsed time: 1.983\n",
      "Imputing row 401/412 with 2 missing, elapsed time: 1.998\n"
     ]
    }
   ],
   "source": [
    "columns = df.columns\n",
    "le = LabelEncoder()\n",
    "df['학과'] = le.fit_transform(df['학과'])\n",
    "df=df.replace(9999,np.NaN)\n",
    "df = KNN(k=3).complete(df)\n",
    "df = np.rint(df)\n",
    "df= pd.DataFrame(data=df, columns=columns)"
   ]
  },
  {
   "cell_type": "code",
   "execution_count": null,
   "metadata": {
    "scrolled": true
   },
   "outputs": [],
   "source": [
    "df.describe()"
   ]
  },
  {
   "cell_type": "code",
   "execution_count": 4,
   "metadata": {},
   "outputs": [
    {
     "data": {
      "text/plain": [
       "(array([], dtype=int64),)"
      ]
     },
     "execution_count": 4,
     "metadata": {},
     "output_type": "execute_result"
    }
   ],
   "source": [
    "len(df['학과'].unique())\n",
    "df['성별'].unique()\n",
    "np.where(df['성별']==3)"
   ]
  },
  {
   "cell_type": "code",
   "execution_count": null,
   "metadata": {},
   "outputs": [],
   "source": [
    "pd.crosstab(df['성별'],df['학년'],margins=True)"
   ]
  },
  {
   "cell_type": "code",
   "execution_count": null,
   "metadata": {},
   "outputs": [],
   "source": [
    "pd.crosstab([df['성별'],df['학년']],df['구분'], margins=True)"
   ]
  },
  {
   "cell_type": "code",
   "execution_count": null,
   "metadata": {},
   "outputs": [],
   "source": [
    "pd.crosstab([df['성별'],df['학년']],df['센터인지'], margins=True)"
   ]
  },
  {
   "cell_type": "code",
   "execution_count": null,
   "metadata": {},
   "outputs": [],
   "source": [
    "pd.crosstab([df['성별'],df['구분']],df['프로그램인지'], normalize='index')"
   ]
  },
  {
   "cell_type": "code",
   "execution_count": null,
   "metadata": {},
   "outputs": [],
   "source": [
    "pd.crosstab(df['학과'],df['도움1'],margins=True)"
   ]
  },
  {
   "cell_type": "code",
   "execution_count": null,
   "metadata": {},
   "outputs": [],
   "source": [
    "pd.crosstab(df['성별'],df['도움1'],normalize='index')"
   ]
  },
  {
   "cell_type": "code",
   "execution_count": null,
   "metadata": {},
   "outputs": [],
   "source": [
    "pd.crosstab(df['학년'],df['도움1'],normalize='index')"
   ]
  },
  {
   "cell_type": "code",
   "execution_count": null,
   "metadata": {},
   "outputs": [],
   "source": [
    "pd.crosstab(df['학과'],df['도움대상1'],margins=True)"
   ]
  },
  {
   "cell_type": "code",
   "execution_count": null,
   "metadata": {
    "scrolled": false
   },
   "outputs": [],
   "source": [
    "pd.crosstab(df['휴학이유'],[df['성별'],df['학년']],margins=True)"
   ]
  },
  {
   "cell_type": "code",
   "execution_count": null,
   "metadata": {},
   "outputs": [],
   "source": [
    "pd.crosstab(df['휴학이유'],[df['학년']],normalize='index')"
   ]
  },
  {
   "cell_type": "code",
   "execution_count": null,
   "metadata": {},
   "outputs": [],
   "source": [
    "pd.crosstab(df['휴학이유'],[df['구분']],normalize='index')"
   ]
  },
  {
   "cell_type": "code",
   "execution_count": null,
   "metadata": {},
   "outputs": [],
   "source": [
    "pd.crosstab(df['휴학이유'],[df['도움1']],normalize='index')"
   ]
  },
  {
   "cell_type": "code",
   "execution_count": null,
   "metadata": {},
   "outputs": [],
   "source": [
    "pd.crosstab(df['휴학이유'],[df['성별']],margins=True)"
   ]
  },
  {
   "cell_type": "code",
   "execution_count": null,
   "metadata": {},
   "outputs": [],
   "source": [
    "pd.crosstab(df['학년'],df['어려운점1'], normalize='index')"
   ]
  },
  {
   "cell_type": "code",
   "execution_count": null,
   "metadata": {},
   "outputs": [],
   "source": [
    "pd.crosstab(df['휴학이유'],df['어려운점1'], normalize='index')"
   ]
  },
  {
   "cell_type": "code",
   "execution_count": null,
   "metadata": {},
   "outputs": [],
   "source": [
    "pd.crosstab(df['휴학이유'],[df['성별']],normalize='index')"
   ]
  },
  {
   "cell_type": "code",
   "execution_count": null,
   "metadata": {},
   "outputs": [],
   "source": [
    "df['휴학이유'].value_counts()"
   ]
  },
  {
   "cell_type": "code",
   "execution_count": null,
   "metadata": {},
   "outputs": [],
   "source": [
    "sns.boxplot(x='휴학이유',y='어려운점1', data=df)"
   ]
  },
  {
   "cell_type": "code",
   "execution_count": null,
   "metadata": {},
   "outputs": [],
   "source": [
    "sns.swarmplot(x='휴학이유',y='어려운점1', data=df)"
   ]
  },
  {
   "cell_type": "code",
   "execution_count": null,
   "metadata": {},
   "outputs": [],
   "source": [
    "pd.crosstab(df['휴학이유'],df['어려운점3'],margins=True)"
   ]
  },
  {
   "cell_type": "code",
   "execution_count": null,
   "metadata": {},
   "outputs": [],
   "source": [
    "pd.crosstab(df['휴학이유'],df['도움3'],margins=True)"
   ]
  },
  {
   "cell_type": "code",
   "execution_count": null,
   "metadata": {},
   "outputs": [],
   "source": [
    "pd.crosstab(df['학년'],df['진로계획'],margins=True)"
   ]
  },
  {
   "cell_type": "code",
   "execution_count": null,
   "metadata": {},
   "outputs": [],
   "source": [
    "pd.crosstab([df['학년'],],df['진로계획'],margins=True)"
   ]
  },
  {
   "cell_type": "code",
   "execution_count": null,
   "metadata": {},
   "outputs": [],
   "source": [
    "pd.crosstab([df['학년'],],df['진로계획'],normalize='index')"
   ]
  },
  {
   "cell_type": "code",
   "execution_count": null,
   "metadata": {},
   "outputs": [],
   "source": [
    "pd.crosstab([df['성별'],],df['진로계획'],normalize='index')"
   ]
  },
  {
   "cell_type": "code",
   "execution_count": null,
   "metadata": {},
   "outputs": [],
   "source": [
    "pd.crosstab([df['학년'],df['성별']],df['진로계획'],normalize='index')"
   ]
  },
  {
   "cell_type": "code",
   "execution_count": null,
   "metadata": {},
   "outputs": [],
   "source": [
    "pd.crosstab(df['학년'],df['필요성'],margins=True)"
   ]
  },
  {
   "cell_type": "code",
   "execution_count": null,
   "metadata": {},
   "outputs": [],
   "source": [
    "pd.crosstab([df['성별']],df['도움1'],normalize='index')"
   ]
  },
  {
   "cell_type": "code",
   "execution_count": null,
   "metadata": {},
   "outputs": [],
   "source": [
    "pd.crosstab([df['성별']],df['도움2'],normalize='index')"
   ]
  },
  {
   "cell_type": "code",
   "execution_count": null,
   "metadata": {},
   "outputs": [],
   "source": [
    "pd.crosstab([df['성별']],df['도움3'],normalize='index')"
   ]
  },
  {
   "cell_type": "code",
   "execution_count": null,
   "metadata": {},
   "outputs": [],
   "source": [
    "pd.crosstab([df['성별']],df['희망1'],normalize='index')"
   ]
  },
  {
   "cell_type": "code",
   "execution_count": null,
   "metadata": {},
   "outputs": [],
   "source": [
    "pd.crosstab([df['학년']],df['희망1'],normalize='index')"
   ]
  },
  {
   "cell_type": "code",
   "execution_count": null,
   "metadata": {},
   "outputs": [],
   "source": [
    "pd.crosstab([df['성별'],df['학년']],df['희망2'],margins=True)"
   ]
  },
  {
   "cell_type": "code",
   "execution_count": null,
   "metadata": {},
   "outputs": [],
   "source": [
    "pd.crosstab([df['성별'],df['학년']],df['희망3'],margins=True)"
   ]
  },
  {
   "cell_type": "code",
   "execution_count": null,
   "metadata": {},
   "outputs": [],
   "source": [
    "pd.crosstab([df['성별'],],df['상담회수'],margins=True)"
   ]
  },
  {
   "cell_type": "code",
   "execution_count": null,
   "metadata": {},
   "outputs": [],
   "source": [
    "pd.crosstab([df['성별'],df['학년']],df['상담회수'],margins=True)"
   ]
  },
  {
   "cell_type": "code",
   "execution_count": null,
   "metadata": {},
   "outputs": [],
   "source": [
    "#sns.set(font_scale=2)\n",
    "#sns.set_context(\"poster\")\n",
    "#sns.boxplot(x=\"학년\", y=\"필요성\", hue=\"성별\", data=df)\n",
    "#sns.boxplot(x='학년',y='필요성',data=df,hue='성별')\n",
    "#plt.setp(ax.get_legend().get_texts(), fontsize='22') # for legend text\n",
    "#plt.setp(ax.get_legend().get_title(), fontsize='32') # for legend title\n",
    "#plt.show()\n",
    "fig = sns.boxplot(x=\"학년\", y=\"필요성\", hue=\"성별\", data=df)\n",
    "fig.figure.suptitle(\"학년별 필요성\", fontsize = 24)\n",
    "plt.xlabel('학년', fontsize=18)\n",
    "plt.ylabel('필요성', fontsize=16)"
   ]
  },
  {
   "cell_type": "code",
   "execution_count": null,
   "metadata": {},
   "outputs": [],
   "source": [
    "fig = sns.boxplot(x=\"학년\", y=\"참여의사\", hue=\"성별\", data=df)\n",
    "fig.figure.suptitle(\"학년별 참여의사\", fontsize = 24)\n",
    "plt.xlabel('학년', fontsize=18)\n",
    "plt.ylabel('참여의사', fontsize=16)"
   ]
  },
  {
   "cell_type": "code",
   "execution_count": null,
   "metadata": {},
   "outputs": [],
   "source": [
    "sns.distplot(df['어려운점1'])"
   ]
  },
  {
   "cell_type": "code",
   "execution_count": null,
   "metadata": {},
   "outputs": [],
   "source": [
    "sns.boxplot(x='어려운점1', y='필요성', hue='성별', data=df)"
   ]
  },
  {
   "cell_type": "code",
   "execution_count": null,
   "metadata": {},
   "outputs": [],
   "source": [
    "sns.boxplot(x='어려운점1', y='참여의사', hue='성별', data=df)"
   ]
  },
  {
   "cell_type": "code",
   "execution_count": null,
   "metadata": {},
   "outputs": [],
   "source": [
    "sns.stripplot(x='학년', y='불필요이유', data=df)"
   ]
  },
  {
   "cell_type": "code",
   "execution_count": null,
   "metadata": {},
   "outputs": [],
   "source": [
    "sns.boxplot(x='학년', y='불참이유', data=df,hue='성별')"
   ]
  },
  {
   "cell_type": "code",
   "execution_count": null,
   "metadata": {},
   "outputs": [],
   "source": [
    "sns.boxplot(x='휴학이유',y='필요성', data=df,hue='성별')"
   ]
  },
  {
   "cell_type": "code",
   "execution_count": null,
   "metadata": {},
   "outputs": [],
   "source": [
    "sns.boxplot(x='휴학이유',y='참여의사', data=df,hue='성별')"
   ]
  },
  {
   "cell_type": "code",
   "execution_count": null,
   "metadata": {
    "scrolled": true
   },
   "outputs": [],
   "source": [
    "pd.crosstab(df['성별'],df['어려운점1'],margins=True)"
   ]
  },
  {
   "cell_type": "code",
   "execution_count": null,
   "metadata": {
    "scrolled": true
   },
   "outputs": [],
   "source": [
    "pd.crosstab([df['센터인지'], df['성별']],[df['필요성'],df['참여의사']],margins=True)"
   ]
  },
  {
   "cell_type": "code",
   "execution_count": null,
   "metadata": {},
   "outputs": [],
   "source": [
    "pd.crosstab([df['센터인지'], df['성별']],[df['참여의사']],margins=True)"
   ]
  },
  {
   "cell_type": "code",
   "execution_count": null,
   "metadata": {},
   "outputs": [],
   "source": [
    "pd.crosstab([df['성별'],df['학년']],df['프로그램인지'] ,margins=True)"
   ]
  },
  {
   "cell_type": "code",
   "execution_count": null,
   "metadata": {},
   "outputs": [],
   "source": [
    "sns.distplot(df['센터인지'])"
   ]
  },
  {
   "cell_type": "code",
   "execution_count": null,
   "metadata": {},
   "outputs": [],
   "source": [
    "sns.barplot(x='센터인지',y='필요성',data=df, hue='성별')"
   ]
  },
  {
   "cell_type": "code",
   "execution_count": null,
   "metadata": {},
   "outputs": [],
   "source": [
    "df.columns"
   ]
  },
  {
   "cell_type": "code",
   "execution_count": null,
   "metadata": {},
   "outputs": [],
   "source": [
    "df.isna().sum()"
   ]
  },
  {
   "cell_type": "code",
   "execution_count": 5,
   "metadata": {},
   "outputs": [
    {
     "name": "stderr",
     "output_type": "stream",
     "text": [
      "C:\\Users\\suer\\Anaconda3\\lib\\site-packages\\ipykernel_launcher.py:9: FutureWarning: Method .as_matrix will be removed in a future version. Use .values instead.\n",
      "  if __name__ == '__main__':\n"
     ]
    },
    {
     "name": "stdout",
     "output_type": "stream",
     "text": [
      "Init: initializing centroids\n",
      "Init: initializing clusters\n",
      "Starting iterations...\n",
      "Run: 1, iteration: 1/100, moves: 102, ncost: 22224.077846979057\n",
      "Run: 1, iteration: 2/100, moves: 21, ncost: 22094.293440091347\n",
      "Run: 1, iteration: 3/100, moves: 12, ncost: 22052.052081331887\n",
      "Run: 1, iteration: 4/100, moves: 3, ncost: 22041.871817448013\n",
      "Run: 1, iteration: 5/100, moves: 0, ncost: 22041.871817448013\n",
      "[array([[ 1.06818182,  1.27272727, 15.29545455,  2.44318182,  1.28409091,\n",
      "         2.57954545,  3.42045455,  2.78409091,  2.95454545,  2.64772727,\n",
      "         2.59090909,  3.19318182,  3.42045455,  4.39772727,  3.15909091,\n",
      "         4.11363636,  4.56818182,  3.39772727,  2.79545455,  2.95454545,\n",
      "         2.31818182],\n",
      "       [ 1.05128205,  1.1025641 , 34.23076923,  2.65384615,  1.24358974,\n",
      "         2.62820513,  3.51282051,  2.51282051,  3.06410256,  3.11538462,\n",
      "         2.80769231,  3.07692308,  3.35897436,  1.61538462,  3.41025641,\n",
      "         3.91025641,  3.8974359 ,  3.17948718,  2.70512821,  2.8974359 ,\n",
      "         2.91025641],\n",
      "       [ 1.088     ,  1.24      ,  4.832     ,  2.384     ,  1.864     ,\n",
      "         2.856     ,  3.032     ,  2.84      ,  2.696     ,  2.928     ,\n",
      "         2.6       ,  2.784     ,  3.736     ,  2.728     ,  2.92      ,\n",
      "         3.504     ,  4.08      ,  3.32      ,  2.48      ,  2.936     ,\n",
      "         2.68      ],\n",
      "       [ 1.19753086,  1.44444444, 25.90123457,  2.64197531,  2.17283951,\n",
      "         2.62962963,  3.38271605,  2.71604938,  2.77777778,  2.79012346,\n",
      "         2.39506173,  2.74074074,  3.61728395,  3.0617284 ,  2.96296296,\n",
      "         3.32098765,  4.34567901,  3.33333333,  2.92592593,  3.01234568,\n",
      "         2.79012346],\n",
      "       [ 1.675     ,  2.175     , 16.425     ,  3.225     ,  7.525     ,\n",
      "         2.275     ,  3.175     ,  2.825     ,  2.675     ,  2.8       ,\n",
      "         2.75      ,  3.275     ,  4.2       ,  3.75      ,  3.1       ,\n",
      "         3.7       ,  4.975     ,  3.15      ,  3.025     ,  2.875     ,\n",
      "         2.675     ]]), array([[1.],\n",
      "       [1.],\n",
      "       [1.],\n",
      "       [1.],\n",
      "       [1.]])]\n",
      "[1 1 1 1 1 1 1 1 1 1 1 1 1 1 1 1 1 1 1 1 3 3 3 3 3 3 3 2 2 2 2 2 2 2 2 2 2\n",
      " 2 2 2 2 3 1 3 1 3 3 3 2 2 2 2 2 2 2 2 2 2 2 2 1 1 1 1 1 1 1 1 1 1 1 2 2 2\n",
      " 2 2 2 2 2 2 4 3 0 3 4 0 0 3 3 3 4 0 3 3 3 4 4 4 3 3 4 2 2 2 2 2 2 2 2 2 2\n",
      " 2 2 2 2 2 2 2 2 4 0 2 2 4 2 0 2 0 2 2 0 0 0 4 2 2 2 2 2 2 2 2 2 2 2 2 2 2\n",
      " 2 2 2 2 2 2 3 3 3 3 3 3 0 0 0 0 0 0 4 0 0 0 0 2 2 2 2 2 2 2 2 4 0 4 0 0 0\n",
      " 0 4 0 4 4 4 3 3 3 3 3 3 3 3 3 4 0 0 0 0 0 0 0 0 0 0 0 0 1 1 1 1 1 1 1 1 1\n",
      " 1 1 0 0 0 0 0 0 4 0 0 0 0 0 4 4 0 0 4 0 0 0 2 2 2 2 2 2 2 2 2 2 2 2 2 2 2\n",
      " 2 4 3 3 3 3 3 3 3 3 3 3 3 1 1 1 1 1 1 1 1 1 1 3 3 3 3 3 3 3 3 3 3 3 3 3 3\n",
      " 3 3 3 3 3 4 4 4 0 4 0 0 4 0 0 0 0 4 0 0 0 0 0 2 2 2 2 2 2 2 2 2 2 0 0 0 0\n",
      " 0 4 4 4 0 0 0 0 0 4 4 0 0 0 0 4 0 4 4 4 0 3 3 3 3 3 3 3 3 3 3 3 3 3 3 2 2\n",
      " 2 2 2 2 2 2 2 2 2 2 1 1 1 1 1 1 1 1 1 1 1 1 1 1 1 1 1 1 1 1 1 1 1 1 4 0 4\n",
      " 0 0 0 0 0]\n"
     ]
    }
   ],
   "source": [
    "feature = ['성별', '구분','학과','학년','휴학이유','어려운점1','어려운점2','어려운점3','도움2','도움3','도움대상1','도움대상2','도움대상3','진로계획','희망1','희망2','희망3','필요성','불필요이유','참여의사','불참이유']\n",
    "target = ['도움1']\n",
    "allfeature = ['성별', '구분','학과','학년','휴학이유','어려운점1','어려운점2','어려운점3','도움1','도움2','도움3','도움대상1','도움대상2','도움대상3','진로계획','희망1','희망2','희망3','필요성','불필요이유','참여의사','불참이유']\n",
    "\n",
    "featuredata = df.loc[:,feature]\n",
    "targetdata = df.loc[:,target]\n",
    "data = np.c_[featuredata, targetdata]\n",
    "\n",
    "nparraydata = df.loc[:,allfeature].as_matrix()\n",
    "\n",
    "kp = KPrototypes(n_clusters=5, init='Huang', n_init=1, verbose=True)\n",
    "#kp.fit_predict(data, categorical=[4])\n",
    "kp.fit_predict(nparraydata, categorical=[5])\n",
    "lbl = kp.labels_\n",
    "lbl = pd.Series(lbl)\n",
    "df['label'] = lbl\n",
    "print(kp.cluster_centroids_)\n",
    "print(kp.labels_)"
   ]
  },
  {
   "cell_type": "code",
   "execution_count": 6,
   "metadata": {},
   "outputs": [
    {
     "data": {
      "text/plain": [
       "<seaborn.matrix.ClusterGrid at 0xf1bc860>"
      ]
     },
     "execution_count": 6,
     "metadata": {},
     "output_type": "execute_result"
    },
    {
     "data": {
      "image/png": "[encoded data removed]",
      "text/plain": [
       "<matplotlib.figure.Figure at 0xf1bce10>"
      ]
     },
     "metadata": {},
     "output_type": "display_data"
    }
   ],
   "source": [
    "sns.clustermap(df)"
   ]
  },
  {
   "cell_type": "code",
   "execution_count": null,
   "metadata": {},
   "outputs": [],
   "source": [
    "grp = df.groupby('label')"
   ]
  },
  {
   "cell_type": "code",
   "execution_count": null,
   "metadata": {},
   "outputs": [],
   "source": [
    "grp.describe()"
   ]
  },
  {
   "cell_type": "code",
   "execution_count": 7,
   "metadata": {},
   "outputs": [
    {
     "data": {
      "text/plain": [
       "<matplotlib.axes._subplots.AxesSubplot at 0x104c8fd0>"
      ]
     },
     "execution_count": 7,
     "metadata": {},
     "output_type": "execute_result"
    },
    {
     "data": {
      "image/png": "[encoded data removed]",
      "text/plain": [
       "<matplotlib.figure.Figure at 0x105b0b00>"
      ]
     },
     "metadata": {},
     "output_type": "display_data"
    }
   ],
   "source": [
    "sns.boxplot(x='휴학이유',y='필요성', data=df,hue='label')"
   ]
  },
  {
   "cell_type": "code",
   "execution_count": 8,
   "metadata": {},
   "outputs": [
    {
     "data": {
      "text/plain": [
       "<matplotlib.axes._subplots.AxesSubplot at 0x118f5cc0>"
      ]
     },
     "execution_count": 8,
     "metadata": {},
     "output_type": "execute_result"
    },
    {
     "data": {
      "image/png": "[encoded data removed]",
      "text/plain": [
       "<matplotlib.figure.Figure at 0x108d8ef0>"
      ]
     },
     "metadata": {},
     "output_type": "display_data"
    }
   ],
   "source": [
    "sns.boxplot('진로계획', '필요성', data=df, hue='label')"
   ]
  },
  {
   "cell_type": "code",
   "execution_count": 16,
   "metadata": {},
   "outputs": [
    {
     "data": {
      "text/plain": [
       "<matplotlib.axes._subplots.AxesSubplot at 0x12657828>"
      ]
     },
     "execution_count": 16,
     "metadata": {},
     "output_type": "execute_result"
    },
    {
     "data": {
      "image/png": "[encoded data removed]",
      "text/plain": [
       "<matplotlib.figure.Figure at 0x12ca8860>"
      ]
     },
     "metadata": {},
     "output_type": "display_data"
    }
   ],
   "source": [
    "sns.swarmplot('진로계획', '필요성', data=df, hue='label', dodge=True)"
   ]
  },
  {
   "cell_type": "code",
   "execution_count": 10,
   "metadata": {},
   "outputs": [
    {
     "data": {
      "text/plain": [
       "<matplotlib.axes._subplots.AxesSubplot at 0x11d23470>"
      ]
     },
     "execution_count": 10,
     "metadata": {},
     "output_type": "execute_result"
    },
    {
     "data": {
      "image/png": "[encoded data removed]",
      "text/plain": [
       "<matplotlib.figure.Figure at 0x105f3828>"
      ]
     },
     "metadata": {},
     "output_type": "display_data"
    }
   ],
   "source": [
    "sns.boxplot(x='희망1',y='도움1',data=df, hue='label')"
   ]
  },
  {
   "cell_type": "code",
   "execution_count": 15,
   "metadata": {},
   "outputs": [
    {
     "data": {
      "text/plain": [
       "<matplotlib.axes._subplots.AxesSubplot at 0x12704c18>"
      ]
     },
     "execution_count": 15,
     "metadata": {},
     "output_type": "execute_result"
    },
    {
     "data": {
      "image/png": "[encoded data removed]",
      "text/plain": [
       "<matplotlib.figure.Figure at 0x126570f0>"
      ]
     },
     "metadata": {},
     "output_type": "display_data"
    }
   ],
   "source": [
    "sns.countplot(x='필요성',data=df, hue='label')"
   ]
  },
  {
   "cell_type": "code",
   "execution_count": 11,
   "metadata": {},
   "outputs": [
    {
     "data": {
      "text/plain": [
       "<matplotlib.axes._subplots.AxesSubplot at 0x1236fcf8>"
      ]
     },
     "execution_count": 11,
     "metadata": {},
     "output_type": "execute_result"
    },
    {
     "data": {
      "image/png": "[encoded data removed]",
      "text/plain": [
       "<matplotlib.figure.Figure at 0x1236f5f8>"
      ]
     },
     "metadata": {},
     "output_type": "display_data"
    }
   ],
   "source": [
    "sns.regplot(x=df[\"희망1\"], y=df[\"도움1\"], fit_reg=False)"
   ]
  },
  {
   "cell_type": "code",
   "execution_count": 17,
   "metadata": {},
   "outputs": [
    {
     "data": {
      "text/plain": [
       "<matplotlib.axes._subplots.AxesSubplot at 0x12cd9358>"
      ]
     },
     "execution_count": 17,
     "metadata": {},
     "output_type": "execute_result"
    },
    {
     "data": {
      "image/png": "[encoded data removed]",
      "text/plain": [
       "<matplotlib.figure.Figure at 0x1062bc18>"
      ]
     },
     "metadata": {},
     "output_type": "display_data"
    }
   ],
   "source": [
    "sns.swarmplot(x=\"희망1\", y=\"도움1\", hue=\"label\", data=df)"
   ]
  },
  {
   "cell_type": "code",
   "execution_count": null,
   "metadata": {},
   "outputs": [],
   "source": [
    "pd.crosstab(df['label'],[df['도움1'], df['희망1'], df['도움대상1']], margins=True)"
   ]
  },
  {
   "cell_type": "code",
   "execution_count": null,
   "metadata": {},
   "outputs": [],
   "source": [
    "pd.crosstab(df['label'],[df['도움1']], normalize='index')"
   ]
  },
  {
   "cell_type": "code",
   "execution_count": null,
   "metadata": {},
   "outputs": [],
   "source": [
    "pd.crosstab(df['label'],[df['도움대상1']], normalize='index')"
   ]
  },
  {
   "cell_type": "code",
   "execution_count": null,
   "metadata": {},
   "outputs": [],
   "source": [
    "sns.swarmplot('희망1', '도움1', data=df, hue='label')"
   ]
  },
  {
   "cell_type": "code",
   "execution_count": 18,
   "metadata": {},
   "outputs": [
    {
     "data": {
      "text/plain": [
       "<matplotlib.axes._subplots.AxesSubplot at 0x147e1588>"
      ]
     },
     "execution_count": 18,
     "metadata": {},
     "output_type": "execute_result"
    },
    {
     "data": {
      "image/png": "[encoded data removed]",
      "text/plain": [
       "<matplotlib.figure.Figure at 0x131d23c8>"
      ]
     },
     "metadata": {},
     "output_type": "display_data"
    }
   ],
   "source": [
    "sns.swarmplot('희망1', '학년', data=df, hue='label')"
   ]
  },
  {
   "cell_type": "code",
   "execution_count": 19,
   "metadata": {},
   "outputs": [
    {
     "data": {
      "text/plain": [
       "<matplotlib.axes._subplots.AxesSubplot at 0x1321cd68>"
      ]
     },
     "execution_count": 19,
     "metadata": {},
     "output_type": "execute_result"
    },
    {
     "data": {
      "image/png": "[encoded data removed]",
      "text/plain": [
       "<matplotlib.figure.Figure at 0x14807b00>"
      ]
     },
     "metadata": {},
     "output_type": "display_data"
    }
   ],
   "source": [
    "sns.boxplot(x='학년',y='필요성',data=df, hue='label')"
   ]
  },
  {
   "cell_type": "code",
   "execution_count": null,
   "metadata": {},
   "outputs": [],
   "source": [
    "sns.boxplot('희망1', '도움1', data=df, hue='label')"
   ]
  },
  {
   "cell_type": "code",
   "execution_count": null,
   "metadata": {},
   "outputs": [],
   "source": [
    "nparraydata.shape"
   ]
  },
  {
   "cell_type": "code",
   "execution_count": null,
   "metadata": {},
   "outputs": [],
   "source": [
    "kp.cluster_centroids_"
   ]
  },
  {
   "cell_type": "code",
   "execution_count": null,
   "metadata": {},
   "outputs": [],
   "source": [
    "\"\"\"\n",
    "X = np.array(df.astype(float))\n",
    "distortions = []\n",
    "K = range(1,10)\n",
    "for k in K:\n",
    "    kp = KPrototypes(n_clusters=n_clusters, init='Huang', n_init=1, verbose=True)\n",
    "    kp.fit_predict(X, categorical=[k])\n",
    "    distortions.append(sum(np.min(cdist(X, kp.cluster_centroids_,'euclidean'), axis=1)) / X.shape[0])\n",
    "\n",
    "# Plot the elbow\n",
    "plt.plot(K, distortions, 'bx-')\n",
    "plt.xlabel('k')\n",
    "plt.ylabel('Distortion')\n",
    "plt.title('The Elbow Method showing the optimal k')\n",
    "plt.show()\n",
    "\"\"\""
   ]
  },
  {
   "cell_type": "code",
   "execution_count": 13,
   "metadata": {},
   "outputs": [
    {
     "name": "stdout",
     "output_type": "stream",
     "text": [
      "Init: initializing centroids\n",
      "Init: initializing clusters\n",
      "Starting iterations...\n",
      "Run: 1, iteration: 1/100, moves: 48, ncost: 34724.75743685782\n",
      "Run: 1, iteration: 2/100, moves: 9, ncost: 34637.09799089015\n",
      "Run: 1, iteration: 3/100, moves: 0, ncost: 34637.09799089015\n",
      "For n_clusters = 2 The average silhouette_score is : 0.4027202915246832\n",
      "Init: initializing centroids\n",
      "Init: initializing clusters\n",
      "Starting iterations...\n",
      "Run: 1, iteration: 1/100, moves: 89, ncost: 29863.88963149327\n",
      "Run: 1, iteration: 2/100, moves: 46, ncost: 28827.666738101827\n",
      "Run: 1, iteration: 3/100, moves: 9, ncost: 28777.591029329527\n",
      "Run: 1, iteration: 4/100, moves: 0, ncost: 28777.591029329527\n",
      "For n_clusters = 3 The average silhouette_score is : 0.28225707071007544\n",
      "Init: initializing centroids\n",
      "Init: initializing clusters\n",
      "Starting iterations...\n",
      "Run: 1, iteration: 1/100, moves: 59, ncost: 27215.70913684146\n",
      "Run: 1, iteration: 2/100, moves: 46, ncost: 26703.44823302676\n",
      "Run: 1, iteration: 3/100, moves: 23, ncost: 26577.63410514137\n",
      "Run: 1, iteration: 4/100, moves: 9, ncost: 26544.49615747695\n",
      "Run: 1, iteration: 5/100, moves: 3, ncost: 26540.297992927983\n",
      "Run: 1, iteration: 6/100, moves: 2, ncost: 26536.570535393617\n",
      "Run: 1, iteration: 7/100, moves: 1, ncost: 26534.708935325314\n",
      "Run: 1, iteration: 8/100, moves: 0, ncost: 26534.708935325314\n",
      "For n_clusters = 4 The average silhouette_score is : 0.19991100009569696\n",
      "Init: initializing centroids\n",
      "Init: initializing clusters\n",
      "Starting iterations...\n",
      "Run: 1, iteration: 1/100, moves: 167, ncost: 25652.704122731702\n",
      "Run: 1, iteration: 2/100, moves: 38, ncost: 25322.696282436234\n",
      "Run: 1, iteration: 3/100, moves: 12, ncost: 25245.90399653282\n",
      "Run: 1, iteration: 4/100, moves: 7, ncost: 25198.85910446454\n",
      "Run: 1, iteration: 5/100, moves: 2, ncost: 25192.11269582642\n",
      "Run: 1, iteration: 6/100, moves: 5, ncost: 25171.45096448867\n",
      "Run: 1, iteration: 7/100, moves: 2, ncost: 25164.51589535554\n",
      "Run: 1, iteration: 8/100, moves: 0, ncost: 25164.51589535554\n",
      "For n_clusters = 5 The average silhouette_score is : 0.18592079842625514\n",
      "Init: initializing centroids\n",
      "Init: initializing clusters\n",
      "Starting iterations...\n",
      "Run: 1, iteration: 1/100, moves: 117, ncost: 26539.81818742261\n",
      "Run: 1, iteration: 2/100, moves: 56, ncost: 25739.25087692899\n",
      "Run: 1, iteration: 3/100, moves: 18, ncost: 25514.15791160264\n",
      "Run: 1, iteration: 4/100, moves: 15, ncost: 25344.290213464057\n",
      "Run: 1, iteration: 5/100, moves: 10, ncost: 25290.41276590928\n",
      "Run: 1, iteration: 6/100, moves: 3, ncost: 25281.21908049008\n",
      "Run: 1, iteration: 7/100, moves: 0, ncost: 25281.21908049008\n",
      "For n_clusters = 6 The average silhouette_score is : 0.14575047647396644\n"
     ]
    }
   ],
   "source": [
    "X = np.array(df.astype(float))\n",
    "range_n_clusters = [2, 3, 4, 5, 6]\n",
    "for n_clusters in range_n_clusters:\n",
    "    clusterer = KPrototypes(n_clusters=n_clusters, init='Huang', n_init=1, verbose=True)\n",
    "    cluster_labels = clusterer.fit_predict(X,categorical=[n_clusters])\n",
    "    # The silhouette_score gives the average value for all the samples.\n",
    "    # This gives a perspective into the density and separation of the formed\n",
    "    # clusters\n",
    "    silhouette_avg = silhouette_score(X, cluster_labels)\n",
    "    print(\"For n_clusters =\", n_clusters,\n",
    "          \"The average silhouette_score is :\", silhouette_avg)\n",
    "    # Compute the silhouette scores for each sample\n",
    "    sample_silhouette_values = silhouette_samples(X, cluster_labels)"
   ]
  },
  {
   "cell_type": "code",
   "execution_count": null,
   "metadata": {},
   "outputs": [],
   "source": [
    "temp = df.columns\n",
    "i=-1\n",
    "for x in df.columns:\n",
    "    print(i+1, x)\n",
    "    i=i+1"
   ]
  },
  {
   "cell_type": "code",
   "execution_count": null,
   "metadata": {},
   "outputs": [],
   "source": [
    "cols = ['휴학이유', '어려운점1', '도움1', '진로계획', '필요성', '참여의사', '도움대상1', '희망1', '구분', '학과', '학년','성별', 'label']\n",
    "cols2 = ['어려운점1', '도움1', '도움대상1', '희망1', '학년','성별', 'label']\n",
    "cols3 = ['휴학이유', '진로계획', '필요성', '참여의사', '구분', '학과', 'label']\n",
    "dfnew = df.ix[:,(2,3,6,9,10,12,14,18,22,23,25,26,27)].values\n",
    "dfnew = pd.DataFrame(data=dfnew, columns= cols)\n",
    "dfnew2 = df.ix[:,(3,6,14,18,25,26,27)].values\n",
    "dfnew2 = pd.DataFrame(data=dfnew2, columns= cols2)\n",
    "dfnew3 = df.ix[:,(2,9,10,12,22,23,27)].values\n",
    "dfnew3 = pd.DataFrame(data=dfnew3, columns= cols3)\n",
    "sns.pairplot(dfnew2, kind=\"scatter\", hue=\"label\", markers=[\"o\", \"s\"], palette=\"Set2\")"
   ]
  },
  {
   "cell_type": "code",
   "execution_count": null,
   "metadata": {},
   "outputs": [],
   "source": [
    "sns.pairplot(dfnew, kind=\"scatter\", hue=\"label\", markers=[\"o\", \"s\"], palette=\"Set2\")"
   ]
  },
  {
   "cell_type": "code",
   "execution_count": null,
   "metadata": {},
   "outputs": [],
   "source": [
    "sns.pairplot(dfnew3, kind=\"scatter\", hue=\"label\", markers=[\"o\", \"s\"], palette=\"Set2\")"
   ]
  },
  {
   "cell_type": "code",
   "execution_count": null,
   "metadata": {},
   "outputs": [],
   "source": [
    "cols4 = ['센터인지','프로그램인지','휴학이유','불필요이유','불참이유','선호시간','상담회수','구분','연령', 'label']\n",
    "dfnew4 = df.ix[:,(0,1,2,11,13,17,21,22,24,27)].values\n",
    "dfnew4 = pd.DataFrame(data=dfnew4, columns= cols4)\n",
    "cols41 = ['센터인지','프로그램인지','휴학이유','불필요이유','label']\n",
    "dfnew41 = df.ix[:,(0,1,2,11,27)].values\n",
    "dfnew41 = pd.DataFrame(data=dfnew41, columns= cols41)\n",
    "cols42 = ['불참이유','선호시간','상담회수','구분','연령', 'label']\n",
    "dfnew42 = df.ix[:,(13,17,21,22, 24,27)].values\n",
    "dfnew42 = pd.DataFrame(data=dfnew, columns= cols42)\n",
    "sns.pairplot(dfnew4, kind=\"scatter\", hue=\"label\", markers=[\"o\", \"s\"], palette=\"Set2\")"
   ]
  },
  {
   "cell_type": "code",
   "execution_count": null,
   "metadata": {},
   "outputs": [],
   "source": [
    "sns.clustermap(dfnew)"
   ]
  },
  {
   "cell_type": "code",
   "execution_count": null,
   "metadata": {},
   "outputs": [],
   "source": [
    "sns.clustermap(dfnew2)"
   ]
  },
  {
   "cell_type": "code",
   "execution_count": null,
   "metadata": {},
   "outputs": [],
   "source": [
    "sns.clustermap(dfnew3)"
   ]
  },
  {
   "cell_type": "code",
   "execution_count": null,
   "metadata": {},
   "outputs": [],
   "source": [
    "sns.clustermap(dfnew4)"
   ]
  },
  {
   "cell_type": "code",
   "execution_count": null,
   "metadata": {},
   "outputs": [],
   "source": [
    "sns.clustermap(df)"
   ]
  },
  {
   "cell_type": "code",
   "execution_count": null,
   "metadata": {},
   "outputs": [],
   "source": [
    "sns.clustermap(df[df.label==0])"
   ]
  },
  {
   "cell_type": "code",
   "execution_count": null,
   "metadata": {},
   "outputs": [],
   "source": [
    "sns.clustermap(df[df.label==1])"
   ]
  },
  {
   "cell_type": "code",
   "execution_count": null,
   "metadata": {},
   "outputs": [],
   "source": [
    "df.head()"
   ]
  },
  {
   "cell_type": "code",
   "execution_count": null,
   "metadata": {},
   "outputs": [],
   "source": [
    "pd.crosstab(df.label,df['어려운점1'], margins=True)"
   ]
  },
  {
   "cell_type": "code",
   "execution_count": null,
   "metadata": {},
   "outputs": [],
   "source": [
    "pd.crosstab(df.label,df['성별'], normalize='index')"
   ]
  },
  {
   "cell_type": "code",
   "execution_count": null,
   "metadata": {},
   "outputs": [],
   "source": [
    "pd.crosstab([df['label'], df['성별']],df['학년'], normalize='index')"
   ]
  },
  {
   "cell_type": "code",
   "execution_count": null,
   "metadata": {},
   "outputs": [],
   "source": [
    "pd.crosstab([df.label,df['성별']],df['도움1'], normalize='index')"
   ]
  },
  {
   "cell_type": "code",
   "execution_count": null,
   "metadata": {},
   "outputs": [],
   "source": [
    "pd.crosstab([df.label,df['성별']],df['도움대상1'], normalize='index')"
   ]
  },
  {
   "cell_type": "code",
   "execution_count": null,
   "metadata": {},
   "outputs": [],
   "source": [
    "pd.crosstab([df.label,df['성별']],df['희망1'], normalize='index')"
   ]
  },
  {
   "cell_type": "code",
   "execution_count": null,
   "metadata": {},
   "outputs": [],
   "source": [
    "pd.crosstab(df.label,df['department'])"
   ]
  },
  {
   "cell_type": "code",
   "execution_count": null,
   "metadata": {},
   "outputs": [],
   "source": [
    "df['department'] = le.inverse_transform(df['학과'].astype(int))"
   ]
  },
  {
   "cell_type": "code",
   "execution_count": null,
   "metadata": {},
   "outputs": [],
   "source": [
    "df['department']"
   ]
  },
  {
   "cell_type": "code",
   "execution_count": null,
   "metadata": {},
   "outputs": [],
   "source": [
    "writer = pd.ExcelWriter('C:/Users/suer/Dropbox/Restart/restart.xlsx')\n",
    "df.to_excel(writer,'Sheet1')\n",
    "writer.save()"
   ]
  },
  {
   "cell_type": "code",
   "execution_count": null,
   "metadata": {},
   "outputs": [],
   "source": [
    "list(le.classes_)"
   ]
  },
  {
   "cell_type": "code",
   "execution_count": null,
   "metadata": {},
   "outputs": [],
   "source": []
  }
 ],
 "metadata": {
  "kernelspec": {
   "display_name": "Python 3",
   "language": "python",
   "name": "python3"
  },
  "language_info": {
   "codemirror_mode": {
    "name": "ipython",
    "version": 3
   },
   "file_extension": ".py",
   "mimetype": "text/x-python",
   "name": "python",
   "nbconvert_exporter": "python",
   "pygments_lexer": "ipython3",
   "version": "3.6.6"
  }
 },
 "nbformat": 4,
 "nbformat_minor": 2
}
